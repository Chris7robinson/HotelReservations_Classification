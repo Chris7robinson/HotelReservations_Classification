{
 "cells": [
  {
   "cell_type": "code",
   "execution_count": 117,
   "id": "a3f96990",
   "metadata": {},
   "outputs": [],
   "source": [
    "# Jesus is my Saviour!\n",
    "\n",
    "import pandas as pd \n",
    "import pandas as pd \n",
    "import numpy as np \n",
    "import matplotlib.pyplot as plt\n",
    "import seaborn as sns\n",
    "import statsmodels.api as sm\n",
    "from statsmodels.formula.api import ols\n",
    "from scipy.stats import chi2_contingency\n",
    "import matplotlib.pyplot as plt\n",
    "import seaborn as sns\n",
    "import plotly.express as px\n",
    "from sklearn.preprocessing import LabelEncoder \n",
    "from sklearn.tree import DecisionTreeClassifier as tree\n"
   ]
  },
  {
   "cell_type": "code",
   "execution_count": 118,
   "id": "2b5fbeee",
   "metadata": {},
   "outputs": [],
   "source": [
    "df=pd.read_csv('C:\\\\Users\\\\chris\\\\Downloads\\\\My_Projects\\\\Hotel_dataset\\\\Hotel Reservations.csv')"
   ]
  },
  {
   "cell_type": "code",
   "execution_count": 119,
   "id": "557de141",
   "metadata": {
    "scrolled": true
   },
   "outputs": [
    {
     "name": "stdout",
     "output_type": "stream",
     "text": [
      "<class 'pandas.core.frame.DataFrame'>\n",
      "RangeIndex: 36275 entries, 0 to 36274\n",
      "Data columns (total 19 columns):\n",
      " #   Column                                Non-Null Count  Dtype  \n",
      "---  ------                                --------------  -----  \n",
      " 0   Booking_ID                            36275 non-null  object \n",
      " 1   no_of_adults                          36275 non-null  int64  \n",
      " 2   no_of_children                        36275 non-null  int64  \n",
      " 3   no_of_weekend_nights                  36275 non-null  int64  \n",
      " 4   no_of_week_nights                     36275 non-null  int64  \n",
      " 5   type_of_meal_plan                     36275 non-null  object \n",
      " 6   required_car_parking_space            36275 non-null  int64  \n",
      " 7   room_type_reserved                    36275 non-null  object \n",
      " 8   lead_time                             36275 non-null  int64  \n",
      " 9   arrival_year                          36275 non-null  int64  \n",
      " 10  arrival_month                         36275 non-null  int64  \n",
      " 11  arrival_date                          36275 non-null  int64  \n",
      " 12  market_segment_type                   36275 non-null  object \n",
      " 13  repeated_guest                        36275 non-null  int64  \n",
      " 14  no_of_previous_cancellations          36275 non-null  int64  \n",
      " 15  no_of_previous_bookings_not_canceled  36275 non-null  int64  \n",
      " 16  avg_price_per_room                    36275 non-null  float64\n",
      " 17  no_of_special_requests                36275 non-null  int64  \n",
      " 18  booking_status                        36275 non-null  object \n",
      "dtypes: float64(1), int64(13), object(5)\n",
      "memory usage: 5.3+ MB\n"
     ]
    }
   ],
   "source": [
    "df.info()"
   ]
  },
  {
   "cell_type": "code",
   "execution_count": 120,
   "id": "9ed07055",
   "metadata": {},
   "outputs": [
    {
     "data": {
      "text/html": [
       "<div>\n",
       "<style scoped>\n",
       "    .dataframe tbody tr th:only-of-type {\n",
       "        vertical-align: middle;\n",
       "    }\n",
       "\n",
       "    .dataframe tbody tr th {\n",
       "        vertical-align: top;\n",
       "    }\n",
       "\n",
       "    .dataframe thead th {\n",
       "        text-align: right;\n",
       "    }\n",
       "</style>\n",
       "<table border=\"1\" class=\"dataframe\">\n",
       "  <thead>\n",
       "    <tr style=\"text-align: right;\">\n",
       "      <th></th>\n",
       "      <th>no_of_adults</th>\n",
       "      <th>no_of_children</th>\n",
       "      <th>no_of_weekend_nights</th>\n",
       "      <th>no_of_week_nights</th>\n",
       "      <th>required_car_parking_space</th>\n",
       "      <th>lead_time</th>\n",
       "      <th>arrival_year</th>\n",
       "      <th>arrival_month</th>\n",
       "      <th>arrival_date</th>\n",
       "      <th>repeated_guest</th>\n",
       "      <th>no_of_previous_cancellations</th>\n",
       "      <th>no_of_previous_bookings_not_canceled</th>\n",
       "      <th>avg_price_per_room</th>\n",
       "      <th>no_of_special_requests</th>\n",
       "    </tr>\n",
       "  </thead>\n",
       "  <tbody>\n",
       "    <tr>\n",
       "      <th>count</th>\n",
       "      <td>36275.000000</td>\n",
       "      <td>36275.000000</td>\n",
       "      <td>36275.000000</td>\n",
       "      <td>36275.000000</td>\n",
       "      <td>36275.000000</td>\n",
       "      <td>36275.000000</td>\n",
       "      <td>36275.000000</td>\n",
       "      <td>36275.000000</td>\n",
       "      <td>36275.000000</td>\n",
       "      <td>36275.000000</td>\n",
       "      <td>36275.000000</td>\n",
       "      <td>36275.000000</td>\n",
       "      <td>36275.000000</td>\n",
       "      <td>36275.000000</td>\n",
       "    </tr>\n",
       "    <tr>\n",
       "      <th>mean</th>\n",
       "      <td>1.844962</td>\n",
       "      <td>0.105279</td>\n",
       "      <td>0.810724</td>\n",
       "      <td>2.204300</td>\n",
       "      <td>0.030986</td>\n",
       "      <td>85.232557</td>\n",
       "      <td>2017.820427</td>\n",
       "      <td>7.423653</td>\n",
       "      <td>15.596995</td>\n",
       "      <td>0.025637</td>\n",
       "      <td>0.023349</td>\n",
       "      <td>0.153411</td>\n",
       "      <td>103.423539</td>\n",
       "      <td>0.619655</td>\n",
       "    </tr>\n",
       "    <tr>\n",
       "      <th>std</th>\n",
       "      <td>0.518715</td>\n",
       "      <td>0.402648</td>\n",
       "      <td>0.870644</td>\n",
       "      <td>1.410905</td>\n",
       "      <td>0.173281</td>\n",
       "      <td>85.930817</td>\n",
       "      <td>0.383836</td>\n",
       "      <td>3.069894</td>\n",
       "      <td>8.740447</td>\n",
       "      <td>0.158053</td>\n",
       "      <td>0.368331</td>\n",
       "      <td>1.754171</td>\n",
       "      <td>35.089424</td>\n",
       "      <td>0.786236</td>\n",
       "    </tr>\n",
       "    <tr>\n",
       "      <th>min</th>\n",
       "      <td>0.000000</td>\n",
       "      <td>0.000000</td>\n",
       "      <td>0.000000</td>\n",
       "      <td>0.000000</td>\n",
       "      <td>0.000000</td>\n",
       "      <td>0.000000</td>\n",
       "      <td>2017.000000</td>\n",
       "      <td>1.000000</td>\n",
       "      <td>1.000000</td>\n",
       "      <td>0.000000</td>\n",
       "      <td>0.000000</td>\n",
       "      <td>0.000000</td>\n",
       "      <td>0.000000</td>\n",
       "      <td>0.000000</td>\n",
       "    </tr>\n",
       "    <tr>\n",
       "      <th>25%</th>\n",
       "      <td>2.000000</td>\n",
       "      <td>0.000000</td>\n",
       "      <td>0.000000</td>\n",
       "      <td>1.000000</td>\n",
       "      <td>0.000000</td>\n",
       "      <td>17.000000</td>\n",
       "      <td>2018.000000</td>\n",
       "      <td>5.000000</td>\n",
       "      <td>8.000000</td>\n",
       "      <td>0.000000</td>\n",
       "      <td>0.000000</td>\n",
       "      <td>0.000000</td>\n",
       "      <td>80.300000</td>\n",
       "      <td>0.000000</td>\n",
       "    </tr>\n",
       "    <tr>\n",
       "      <th>50%</th>\n",
       "      <td>2.000000</td>\n",
       "      <td>0.000000</td>\n",
       "      <td>1.000000</td>\n",
       "      <td>2.000000</td>\n",
       "      <td>0.000000</td>\n",
       "      <td>57.000000</td>\n",
       "      <td>2018.000000</td>\n",
       "      <td>8.000000</td>\n",
       "      <td>16.000000</td>\n",
       "      <td>0.000000</td>\n",
       "      <td>0.000000</td>\n",
       "      <td>0.000000</td>\n",
       "      <td>99.450000</td>\n",
       "      <td>0.000000</td>\n",
       "    </tr>\n",
       "    <tr>\n",
       "      <th>75%</th>\n",
       "      <td>2.000000</td>\n",
       "      <td>0.000000</td>\n",
       "      <td>2.000000</td>\n",
       "      <td>3.000000</td>\n",
       "      <td>0.000000</td>\n",
       "      <td>126.000000</td>\n",
       "      <td>2018.000000</td>\n",
       "      <td>10.000000</td>\n",
       "      <td>23.000000</td>\n",
       "      <td>0.000000</td>\n",
       "      <td>0.000000</td>\n",
       "      <td>0.000000</td>\n",
       "      <td>120.000000</td>\n",
       "      <td>1.000000</td>\n",
       "    </tr>\n",
       "    <tr>\n",
       "      <th>max</th>\n",
       "      <td>4.000000</td>\n",
       "      <td>10.000000</td>\n",
       "      <td>7.000000</td>\n",
       "      <td>17.000000</td>\n",
       "      <td>1.000000</td>\n",
       "      <td>443.000000</td>\n",
       "      <td>2018.000000</td>\n",
       "      <td>12.000000</td>\n",
       "      <td>31.000000</td>\n",
       "      <td>1.000000</td>\n",
       "      <td>13.000000</td>\n",
       "      <td>58.000000</td>\n",
       "      <td>540.000000</td>\n",
       "      <td>5.000000</td>\n",
       "    </tr>\n",
       "  </tbody>\n",
       "</table>\n",
       "</div>"
      ],
      "text/plain": [
       "       no_of_adults  no_of_children  no_of_weekend_nights  no_of_week_nights  \\\n",
       "count  36275.000000    36275.000000          36275.000000       36275.000000   \n",
       "mean       1.844962        0.105279              0.810724           2.204300   \n",
       "std        0.518715        0.402648              0.870644           1.410905   \n",
       "min        0.000000        0.000000              0.000000           0.000000   \n",
       "25%        2.000000        0.000000              0.000000           1.000000   \n",
       "50%        2.000000        0.000000              1.000000           2.000000   \n",
       "75%        2.000000        0.000000              2.000000           3.000000   \n",
       "max        4.000000       10.000000              7.000000          17.000000   \n",
       "\n",
       "       required_car_parking_space     lead_time  arrival_year  arrival_month  \\\n",
       "count                36275.000000  36275.000000  36275.000000   36275.000000   \n",
       "mean                     0.030986     85.232557   2017.820427       7.423653   \n",
       "std                      0.173281     85.930817      0.383836       3.069894   \n",
       "min                      0.000000      0.000000   2017.000000       1.000000   \n",
       "25%                      0.000000     17.000000   2018.000000       5.000000   \n",
       "50%                      0.000000     57.000000   2018.000000       8.000000   \n",
       "75%                      0.000000    126.000000   2018.000000      10.000000   \n",
       "max                      1.000000    443.000000   2018.000000      12.000000   \n",
       "\n",
       "       arrival_date  repeated_guest  no_of_previous_cancellations  \\\n",
       "count  36275.000000    36275.000000                  36275.000000   \n",
       "mean      15.596995        0.025637                      0.023349   \n",
       "std        8.740447        0.158053                      0.368331   \n",
       "min        1.000000        0.000000                      0.000000   \n",
       "25%        8.000000        0.000000                      0.000000   \n",
       "50%       16.000000        0.000000                      0.000000   \n",
       "75%       23.000000        0.000000                      0.000000   \n",
       "max       31.000000        1.000000                     13.000000   \n",
       "\n",
       "       no_of_previous_bookings_not_canceled  avg_price_per_room  \\\n",
       "count                          36275.000000        36275.000000   \n",
       "mean                               0.153411          103.423539   \n",
       "std                                1.754171           35.089424   \n",
       "min                                0.000000            0.000000   \n",
       "25%                                0.000000           80.300000   \n",
       "50%                                0.000000           99.450000   \n",
       "75%                                0.000000          120.000000   \n",
       "max                               58.000000          540.000000   \n",
       "\n",
       "       no_of_special_requests  \n",
       "count            36275.000000  \n",
       "mean                 0.619655  \n",
       "std                  0.786236  \n",
       "min                  0.000000  \n",
       "25%                  0.000000  \n",
       "50%                  0.000000  \n",
       "75%                  1.000000  \n",
       "max                  5.000000  "
      ]
     },
     "execution_count": 120,
     "metadata": {},
     "output_type": "execute_result"
    }
   ],
   "source": [
    "df.describe()"
   ]
  },
  {
   "cell_type": "code",
   "execution_count": 121,
   "id": "56a2dbf0",
   "metadata": {},
   "outputs": [
    {
     "data": {
      "text/plain": [
       "Booking_ID                              0\n",
       "no_of_adults                            0\n",
       "no_of_children                          0\n",
       "no_of_weekend_nights                    0\n",
       "no_of_week_nights                       0\n",
       "type_of_meal_plan                       0\n",
       "required_car_parking_space              0\n",
       "room_type_reserved                      0\n",
       "lead_time                               0\n",
       "arrival_year                            0\n",
       "arrival_month                           0\n",
       "arrival_date                            0\n",
       "market_segment_type                     0\n",
       "repeated_guest                          0\n",
       "no_of_previous_cancellations            0\n",
       "no_of_previous_bookings_not_canceled    0\n",
       "avg_price_per_room                      0\n",
       "no_of_special_requests                  0\n",
       "booking_status                          0\n",
       "dtype: int64"
      ]
     },
     "execution_count": 121,
     "metadata": {},
     "output_type": "execute_result"
    }
   ],
   "source": [
    "df.isnull().sum()"
   ]
  },
  {
   "cell_type": "code",
   "execution_count": 122,
   "id": "a0653e00",
   "metadata": {},
   "outputs": [
    {
     "name": "stdout",
     "output_type": "stream",
     "text": [
      "<class 'pandas.core.frame.DataFrame'>\n",
      "RangeIndex: 36275 entries, 0 to 36274\n",
      "Data columns (total 19 columns):\n",
      " #   Column                                Non-Null Count  Dtype  \n",
      "---  ------                                --------------  -----  \n",
      " 0   Booking_ID                            36275 non-null  object \n",
      " 1   no_of_adults                          36275 non-null  int64  \n",
      " 2   no_of_children                        36275 non-null  int64  \n",
      " 3   no_of_weekend_nights                  36275 non-null  int64  \n",
      " 4   no_of_week_nights                     36275 non-null  int64  \n",
      " 5   type_of_meal_plan                     36275 non-null  object \n",
      " 6   required_car_parking_space            36275 non-null  int64  \n",
      " 7   room_type_reserved                    36275 non-null  object \n",
      " 8   lead_time                             36275 non-null  int64  \n",
      " 9   arrival_year                          36275 non-null  int64  \n",
      " 10  arrival_month                         36275 non-null  int64  \n",
      " 11  arrival_date                          36275 non-null  int64  \n",
      " 12  market_segment_type                   36275 non-null  object \n",
      " 13  repeated_guest                        36275 non-null  int64  \n",
      " 14  no_of_previous_cancellations          36275 non-null  int64  \n",
      " 15  no_of_previous_bookings_not_canceled  36275 non-null  int64  \n",
      " 16  avg_price_per_room                    36275 non-null  float64\n",
      " 17  no_of_special_requests                36275 non-null  int64  \n",
      " 18  booking_status                        36275 non-null  object \n",
      "dtypes: float64(1), int64(13), object(5)\n",
      "memory usage: 5.3+ MB\n"
     ]
    }
   ],
   "source": [
    "df.info()"
   ]
  },
  {
   "cell_type": "code",
   "execution_count": 123,
   "id": "15332240",
   "metadata": {},
   "outputs": [
    {
     "data": {
      "text/plain": [
       "Not_Canceled    24390\n",
       "Canceled        11885\n",
       "Name: booking_status, dtype: int64"
      ]
     },
     "execution_count": 123,
     "metadata": {},
     "output_type": "execute_result"
    }
   ],
   "source": [
    "df.booking_status.value_counts()"
   ]
  },
  {
   "cell_type": "code",
   "execution_count": 124,
   "id": "f011f43b",
   "metadata": {},
   "outputs": [
    {
     "data": {
      "text/plain": [
       "Text(0.5, 1.0, 'CountPlot of booking_status')"
      ]
     },
     "execution_count": 124,
     "metadata": {},
     "output_type": "execute_result"
    },
    {
     "data": {
      "image/png": "[encoded data removed]",
      "text/plain": [
       "<Figure size 432x288 with 1 Axes>"
      ]
     },
     "metadata": {
      "needs_background": "light"
     },
     "output_type": "display_data"
    }
   ],
   "source": [
    "# Count Plot\n",
    "sns.countplot(x = 'booking_status', data = df , palette = 'hot')\n",
    "plt.title('CountPlot of booking_status')\n"
   ]
  },
  {
   "cell_type": "code",
   "execution_count": 125,
   "id": "7b0cd337",
   "metadata": {},
   "outputs": [],
   "source": [
    "df['booking_status']=df['booking_status'].astype('category').cat.codes"
   ]
  },
  {
   "cell_type": "code",
   "execution_count": 126,
   "id": "36d03588",
   "metadata": {},
   "outputs": [
    {
     "data": {
      "text/plain": [
       "1    24390\n",
       "0    11885\n",
       "Name: booking_status, dtype: int64"
      ]
     },
     "execution_count": 126,
     "metadata": {},
     "output_type": "execute_result"
    }
   ],
   "source": [
    "df.booking_status.value_counts()# 0 cancelled, 1 not cancelled"
   ]
  },
  {
   "cell_type": "code",
   "execution_count": 127,
   "id": "bb8bca40",
   "metadata": {},
   "outputs": [],
   "source": [
    "df = df.drop(['Booking_ID'], axis = 1)"
   ]
  },
  {
   "cell_type": "code",
   "execution_count": 128,
   "id": "dbd348e6",
   "metadata": {},
   "outputs": [
    {
     "name": "stdout",
     "output_type": "stream",
     "text": [
      "<class 'pandas.core.frame.DataFrame'>\n",
      "RangeIndex: 36275 entries, 0 to 36274\n",
      "Data columns (total 18 columns):\n",
      " #   Column                                Non-Null Count  Dtype  \n",
      "---  ------                                --------------  -----  \n",
      " 0   no_of_adults                          36275 non-null  int64  \n",
      " 1   no_of_children                        36275 non-null  int64  \n",
      " 2   no_of_weekend_nights                  36275 non-null  int64  \n",
      " 3   no_of_week_nights                     36275 non-null  int64  \n",
      " 4   type_of_meal_plan                     36275 non-null  object \n",
      " 5   required_car_parking_space            36275 non-null  int64  \n",
      " 6   room_type_reserved                    36275 non-null  object \n",
      " 7   lead_time                             36275 non-null  int64  \n",
      " 8   arrival_year                          36275 non-null  int64  \n",
      " 9   arrival_month                         36275 non-null  int64  \n",
      " 10  arrival_date                          36275 non-null  int64  \n",
      " 11  market_segment_type                   36275 non-null  object \n",
      " 12  repeated_guest                        36275 non-null  int64  \n",
      " 13  no_of_previous_cancellations          36275 non-null  int64  \n",
      " 14  no_of_previous_bookings_not_canceled  36275 non-null  int64  \n",
      " 15  avg_price_per_room                    36275 non-null  float64\n",
      " 16  no_of_special_requests                36275 non-null  int64  \n",
      " 17  booking_status                        36275 non-null  int8   \n",
      "dtypes: float64(1), int64(13), int8(1), object(3)\n",
      "memory usage: 4.7+ MB\n"
     ]
    }
   ],
   "source": [
    "df.info()"
   ]
  },
  {
   "cell_type": "code",
   "execution_count": 129,
   "id": "09ee872c",
   "metadata": {},
   "outputs": [
    {
     "data": {
      "text/plain": [
       "2    26108\n",
       "1     7695\n",
       "3     2317\n",
       "0      139\n",
       "4       16\n",
       "Name: no_of_adults, dtype: int64"
      ]
     },
     "execution_count": 129,
     "metadata": {},
     "output_type": "execute_result"
    }
   ],
   "source": [
    "df.no_of_adults.value_counts()"
   ]
  },
  {
   "cell_type": "code",
   "execution_count": 130,
   "id": "8a9a5fd2",
   "metadata": {},
   "outputs": [
    {
     "data": {
      "text/plain": [
       "Text(0.5, 1.0, 'Barplot of no_of_adults')"
      ]
     },
     "execution_count": 130,
     "metadata": {},
     "output_type": "execute_result"
    },
    {
     "data": {
      "image/png": "[encoded data removed]",
      "text/plain": [
       "<Figure size 432x288 with 1 Axes>"
      ]
     },
     "metadata": {
      "needs_background": "light"
     },
     "output_type": "display_data"
    }
   ],
   "source": [
    "# Bar Plot\n",
    "sns.countplot(x = 'no_of_adults', hue='booking_status', data = df , palette = 'hot')\n",
    "plt.title('Barplot of no_of_adults')"
   ]
  },
  {
   "cell_type": "code",
   "execution_count": 131,
   "id": "bdf3d792",
   "metadata": {},
   "outputs": [
    {
     "data": {
      "text/plain": [
       "(339.16395984885366,\n",
       " 3.831907699242197e-72,\n",
       " 4,\n",
       " array([[4.55414197e+01, 9.34585803e+01],\n",
       "        [2.52115989e+03, 5.17384011e+03],\n",
       "        [8.55392364e+03, 1.75540764e+04],\n",
       "        [7.59132874e+02, 1.55786713e+03],\n",
       "        [5.24217781e+00, 1.07578222e+01]]))"
      ]
     },
     "execution_count": 131,
     "metadata": {},
     "output_type": "execute_result"
    }
   ],
   "source": [
    "#Hypothesis Testing\n",
    "from scipy.stats import chi2_contingency\n",
    "ct_house = pd.crosstab(df.no_of_adults, df.booking_status)\n",
    "chi2_contingency(ct_house, correction = False)\n",
    "# p_val = 3.8e-7, Ho reject, hence association exists, good predictor "
   ]
  },
  {
   "cell_type": "code",
   "execution_count": 132,
   "id": "8d87885e",
   "metadata": {},
   "outputs": [
    {
     "data": {
      "text/plain": [
       "0.0"
      ]
     },
     "execution_count": 132,
     "metadata": {},
     "output_type": "execute_result"
    }
   ],
   "source": [
    "round(3.831907699242197e-72,4)"
   ]
  },
  {
   "cell_type": "code",
   "execution_count": 133,
   "id": "c8741c3e",
   "metadata": {},
   "outputs": [
    {
     "data": {
      "text/plain": [
       "0     33577\n",
       "1      1618\n",
       "2      1058\n",
       "3        19\n",
       "9         2\n",
       "10        1\n",
       "Name: no_of_children, dtype: int64"
      ]
     },
     "execution_count": 133,
     "metadata": {},
     "output_type": "execute_result"
    }
   ],
   "source": [
    "df.no_of_children.value_counts()"
   ]
  },
  {
   "cell_type": "code",
   "execution_count": 134,
   "id": "db123119",
   "metadata": {},
   "outputs": [
    {
     "data": {
      "text/plain": [
       "Text(0.5, 1.0, 'Barplot of no_of_children')"
      ]
     },
     "execution_count": 134,
     "metadata": {},
     "output_type": "execute_result"
    },
    {
     "data": {
      "image/png": "[encoded data removed]",
      "text/plain": [
       "<Figure size 432x288 with 1 Axes>"
      ]
     },
     "metadata": {
      "needs_background": "light"
     },
     "output_type": "display_data"
    }
   ],
   "source": [
    "# Bar Plot\n",
    "sns.countplot(x = 'no_of_children',hue='booking_status', data = df , palette = 'hot')\n",
    "plt.title('Barplot of no_of_children')"
   ]
  },
  {
   "cell_type": "code",
   "execution_count": 135,
   "id": "6358e438",
   "metadata": {},
   "outputs": [
    {
     "data": {
      "text/plain": [
       "(55.563035490733476,\n",
       " 9.996981480354703e-11,\n",
       " 5,\n",
       " array([[1.10010378e+04, 5.30115231e+02, 3.46639008e+02, 6.22508615e+00,\n",
       "         6.55272226e-01, 3.27636113e-01],\n",
       "        [2.25759622e+04, 1.08788477e+03, 7.11360992e+02, 1.27749139e+01,\n",
       "         1.34472777e+00, 6.72363887e-01]]))"
      ]
     },
     "execution_count": 135,
     "metadata": {},
     "output_type": "execute_result"
    }
   ],
   "source": [
    "#Hypothesis Testing\n",
    "from scipy.stats import chi2_contingency\n",
    "ct_house = pd.crosstab(df.booking_status, df.no_of_children)\n",
    "chi2_contingency(ct_house, correction = False)\n",
    "# p_val = 9.99-e, Ho reject, hence association exists, good predictor"
   ]
  },
  {
   "cell_type": "code",
   "execution_count": 136,
   "id": "7fade8a8",
   "metadata": {},
   "outputs": [
    {
     "data": {
      "text/plain": [
       "0.0"
      ]
     },
     "execution_count": 136,
     "metadata": {},
     "output_type": "execute_result"
    }
   ],
   "source": [
    "round(9.996981480354703e-11,4)"
   ]
  },
  {
   "cell_type": "code",
   "execution_count": 137,
   "id": "2e4e5613",
   "metadata": {},
   "outputs": [
    {
     "data": {
      "text/plain": [
       "0    16872\n",
       "1     9995\n",
       "2     9071\n",
       "3      153\n",
       "4      129\n",
       "5       34\n",
       "6       20\n",
       "7        1\n",
       "Name: no_of_weekend_nights, dtype: int64"
      ]
     },
     "execution_count": 137,
     "metadata": {},
     "output_type": "execute_result"
    }
   ],
   "source": [
    "df.no_of_weekend_nights.value_counts()"
   ]
  },
  {
   "cell_type": "code",
   "execution_count": 138,
   "id": "c76a35de",
   "metadata": {},
   "outputs": [
    {
     "data": {
      "text/plain": [
       "Text(0.5, 1.0, 'Barplot of no_of_weekend_nights')"
      ]
     },
     "execution_count": 138,
     "metadata": {},
     "output_type": "execute_result"
    },
    {
     "data": {
      "image/png": "[encoded data removed]",
      "text/plain": [
       "<Figure size 432x288 with 1 Axes>"
      ]
     },
     "metadata": {
      "needs_background": "light"
     },
     "output_type": "display_data"
    }
   ],
   "source": [
    "sns.countplot(x='no_of_weekend_nights',hue='booking_status', data=df,palette='hot')\n",
    "plt.title('Barplot of no_of_weekend_nights')"
   ]
  },
  {
   "cell_type": "code",
   "execution_count": 139,
   "id": "af384857",
   "metadata": {},
   "outputs": [
    {
     "data": {
      "text/plain": [
       "(219.4451795316278,\n",
       " 8.652980406070009e-44,\n",
       " 7,\n",
       " array([[5.52787650e+03, 3.27472295e+03, 2.97198718e+03, 5.01283253e+01,\n",
       "         4.22650586e+01, 1.11396278e+01, 6.55272226e+00, 3.27636113e-01],\n",
       "        [1.13441235e+04, 6.72027705e+03, 6.09901282e+03, 1.02871675e+02,\n",
       "         8.67349414e+01, 2.28603722e+01, 1.34472777e+01, 6.72363887e-01]]))"
      ]
     },
     "execution_count": 139,
     "metadata": {},
     "output_type": "execute_result"
    }
   ],
   "source": [
    "#Hypothesis Testing\n",
    "from scipy.stats import chi2_contingency\n",
    "ct_house = pd.crosstab(df.booking_status, df.no_of_weekend_nights)\n",
    "chi2_contingency(ct_house, correction = False)\n",
    "# p_val = 9.99-e, Ho reject, hence association exists, good predictor"
   ]
  },
  {
   "cell_type": "code",
   "execution_count": 140,
   "id": "aa812180",
   "metadata": {},
   "outputs": [
    {
     "data": {
      "text/plain": [
       "0.0"
      ]
     },
     "execution_count": 140,
     "metadata": {},
     "output_type": "execute_result"
    }
   ],
   "source": [
    "round(8.652980406070009e-44,4)"
   ]
  },
  {
   "cell_type": "code",
   "execution_count": 141,
   "id": "a60c87c9",
   "metadata": {},
   "outputs": [
    {
     "data": {
      "text/plain": [
       "2     11444\n",
       "1      9488\n",
       "3      7839\n",
       "4      2990\n",
       "0      2387\n",
       "5      1614\n",
       "6       189\n",
       "7       113\n",
       "10       62\n",
       "8        62\n",
       "9        34\n",
       "11       17\n",
       "15       10\n",
       "12        9\n",
       "14        7\n",
       "13        5\n",
       "17        3\n",
       "16        2\n",
       "Name: no_of_week_nights, dtype: int64"
      ]
     },
     "execution_count": 141,
     "metadata": {},
     "output_type": "execute_result"
    }
   ],
   "source": [
    "df.no_of_week_nights.value_counts()"
   ]
  },
  {
   "cell_type": "code",
   "execution_count": 142,
   "id": "b6e1fffd",
   "metadata": {},
   "outputs": [
    {
     "data": {
      "text/plain": [
       "Text(0.5, 1.0, 'Barplot of no_of_week_nights')"
      ]
     },
     "execution_count": 142,
     "metadata": {},
     "output_type": "execute_result"
    },
    {
     "data": {
      "image/png": "[encoded data removed]",
      "text/plain": [
       "<Figure size 432x288 with 1 Axes>"
      ]
     },
     "metadata": {
      "needs_background": "light"
     },
     "output_type": "display_data"
    }
   ],
   "source": [
    "sns.countplot(x='no_of_week_nights', hue='booking_status',data=df,palette='hot')\n",
    "plt.title('Barplot of no_of_week_nights')"
   ]
  },
  {
   "cell_type": "code",
   "execution_count": 143,
   "id": "bb4f7703",
   "metadata": {},
   "outputs": [
    {
     "data": {
      "text/plain": [
       "(434.5183836997645,\n",
       " 1.0986460902695565e-81,\n",
       " 17,\n",
       " array([[7.82067402e+02, 3.10861144e+03, 3.74946768e+03, 2.56833949e+03,\n",
       "         9.79631978e+02, 5.28804686e+02, 6.19232254e+01, 3.70228808e+01,\n",
       "         2.03134390e+01, 1.11396278e+01, 2.03134390e+01, 5.56981392e+00,\n",
       "         2.94872502e+00, 1.63818057e+00, 2.29345279e+00, 3.27636113e+00,\n",
       "         6.55272226e-01, 9.82908339e-01],\n",
       "        [1.60493260e+03, 6.37938856e+03, 7.69453232e+03, 5.27066051e+03,\n",
       "         2.01036802e+03, 1.08519531e+03, 1.27076775e+02, 7.59771192e+01,\n",
       "         4.16865610e+01, 2.28603722e+01, 4.16865610e+01, 1.14301861e+01,\n",
       "         6.05127498e+00, 3.36181943e+00, 4.70654721e+00, 6.72363887e+00,\n",
       "         1.34472777e+00, 2.01709166e+00]]))"
      ]
     },
     "execution_count": 143,
     "metadata": {},
     "output_type": "execute_result"
    }
   ],
   "source": [
    "#Hypothesis Testing\n",
    "from scipy.stats import chi2_contingency\n",
    "ct_house = pd.crosstab(df.booking_status, df.no_of_week_nights)\n",
    "chi2_contingency(ct_house, correction = False)\n",
    "# p_val = 9.99-e, Ho reject, hence association exists, good predictor"
   ]
  },
  {
   "cell_type": "code",
   "execution_count": 144,
   "id": "11396ca1",
   "metadata": {},
   "outputs": [
    {
     "data": {
      "text/plain": [
       "0.0"
      ]
     },
     "execution_count": 144,
     "metadata": {},
     "output_type": "execute_result"
    }
   ],
   "source": [
    "round(1.0986460902695565e-81,4)"
   ]
  },
  {
   "cell_type": "code",
   "execution_count": 145,
   "id": "ad455e91",
   "metadata": {},
   "outputs": [
    {
     "data": {
      "text/plain": [
       "Meal Plan 1     27835\n",
       "Not Selected     5130\n",
       "Meal Plan 2      3305\n",
       "Meal Plan 3         5\n",
       "Name: type_of_meal_plan, dtype: int64"
      ]
     },
     "execution_count": 145,
     "metadata": {},
     "output_type": "execute_result"
    }
   ],
   "source": [
    "df.type_of_meal_plan.value_counts()"
   ]
  },
  {
   "cell_type": "code",
   "execution_count": 146,
   "id": "b3b08c80",
   "metadata": {},
   "outputs": [
    {
     "data": {
      "text/plain": [
       "Text(0.5, 1.0, 'Barplot of type_of_meal_plan')"
      ]
     },
     "execution_count": 146,
     "metadata": {},
     "output_type": "execute_result"
    },
    {
     "data": {
      "image/png": "[encoded data removed]",
      "text/plain": [
       "<Figure size 432x288 with 1 Axes>"
      ]
     },
     "metadata": {
      "needs_background": "light"
     },
     "output_type": "display_data"
    }
   ],
   "source": [
    "sns.countplot(x='type_of_meal_plan', hue='booking_status',data=df,palette='husl')\n",
    "plt.title('Barplot of type_of_meal_plan')"
   ]
  },
  {
   "cell_type": "code",
   "execution_count": 147,
   "id": "cb24d19e",
   "metadata": {},
   "outputs": [
    {
     "data": {
      "text/plain": [
       "(278.29490920586017,\n",
       " 4.951915406087789e-60,\n",
       " 3,\n",
       " array([[9.11975121e+03, 1.08283735e+03, 1.63818057e+00, 1.68077326e+03],\n",
       "        [1.87152488e+04, 2.22216265e+03, 3.36181943e+00, 3.44922674e+03]]))"
      ]
     },
     "execution_count": 147,
     "metadata": {},
     "output_type": "execute_result"
    }
   ],
   "source": [
    "#Hypothesis Testing\n",
    "from scipy.stats import chi2_contingency\n",
    "ct_house = pd.crosstab(df.booking_status, df.type_of_meal_plan)\n",
    "chi2_contingency(ct_house, correction = False)"
   ]
  },
  {
   "cell_type": "code",
   "execution_count": 148,
   "id": "7a9b8be3",
   "metadata": {},
   "outputs": [
    {
     "data": {
      "text/plain": [
       "0.0"
      ]
     },
     "execution_count": 148,
     "metadata": {},
     "output_type": "execute_result"
    }
   ],
   "source": [
    "round(4.951915406087789e-60,4)"
   ]
  },
  {
   "cell_type": "code",
   "execution_count": 149,
   "id": "889beb3e",
   "metadata": {},
   "outputs": [
    {
     "data": {
      "text/plain": [
       "Meal Plan 1     27835\n",
       "Not Selected     5130\n",
       "Meal Plan 2      3305\n",
       "Meal Plan 3         5\n",
       "Name: type_of_meal_plan, dtype: int64"
      ]
     },
     "execution_count": 149,
     "metadata": {},
     "output_type": "execute_result"
    }
   ],
   "source": [
    "df.type_of_meal_plan.value_counts()"
   ]
  },
  {
   "cell_type": "code",
   "execution_count": 150,
   "id": "e31a9d2d",
   "metadata": {},
   "outputs": [],
   "source": [
    "#Converting to numeric/ integer\n",
    "df['type_of_meal_plan']=df.get('type_of_meal_plan').replace('Meal Plan 1', 1)\n",
    "df['type_of_meal_plan']=df.get('type_of_meal_plan').replace('Meal Plan 2', 2)\n",
    "df['type_of_meal_plan']=df.get('type_of_meal_plan').replace('Meal Plan 3', 3)\n",
    "df['type_of_meal_plan']=df.get('type_of_meal_plan').replace('Not Selected', 0)"
   ]
  },
  {
   "cell_type": "code",
   "execution_count": 151,
   "id": "8755aaa3",
   "metadata": {},
   "outputs": [
    {
     "data": {
      "text/plain": [
       "1    27835\n",
       "0     5130\n",
       "2     3305\n",
       "3        5\n",
       "Name: type_of_meal_plan, dtype: int64"
      ]
     },
     "execution_count": 151,
     "metadata": {},
     "output_type": "execute_result"
    }
   ],
   "source": [
    "df.type_of_meal_plan.value_counts()"
   ]
  },
  {
   "cell_type": "code",
   "execution_count": 152,
   "id": "c51d6d9e",
   "metadata": {},
   "outputs": [
    {
     "data": {
      "text/plain": [
       "0    35151\n",
       "1     1124\n",
       "Name: required_car_parking_space, dtype: int64"
      ]
     },
     "execution_count": 152,
     "metadata": {},
     "output_type": "execute_result"
    }
   ],
   "source": [
    "df.required_car_parking_space.value_counts()"
   ]
  },
  {
   "cell_type": "code",
   "execution_count": 153,
   "id": "83af8a52",
   "metadata": {},
   "outputs": [
    {
     "data": {
      "text/plain": [
       "Text(0.5, 1.0, 'Barplot of required_car_parking_space')"
      ]
     },
     "execution_count": 153,
     "metadata": {},
     "output_type": "execute_result"
    },
    {
     "data": {
      "image/png": "[encoded data removed]",
      "text/plain": [
       "<Figure size 432x288 with 1 Axes>"
      ]
     },
     "metadata": {
      "needs_background": "light"
     },
     "output_type": "display_data"
    }
   ],
   "source": [
    "sns.countplot(x='required_car_parking_space', hue='booking_status',data=df,palette='husl')\n",
    "plt.title('Barplot of required_car_parking_space')"
   ]
  },
  {
   "cell_type": "code",
   "execution_count": 154,
   "id": "9ea95316",
   "metadata": {},
   "outputs": [
    {
     "data": {
      "text/plain": [
       "(269.44714368539746,\n",
       " 1.4976223934666923e-60,\n",
       " 1,\n",
       " array([[11516.73700896,   368.26299104],\n",
       "        [23634.26299104,   755.73700896]]))"
      ]
     },
     "execution_count": 154,
     "metadata": {},
     "output_type": "execute_result"
    }
   ],
   "source": [
    "#Hypothesis Testing\n",
    "from scipy.stats import chi2_contingency\n",
    "ct_house = pd.crosstab(df.booking_status, df.required_car_parking_space)\n",
    "chi2_contingency(ct_house, correction = False)"
   ]
  },
  {
   "cell_type": "code",
   "execution_count": 155,
   "id": "8dd4caa1",
   "metadata": {},
   "outputs": [
    {
     "data": {
      "text/plain": [
       "0.0"
      ]
     },
     "execution_count": 155,
     "metadata": {},
     "output_type": "execute_result"
    }
   ],
   "source": [
    "round(1.4976223934666923e-60,4)"
   ]
  },
  {
   "cell_type": "code",
   "execution_count": 156,
   "id": "b84023c0",
   "metadata": {},
   "outputs": [
    {
     "data": {
      "text/plain": [
       "Room_Type 1    28130\n",
       "Room_Type 4     6057\n",
       "Room_Type 6      966\n",
       "Room_Type 2      692\n",
       "Room_Type 5      265\n",
       "Room_Type 7      158\n",
       "Room_Type 3        7\n",
       "Name: room_type_reserved, dtype: int64"
      ]
     },
     "execution_count": 156,
     "metadata": {},
     "output_type": "execute_result"
    }
   ],
   "source": [
    "df.room_type_reserved.value_counts()"
   ]
  },
  {
   "cell_type": "code",
   "execution_count": 157,
   "id": "dc15953b",
   "metadata": {},
   "outputs": [],
   "source": [
    "# Cat codes\n",
    "df['room_type_reserved']=df['room_type_reserved'].astype('category').cat.codes"
   ]
  },
  {
   "cell_type": "code",
   "execution_count": 158,
   "id": "b3fea869",
   "metadata": {},
   "outputs": [
    {
     "data": {
      "text/plain": [
       "0    28130\n",
       "3     6057\n",
       "5      966\n",
       "1      692\n",
       "4      265\n",
       "6      158\n",
       "2        7\n",
       "Name: room_type_reserved, dtype: int64"
      ]
     },
     "execution_count": 158,
     "metadata": {},
     "output_type": "execute_result"
    }
   ],
   "source": [
    "df.room_type_reserved.value_counts()"
   ]
  },
  {
   "cell_type": "code",
   "execution_count": 159,
   "id": "fa0140c2",
   "metadata": {},
   "outputs": [
    {
     "data": {
      "text/plain": [
       "array([0, 3, 1, 5, 4, 6, 2], dtype=int8)"
      ]
     },
     "execution_count": 159,
     "metadata": {},
     "output_type": "execute_result"
    }
   ],
   "source": [
    "df.room_type_reserved.unique()"
   ]
  },
  {
   "cell_type": "code",
   "execution_count": 160,
   "id": "b98cc7e8",
   "metadata": {},
   "outputs": [
    {
     "data": {
      "text/plain": [
       "Text(0.5, 1.0, 'Barplot of required_car_parking_space')"
      ]
     },
     "execution_count": 160,
     "metadata": {},
     "output_type": "execute_result"
    },
    {
     "data": {
      "image/png": "[encoded data removed]",
      "text/plain": [
       "<Figure size 432x288 with 1 Axes>"
      ]
     },
     "metadata": {
      "needs_background": "light"
     },
     "output_type": "display_data"
    }
   ],
   "source": [
    "sns.countplot(x='required_car_parking_space', hue='booking_status',data=df,palette='husl')\n",
    "plt.title('Barplot of required_car_parking_space')"
   ]
  },
  {
   "cell_type": "code",
   "execution_count": 161,
   "id": "cd72db22",
   "metadata": {},
   "outputs": [
    {
     "data": {
      "text/plain": [
       "(269.44714368539746,\n",
       " 1.4976223934666923e-60,\n",
       " 1,\n",
       " array([[11516.73700896,   368.26299104],\n",
       "        [23634.26299104,   755.73700896]]))"
      ]
     },
     "execution_count": 161,
     "metadata": {},
     "output_type": "execute_result"
    }
   ],
   "source": [
    "#Hypothesis Testing\n",
    "from scipy.stats import chi2_contingency\n",
    "ct_house = pd.crosstab(df.booking_status, df.required_car_parking_space)\n",
    "chi2_contingency(ct_house, correction = False)"
   ]
  },
  {
   "cell_type": "code",
   "execution_count": 162,
   "id": "c00004e1",
   "metadata": {},
   "outputs": [
    {
     "data": {
      "text/plain": [
       "0.0"
      ]
     },
     "execution_count": 162,
     "metadata": {},
     "output_type": "execute_result"
    }
   ],
   "source": [
    "round(1.4976223934666923e-60,4)"
   ]
  },
  {
   "cell_type": "code",
   "execution_count": 163,
   "id": "1fa65ef3",
   "metadata": {},
   "outputs": [
    {
     "data": {
      "text/plain": [
       "0    28130\n",
       "3     6057\n",
       "5      966\n",
       "1      692\n",
       "4      265\n",
       "6      158\n",
       "2        7\n",
       "Name: room_type_reserved, dtype: int64"
      ]
     },
     "execution_count": 163,
     "metadata": {},
     "output_type": "execute_result"
    }
   ],
   "source": [
    "df.room_type_reserved.value_counts()"
   ]
  },
  {
   "cell_type": "code",
   "execution_count": 164,
   "id": "3e23fc67",
   "metadata": {},
   "outputs": [
    {
     "data": {
      "text/plain": [
       "(57.33495179790707,\n",
       " 1.5627796772447482e-10,\n",
       " 6,\n",
       " array([[9.21640386e+03, 1.89135961e+04],\n",
       "        [2.26724190e+02, 4.65275810e+02],\n",
       "        [2.29345279e+00, 4.70654721e+00],\n",
       "        [1.98449194e+03, 4.07250806e+03],\n",
       "        [8.68235700e+01, 1.78176430e+02],\n",
       "        [3.16496485e+02, 6.49503515e+02],\n",
       "        [5.17665059e+01, 1.06233494e+02]]))"
      ]
     },
     "execution_count": 164,
     "metadata": {},
     "output_type": "execute_result"
    }
   ],
   "source": [
    "#Hypothesis Testing\n",
    "from scipy.stats import chi2_contingency\n",
    "ct_house = pd.crosstab(df.room_type_reserved, df.booking_status)\n",
    "chi2_contingency(ct_house, correction = False)"
   ]
  },
  {
   "cell_type": "code",
   "execution_count": 165,
   "id": "480e6510",
   "metadata": {},
   "outputs": [
    {
     "data": {
      "text/plain": [
       "0.0"
      ]
     },
     "execution_count": 165,
     "metadata": {},
     "output_type": "execute_result"
    }
   ],
   "source": [
    "round(3.200747354734445e-15,4)"
   ]
  },
  {
   "cell_type": "code",
   "execution_count": 166,
   "id": "87f8b34d",
   "metadata": {},
   "outputs": [
    {
     "data": {
      "text/plain": [
       "0      1297\n",
       "1      1078\n",
       "2       643\n",
       "3       630\n",
       "4       628\n",
       "       ... \n",
       "300       1\n",
       "353       1\n",
       "328       1\n",
       "352       1\n",
       "351       1\n",
       "Name: lead_time, Length: 352, dtype: int64"
      ]
     },
     "execution_count": 166,
     "metadata": {},
     "output_type": "execute_result"
    }
   ],
   "source": [
    "df.lead_time.value_counts()"
   ]
  },
  {
   "cell_type": "code",
   "execution_count": 167,
   "id": "8649e687",
   "metadata": {},
   "outputs": [
    {
     "name": "stderr",
     "output_type": "stream",
     "text": [
      "C:\\Users\\chris\\anaconda3\\lib\\site-packages\\seaborn\\distributions.py:2619: FutureWarning: `distplot` is a deprecated function and will be removed in a future version. Please adapt your code to use either `displot` (a figure-level function with similar flexibility) or `histplot` (an axes-level function for histograms).\n",
      "  warnings.warn(msg, FutureWarning)\n"
     ]
    },
    {
     "data": {
      "image/png": "[encoded data removed]",
      "text/plain": [
       "<Figure size 432x288 with 1 Axes>"
      ]
     },
     "metadata": {
      "needs_background": "light"
     },
     "output_type": "display_data"
    }
   ],
   "source": [
    "\n",
    "#______histogram\n",
    "\n",
    "sns.distplot(df['lead_time'])\n",
    "plt.show()"
   ]
  },
  {
   "cell_type": "code",
   "execution_count": 168,
   "id": "2d8cc80c",
   "metadata": {},
   "outputs": [
    {
     "data": {
      "text/plain": [
       "<AxesSubplot:xlabel='lead_time'>"
      ]
     },
     "execution_count": 168,
     "metadata": {},
     "output_type": "execute_result"
    },
    {
     "data": {
      "image/png": "[encoded data removed]",
      "text/plain": [
       "<Figure size 432x288 with 1 Axes>"
      ]
     },
     "metadata": {
      "needs_background": "light"
     },
     "output_type": "display_data"
    }
   ],
   "source": [
    "sns.boxplot(data=df, x='lead_time', color='pink')"
   ]
  },
  {
   "cell_type": "code",
   "execution_count": 169,
   "id": "f1865405",
   "metadata": {},
   "outputs": [
    {
     "data": {
      "text/plain": [
       "1331"
      ]
     },
     "execution_count": 169,
     "metadata": {},
     "output_type": "execute_result"
    }
   ],
   "source": [
    "#Checking outliners, LT is lead_time\n",
    "LT_IQR = df.lead_time.describe()['75%']-df.lead_time.describe()['25%']\n",
    "LT_uplim = df.lead_time.describe()['75%']+1.5*LT_IQR\n",
    "#RH_lolim = df.RH.describe()['25%']-1.5*RH_IQR\n",
    "#len(df.AP[df.AP > AP_uplim]) #72 outliers\n",
    "len(df.lead_time[df.lead_time > LT_uplim])"
   ]
  },
  {
   "cell_type": "code",
   "execution_count": 170,
   "id": "d0e0f8d8",
   "metadata": {},
   "outputs": [],
   "source": [
    "df.lead_time = np.where(df.lead_time>LT_uplim,LT_uplim,df.lead_time)"
   ]
  },
  {
   "cell_type": "code",
   "execution_count": 171,
   "id": "7e017976",
   "metadata": {},
   "outputs": [
    {
     "data": {
      "text/plain": [
       "<AxesSubplot:xlabel='lead_time'>"
      ]
     },
     "execution_count": 171,
     "metadata": {},
     "output_type": "execute_result"
    },
    {
     "data": {
      "image/png": "[encoded data removed]",
      "text/plain": [
       "<Figure size 432x288 with 1 Axes>"
      ]
     },
     "metadata": {
      "needs_background": "light"
     },
     "output_type": "display_data"
    }
   ],
   "source": [
    "sns.boxplot(data=df, x='lead_time', color='pink')"
   ]
  },
  {
   "cell_type": "code",
   "execution_count": 172,
   "id": "a5454211",
   "metadata": {},
   "outputs": [
    {
     "data": {
      "text/plain": [
       "Index(['no_of_adults', 'no_of_children', 'no_of_weekend_nights',\n",
       "       'no_of_week_nights', 'type_of_meal_plan', 'required_car_parking_space',\n",
       "       'room_type_reserved', 'lead_time', 'arrival_year', 'arrival_month',\n",
       "       'arrival_date', 'market_segment_type', 'repeated_guest',\n",
       "       'no_of_previous_cancellations', 'no_of_previous_bookings_not_canceled',\n",
       "       'avg_price_per_room', 'no_of_special_requests', 'booking_status'],\n",
       "      dtype='object')"
      ]
     },
     "execution_count": 172,
     "metadata": {},
     "output_type": "execute_result"
    }
   ],
   "source": [
    "df.columns"
   ]
  },
  {
   "cell_type": "code",
   "execution_count": 173,
   "id": "4b90a2a7",
   "metadata": {},
   "outputs": [
    {
     "data": {
      "text/plain": [
       "2018    29761\n",
       "2017     6514\n",
       "Name: arrival_year, dtype: int64"
      ]
     },
     "execution_count": 173,
     "metadata": {},
     "output_type": "execute_result"
    }
   ],
   "source": [
    "df.arrival_year.value_counts()"
   ]
  },
  {
   "cell_type": "code",
   "execution_count": 174,
   "id": "f1c64803",
   "metadata": {},
   "outputs": [
    {
     "data": {
      "text/plain": [
       "Text(0.5, 1.0, 'Barplot of arrival_year')"
      ]
     },
     "execution_count": 174,
     "metadata": {},
     "output_type": "execute_result"
    },
    {
     "data": {
      "image/png": "[encoded data removed]",
      "text/plain": [
       "<Figure size 432x288 with 1 Axes>"
      ]
     },
     "metadata": {
      "needs_background": "light"
     },
     "output_type": "display_data"
    }
   ],
   "source": [
    "sns.countplot(x='arrival_year', hue='booking_status',data=df,palette='husl')\n",
    "plt.title('Barplot of arrival_year')"
   ]
  },
  {
   "cell_type": "code",
   "execution_count": 175,
   "id": "768cb6f7",
   "metadata": {},
   "outputs": [
    {
     "data": {
      "text/plain": [
       "(1169.1658803091102,\n",
       " 3.065393311072013e-256,\n",
       " 1,\n",
       " array([[ 2134.22164025,  9750.77835975],\n",
       "        [ 4379.77835975, 20010.22164025]]))"
      ]
     },
     "execution_count": 175,
     "metadata": {},
     "output_type": "execute_result"
    }
   ],
   "source": [
    "#Hypothesis Testing\n",
    "from scipy.stats import chi2_contingency\n",
    "ct_house = pd.crosstab(df.booking_status, df.arrival_year)\n",
    "chi2_contingency(ct_house, correction = False)"
   ]
  },
  {
   "cell_type": "code",
   "execution_count": 176,
   "id": "4526c08d",
   "metadata": {},
   "outputs": [
    {
     "data": {
      "text/plain": [
       "0.0"
      ]
     },
     "execution_count": 176,
     "metadata": {},
     "output_type": "execute_result"
    }
   ],
   "source": [
    "round(3.065393311072013e-256,4)"
   ]
  },
  {
   "cell_type": "code",
   "execution_count": 177,
   "id": "334617f8",
   "metadata": {},
   "outputs": [
    {
     "data": {
      "text/plain": [
       "Index(['no_of_adults', 'no_of_children', 'no_of_weekend_nights',\n",
       "       'no_of_week_nights', 'type_of_meal_plan', 'required_car_parking_space',\n",
       "       'room_type_reserved', 'lead_time', 'arrival_year', 'arrival_month',\n",
       "       'arrival_date', 'market_segment_type', 'repeated_guest',\n",
       "       'no_of_previous_cancellations', 'no_of_previous_bookings_not_canceled',\n",
       "       'avg_price_per_room', 'no_of_special_requests', 'booking_status'],\n",
       "      dtype='object')"
      ]
     },
     "execution_count": 177,
     "metadata": {},
     "output_type": "execute_result"
    }
   ],
   "source": [
    "df.columns"
   ]
  },
  {
   "cell_type": "code",
   "execution_count": 178,
   "id": "88247146",
   "metadata": {},
   "outputs": [
    {
     "data": {
      "text/plain": [
       "10    5317\n",
       "9     4611\n",
       "8     3813\n",
       "6     3203\n",
       "12    3021\n",
       "11    2980\n",
       "7     2920\n",
       "4     2736\n",
       "5     2598\n",
       "3     2358\n",
       "2     1704\n",
       "1     1014\n",
       "Name: arrival_month, dtype: int64"
      ]
     },
     "execution_count": 178,
     "metadata": {},
     "output_type": "execute_result"
    }
   ],
   "source": [
    "df.arrival_month.value_counts()"
   ]
  },
  {
   "cell_type": "code",
   "execution_count": 179,
   "id": "0027863b",
   "metadata": {},
   "outputs": [
    {
     "data": {
      "text/plain": [
       "Text(0.5, 1.0, 'Barplot of arrival_month')"
      ]
     },
     "execution_count": 179,
     "metadata": {},
     "output_type": "execute_result"
    },
    {
     "data": {
      "image/png": "[encoded data removed]",
      "text/plain": [
       "<Figure size 432x288 with 1 Axes>"
      ]
     },
     "metadata": {
      "needs_background": "light"
     },
     "output_type": "display_data"
    }
   ],
   "source": [
    "sns.countplot(x='arrival_month', hue='booking_status',data=df,palette='husl')\n",
    "plt.title('Barplot of arrival_month')"
   ]
  },
  {
   "cell_type": "code",
   "execution_count": 180,
   "id": "bc1243ab",
   "metadata": {},
   "outputs": [
    {
     "data": {
      "text/plain": [
       "(1412.5959854252537,\n",
       " 2.3069606491549355e-296,\n",
       " 11,\n",
       " array([[ 332.22301861,  558.2919366 ,  772.56595451,  896.41240524,\n",
       "          851.19862164, 1049.41847002,  956.69745003, 1249.27649897,\n",
       "         1510.73011716, 1742.04121296,  976.35561682,  989.78869745],\n",
       "        [ 681.77698139, 1145.7080634 , 1585.43404549, 1839.58759476,\n",
       "         1746.80137836, 2153.58152998, 1963.30254997, 2563.72350103,\n",
       "         3100.26988284, 3574.95878704, 2003.64438318, 2031.21130255]]))"
      ]
     },
     "execution_count": 180,
     "metadata": {},
     "output_type": "execute_result"
    }
   ],
   "source": [
    "#Hypothesis Testing\n",
    "from scipy.stats import chi2_contingency\n",
    "ct_house = pd.crosstab(df.booking_status, df.arrival_month)\n",
    "chi2_contingency(ct_house, correction = False)"
   ]
  },
  {
   "cell_type": "code",
   "execution_count": 181,
   "id": "f2cac61b",
   "metadata": {},
   "outputs": [
    {
     "data": {
      "text/plain": [
       "0.0"
      ]
     },
     "execution_count": 181,
     "metadata": {},
     "output_type": "execute_result"
    }
   ],
   "source": [
    "round(2.3069606491549355e-296,4)"
   ]
  },
  {
   "cell_type": "code",
   "execution_count": 182,
   "id": "de7dbdc1",
   "metadata": {},
   "outputs": [
    {
     "data": {
      "text/plain": [
       "Index(['no_of_adults', 'no_of_children', 'no_of_weekend_nights',\n",
       "       'no_of_week_nights', 'type_of_meal_plan', 'required_car_parking_space',\n",
       "       'room_type_reserved', 'lead_time', 'arrival_year', 'arrival_month',\n",
       "       'arrival_date', 'market_segment_type', 'repeated_guest',\n",
       "       'no_of_previous_cancellations', 'no_of_previous_bookings_not_canceled',\n",
       "       'avg_price_per_room', 'no_of_special_requests', 'booking_status'],\n",
       "      dtype='object')"
      ]
     },
     "execution_count": 182,
     "metadata": {},
     "output_type": "execute_result"
    }
   ],
   "source": [
    "df.columns"
   ]
  },
  {
   "cell_type": "code",
   "execution_count": 183,
   "id": "f56d0117",
   "metadata": {},
   "outputs": [
    {
     "data": {
      "text/plain": [
       "13    1358\n",
       "17    1345\n",
       "2     1331\n",
       "4     1327\n",
       "19    1327\n",
       "16    1306\n",
       "20    1281\n",
       "15    1273\n",
       "6     1273\n",
       "18    1260\n",
       "14    1242\n",
       "30    1216\n",
       "12    1204\n",
       "8     1198\n",
       "29    1190\n",
       "21    1158\n",
       "5     1154\n",
       "26    1146\n",
       "25    1146\n",
       "1     1133\n",
       "9     1130\n",
       "28    1129\n",
       "7     1110\n",
       "24    1103\n",
       "11    1098\n",
       "3     1098\n",
       "10    1089\n",
       "27    1059\n",
       "22    1023\n",
       "23     990\n",
       "31     578\n",
       "Name: arrival_date, dtype: int64"
      ]
     },
     "execution_count": 183,
     "metadata": {},
     "output_type": "execute_result"
    }
   ],
   "source": [
    "df.arrival_date.value_counts()"
   ]
  },
  {
   "cell_type": "code",
   "execution_count": 184,
   "id": "4a020da8",
   "metadata": {},
   "outputs": [
    {
     "data": {
      "text/plain": [
       "Text(0.5, 1.0, 'Barplot of arrival_month')"
      ]
     },
     "execution_count": 184,
     "metadata": {},
     "output_type": "execute_result"
    },
    {
     "data": {
      "image/png": "[encoded data removed]",
      "text/plain": [
       "<Figure size 432x288 with 1 Axes>"
      ]
     },
     "metadata": {
      "needs_background": "light"
     },
     "output_type": "display_data"
    }
   ],
   "source": [
    "sns.countplot(x='arrival_date', hue='booking_status',data=df,palette='husl')\n",
    "plt.title('Barplot of arrival_month')"
   ]
  },
  {
   "cell_type": "code",
   "execution_count": 185,
   "id": "0cedd9e2",
   "metadata": {},
   "outputs": [
    {
     "data": {
      "text/plain": [
       "(321.6444289783148,\n",
       " 1.3915931305634915e-50,\n",
       " 30,\n",
       " array([[371.21171606, 436.08366644, 359.7444521 , 434.77312198,\n",
       "         378.09207443, 417.08077188, 363.67608546, 392.5080634 ,\n",
       "         370.22880772, 356.79572708, 359.7444521 , 394.47388008,\n",
       "         444.92984149, 406.92405238, 417.08077188, 427.89276361,\n",
       "         440.67057202, 412.82150241, 434.77312198, 419.70186079,\n",
       "         379.40261888, 335.17174363, 324.3597519 , 361.38263267,\n",
       "         375.47098553, 375.47098553, 346.96664369, 369.90117161,\n",
       "         389.8869745 , 398.40551344, 189.37367333],\n",
       "        [761.78828394, 894.91633356, 738.2555479 , 892.22687802,\n",
       "         775.90792557, 855.91922812, 746.32391454, 805.4919366 ,\n",
       "         759.77119228, 732.20427292, 738.2555479 , 809.52611992,\n",
       "         913.07015851, 835.07594762, 855.91922812, 878.10723639,\n",
       "         904.32942798, 847.17849759, 892.22687802, 861.29813921,\n",
       "         778.59738112, 687.82825637, 665.6402481 , 741.61736733,\n",
       "         770.52901447, 770.52901447, 712.03335631, 759.09882839,\n",
       "         800.1130255 , 817.59448656, 388.62632667]]))"
      ]
     },
     "execution_count": 185,
     "metadata": {},
     "output_type": "execute_result"
    }
   ],
   "source": [
    "#Hypothesis Testing\n",
    "from scipy.stats import chi2_contingency\n",
    "ct_house = pd.crosstab(df.booking_status, df.arrival_date)\n",
    "chi2_contingency(ct_house, correction = False)"
   ]
  },
  {
   "cell_type": "code",
   "execution_count": 186,
   "id": "b21770ba",
   "metadata": {},
   "outputs": [
    {
     "data": {
      "text/plain": [
       "0.0"
      ]
     },
     "execution_count": 186,
     "metadata": {},
     "output_type": "execute_result"
    }
   ],
   "source": [
    "round(1.3915931305634915e-50,4)"
   ]
  },
  {
   "cell_type": "code",
   "execution_count": 187,
   "id": "ffa74f58",
   "metadata": {},
   "outputs": [
    {
     "data": {
      "text/plain": [
       "Index(['no_of_adults', 'no_of_children', 'no_of_weekend_nights',\n",
       "       'no_of_week_nights', 'type_of_meal_plan', 'required_car_parking_space',\n",
       "       'room_type_reserved', 'lead_time', 'arrival_year', 'arrival_month',\n",
       "       'arrival_date', 'market_segment_type', 'repeated_guest',\n",
       "       'no_of_previous_cancellations', 'no_of_previous_bookings_not_canceled',\n",
       "       'avg_price_per_room', 'no_of_special_requests', 'booking_status'],\n",
       "      dtype='object')"
      ]
     },
     "execution_count": 187,
     "metadata": {},
     "output_type": "execute_result"
    }
   ],
   "source": [
    "df.columns"
   ]
  },
  {
   "cell_type": "code",
   "execution_count": 188,
   "id": "402f074e",
   "metadata": {},
   "outputs": [
    {
     "data": {
      "text/plain": [
       "Online           23214\n",
       "Offline          10528\n",
       "Corporate         2017\n",
       "Complementary      391\n",
       "Aviation           125\n",
       "Name: market_segment_type, dtype: int64"
      ]
     },
     "execution_count": 188,
     "metadata": {},
     "output_type": "execute_result"
    }
   ],
   "source": [
    "df.market_segment_type.value_counts()"
   ]
  },
  {
   "cell_type": "code",
   "execution_count": 189,
   "id": "1d8203fd",
   "metadata": {},
   "outputs": [],
   "source": [
    "# Cat codes\n",
    "df['market_segment_type']=df['market_segment_type'].astype('category').cat.codes"
   ]
  },
  {
   "cell_type": "code",
   "execution_count": 190,
   "id": "bb83ebdf",
   "metadata": {},
   "outputs": [
    {
     "data": {
      "text/plain": [
       "4    23214\n",
       "3    10528\n",
       "2     2017\n",
       "1      391\n",
       "0      125\n",
       "Name: market_segment_type, dtype: int64"
      ]
     },
     "execution_count": 190,
     "metadata": {},
     "output_type": "execute_result"
    }
   ],
   "source": [
    "df.market_segment_type.value_counts()"
   ]
  },
  {
   "cell_type": "code",
   "execution_count": 191,
   "id": "dc1ea12a",
   "metadata": {},
   "outputs": [
    {
     "data": {
      "text/plain": [
       "Text(0.5, 1.0, 'Barplot of market_segment')"
      ]
     },
     "execution_count": 191,
     "metadata": {},
     "output_type": "execute_result"
    },
    {
     "data": {
      "image/png": "[encoded data removed]",
      "text/plain": [
       "<Figure size 432x288 with 1 Axes>"
      ]
     },
     "metadata": {
      "needs_background": "light"
     },
     "output_type": "display_data"
    }
   ],
   "source": [
    "sns.countplot(x='market_segment_type', hue='booking_status',data=df,palette='husl')\n",
    "plt.title('Barplot of market_segment')"
   ]
  },
  {
   "cell_type": "code",
   "execution_count": 192,
   "id": "ce2b34ee",
   "metadata": {},
   "outputs": [
    {
     "data": {
      "text/plain": [
       "(814.1088652405568,\n",
       " 6.74876302455762e-175,\n",
       " 4,\n",
       " array([[   40.95451413,   128.10572019,   660.84203997,  3449.35299793,\n",
       "          7605.74472777],\n",
       "        [   84.04548587,   262.89427981,  1356.15796003,  7078.64700207,\n",
       "         15608.25527223]]))"
      ]
     },
     "execution_count": 192,
     "metadata": {},
     "output_type": "execute_result"
    }
   ],
   "source": [
    "#Hypothesis Testing\n",
    "from scipy.stats import chi2_contingency\n",
    "ct_house = pd.crosstab(df.booking_status, df.market_segment_type)\n",
    "chi2_contingency(ct_house, correction = False)"
   ]
  },
  {
   "cell_type": "code",
   "execution_count": 193,
   "id": "aa2b9bc0",
   "metadata": {},
   "outputs": [
    {
     "data": {
      "text/plain": [
       "0.0"
      ]
     },
     "execution_count": 193,
     "metadata": {},
     "output_type": "execute_result"
    }
   ],
   "source": [
    "round(6.74876302455762e-175,4)"
   ]
  },
  {
   "cell_type": "code",
   "execution_count": 194,
   "id": "af28aad8",
   "metadata": {},
   "outputs": [
    {
     "data": {
      "text/plain": [
       "Index(['no_of_adults', 'no_of_children', 'no_of_weekend_nights',\n",
       "       'no_of_week_nights', 'type_of_meal_plan', 'required_car_parking_space',\n",
       "       'room_type_reserved', 'lead_time', 'arrival_year', 'arrival_month',\n",
       "       'arrival_date', 'market_segment_type', 'repeated_guest',\n",
       "       'no_of_previous_cancellations', 'no_of_previous_bookings_not_canceled',\n",
       "       'avg_price_per_room', 'no_of_special_requests', 'booking_status'],\n",
       "      dtype='object')"
      ]
     },
     "execution_count": 194,
     "metadata": {},
     "output_type": "execute_result"
    }
   ],
   "source": [
    "df.columns"
   ]
  },
  {
   "cell_type": "code",
   "execution_count": 195,
   "id": "73e30069",
   "metadata": {},
   "outputs": [
    {
     "data": {
      "text/plain": [
       "0    35345\n",
       "1      930\n",
       "Name: repeated_guest, dtype: int64"
      ]
     },
     "execution_count": 195,
     "metadata": {},
     "output_type": "execute_result"
    }
   ],
   "source": [
    "df.repeated_guest.value_counts()"
   ]
  },
  {
   "cell_type": "code",
   "execution_count": 196,
   "id": "5db83421",
   "metadata": {},
   "outputs": [
    {
     "data": {
      "text/plain": [
       "Text(0.5, 1.0, 'Barplot of repeated_guest')"
      ]
     },
     "execution_count": 196,
     "metadata": {},
     "output_type": "execute_result"
    },
    {
     "data": {
      "image/png": "[encoded data removed]",
      "text/plain": [
       "<Figure size 432x288 with 1 Axes>"
      ]
     },
     "metadata": {
      "needs_background": "light"
     },
     "output_type": "display_data"
    }
   ],
   "source": [
    "sns.countplot(x='repeated_guest', hue='booking_status',data=df,palette='husl')\n",
    "plt.title('Barplot of repeated_guest')"
   ]
  },
  {
   "cell_type": "code",
   "execution_count": 197,
   "id": "2d98aec5",
   "metadata": {},
   "outputs": [
    {
     "data": {
      "text/plain": [
       "(417.540569427854,\n",
       " 8.370937808836557e-93,\n",
       " 1,\n",
       " array([[11580.29841489,   304.70158511],\n",
       "        [23764.70158511,   625.29841489]]))"
      ]
     },
     "execution_count": 197,
     "metadata": {},
     "output_type": "execute_result"
    }
   ],
   "source": [
    "#Hypothesis Testing\n",
    "from scipy.stats import chi2_contingency\n",
    "ct_house = pd.crosstab(df.booking_status, df.repeated_guest)\n",
    "chi2_contingency(ct_house, correction = False)"
   ]
  },
  {
   "cell_type": "code",
   "execution_count": 198,
   "id": "5aabe3f9",
   "metadata": {},
   "outputs": [
    {
     "data": {
      "text/plain": [
       "0.0"
      ]
     },
     "execution_count": 198,
     "metadata": {},
     "output_type": "execute_result"
    }
   ],
   "source": [
    "round(8.370937808836557e-93,4)"
   ]
  },
  {
   "cell_type": "code",
   "execution_count": 199,
   "id": "d395d9ce",
   "metadata": {},
   "outputs": [
    {
     "data": {
      "text/plain": [
       "Index(['no_of_adults', 'no_of_children', 'no_of_weekend_nights',\n",
       "       'no_of_week_nights', 'type_of_meal_plan', 'required_car_parking_space',\n",
       "       'room_type_reserved', 'lead_time', 'arrival_year', 'arrival_month',\n",
       "       'arrival_date', 'market_segment_type', 'repeated_guest',\n",
       "       'no_of_previous_cancellations', 'no_of_previous_bookings_not_canceled',\n",
       "       'avg_price_per_room', 'no_of_special_requests', 'booking_status'],\n",
       "      dtype='object')"
      ]
     },
     "execution_count": 199,
     "metadata": {},
     "output_type": "execute_result"
    }
   ],
   "source": [
    "df.columns"
   ]
  },
  {
   "cell_type": "code",
   "execution_count": 200,
   "id": "8eb8351d",
   "metadata": {},
   "outputs": [
    {
     "data": {
      "text/plain": [
       "0     35937\n",
       "1       198\n",
       "2        46\n",
       "3        43\n",
       "11       25\n",
       "5        11\n",
       "4        10\n",
       "13        4\n",
       "6         1\n",
       "Name: no_of_previous_cancellations, dtype: int64"
      ]
     },
     "execution_count": 200,
     "metadata": {},
     "output_type": "execute_result"
    }
   ],
   "source": [
    "df.no_of_previous_cancellations.value_counts()"
   ]
  },
  {
   "cell_type": "code",
   "execution_count": 201,
   "id": "54a21da4",
   "metadata": {},
   "outputs": [
    {
     "data": {
      "text/plain": [
       "Text(0.5, 1.0, 'Barplot of no_of_previous_cancellations')"
      ]
     },
     "execution_count": 201,
     "metadata": {},
     "output_type": "execute_result"
    },
    {
     "data": {
      "image/png": "[encoded data removed]",
      "text/plain": [
       "<Figure size 432x288 with 1 Axes>"
      ]
     },
     "metadata": {
      "needs_background": "light"
     },
     "output_type": "display_data"
    }
   ],
   "source": [
    "sns.countplot(x='no_of_previous_cancellations', hue='booking_status',data=df,palette='husl')\n",
    "plt.title('Barplot of no_of_previous_cancellations')"
   ]
  },
  {
   "cell_type": "code",
   "execution_count": 202,
   "id": "01988556",
   "metadata": {},
   "outputs": [
    {
     "data": {
      "text/plain": [
       "(139.2820121236975,\n",
       " 3.3464027245396504e-26,\n",
       " 8,\n",
       " array([[1.17742590e+04, 6.48719504e+01, 1.50712612e+01, 1.40883529e+01,\n",
       "         3.27636113e+00, 3.60399724e+00, 3.27636113e-01, 8.19090283e+00,\n",
       "         1.31054445e+00],\n",
       "        [2.41627410e+04, 1.33128050e+02, 3.09287388e+01, 2.89116471e+01,\n",
       "         6.72363887e+00, 7.39600276e+00, 6.72363887e-01, 1.68090972e+01,\n",
       "         2.68945555e+00]]))"
      ]
     },
     "execution_count": 202,
     "metadata": {},
     "output_type": "execute_result"
    }
   ],
   "source": [
    "#Hypothesis Testing\n",
    "from scipy.stats import chi2_contingency\n",
    "ct_house = pd.crosstab(df.booking_status, df.no_of_previous_cancellations)\n",
    "chi2_contingency(ct_house, correction = False)"
   ]
  },
  {
   "cell_type": "code",
   "execution_count": 203,
   "id": "32ed2632",
   "metadata": {},
   "outputs": [
    {
     "data": {
      "text/plain": [
       "0.0"
      ]
     },
     "execution_count": 203,
     "metadata": {},
     "output_type": "execute_result"
    }
   ],
   "source": [
    "round(3.3464027245396504e-26,4)"
   ]
  },
  {
   "cell_type": "code",
   "execution_count": 204,
   "id": "f093f7cd",
   "metadata": {},
   "outputs": [
    {
     "data": {
      "text/plain": [
       "Index(['no_of_adults', 'no_of_children', 'no_of_weekend_nights',\n",
       "       'no_of_week_nights', 'type_of_meal_plan', 'required_car_parking_space',\n",
       "       'room_type_reserved', 'lead_time', 'arrival_year', 'arrival_month',\n",
       "       'arrival_date', 'market_segment_type', 'repeated_guest',\n",
       "       'no_of_previous_cancellations', 'no_of_previous_bookings_not_canceled',\n",
       "       'avg_price_per_room', 'no_of_special_requests', 'booking_status'],\n",
       "      dtype='object')"
      ]
     },
     "execution_count": 204,
     "metadata": {},
     "output_type": "execute_result"
    }
   ],
   "source": [
    "df.columns"
   ]
  },
  {
   "cell_type": "code",
   "execution_count": 205,
   "id": "d13a0ba3",
   "metadata": {},
   "outputs": [
    {
     "data": {
      "text/plain": [
       "65.00     848\n",
       "75.00     826\n",
       "90.00     703\n",
       "95.00     669\n",
       "115.00    662\n",
       "         ... \n",
       "212.42      1\n",
       "83.48       1\n",
       "70.42       1\n",
       "130.99      1\n",
       "167.80      1\n",
       "Name: avg_price_per_room, Length: 3930, dtype: int64"
      ]
     },
     "execution_count": 205,
     "metadata": {},
     "output_type": "execute_result"
    }
   ],
   "source": [
    "df.avg_price_per_room.value_counts()"
   ]
  },
  {
   "cell_type": "code",
   "execution_count": 206,
   "id": "177fe387",
   "metadata": {},
   "outputs": [
    {
     "name": "stderr",
     "output_type": "stream",
     "text": [
      "C:\\Users\\chris\\anaconda3\\lib\\site-packages\\seaborn\\distributions.py:2619: FutureWarning: `distplot` is a deprecated function and will be removed in a future version. Please adapt your code to use either `displot` (a figure-level function with similar flexibility) or `histplot` (an axes-level function for histograms).\n",
      "  warnings.warn(msg, FutureWarning)\n"
     ]
    },
    {
     "data": {
      "image/png": "[encoded data removed]",
      "text/plain": [
       "<Figure size 432x288 with 1 Axes>"
      ]
     },
     "metadata": {
      "needs_background": "light"
     },
     "output_type": "display_data"
    }
   ],
   "source": [
    "sns.distplot(df['avg_price_per_room'])\n",
    "plt.show()"
   ]
  },
  {
   "cell_type": "code",
   "execution_count": 207,
   "id": "283c890d",
   "metadata": {},
   "outputs": [
    {
     "data": {
      "text/plain": [
       "<AxesSubplot:xlabel='avg_price_per_room'>"
      ]
     },
     "execution_count": 207,
     "metadata": {},
     "output_type": "execute_result"
    },
    {
     "data": {
      "image/png": "[encoded data removed]",
      "text/plain": [
       "<Figure size 432x288 with 1 Axes>"
      ]
     },
     "metadata": {
      "needs_background": "light"
     },
     "output_type": "display_data"
    }
   ],
   "source": [
    "sns.boxplot(data=df, x='avg_price_per_room', color='pink')"
   ]
  },
  {
   "cell_type": "code",
   "execution_count": 208,
   "id": "4c2e81b0",
   "metadata": {},
   "outputs": [
    {
     "name": "stdout",
     "output_type": "stream",
     "text": [
      "1069\n",
      "627\n"
     ]
    }
   ],
   "source": [
    "IQR = df.avg_price_per_room.describe()['75%']-df.avg_price_per_room.describe()['25%']\n",
    "uplim = df.avg_price_per_room.describe()['75%']+1.5*IQR\n",
    "lolim = df.avg_price_per_room.describe()['25%']-1.5*IQR\n",
    "print(len(df.avg_price_per_room[df.avg_price_per_room > uplim]))#1069\n",
    "print(len(df.avg_price_per_room[df.avg_price_per_room<lolim]))#627"
   ]
  },
  {
   "cell_type": "code",
   "execution_count": 209,
   "id": "3e3cf9e0",
   "metadata": {},
   "outputs": [],
   "source": [
    "df.avg_price_per_room = np.where(df.avg_price_per_room>uplim,uplim,df.avg_price_per_room)\n",
    "df.avg_price_per_room = np.where(df.avg_price_per_room<lolim,lolim,df.avg_price_per_room)"
   ]
  },
  {
   "cell_type": "code",
   "execution_count": 210,
   "id": "172a9019",
   "metadata": {},
   "outputs": [
    {
     "data": {
      "text/plain": [
       "<AxesSubplot:xlabel='avg_price_per_room'>"
      ]
     },
     "execution_count": 210,
     "metadata": {},
     "output_type": "execute_result"
    },
    {
     "data": {
      "image/png": "[encoded data removed]",
      "text/plain": [
       "<Figure size 432x288 with 1 Axes>"
      ]
     },
     "metadata": {
      "needs_background": "light"
     },
     "output_type": "display_data"
    }
   ],
   "source": [
    "sns.boxplot(data=df, x='avg_price_per_room', color='pink')"
   ]
  },
  {
   "cell_type": "code",
   "execution_count": 211,
   "id": "ae607571",
   "metadata": {},
   "outputs": [
    {
     "data": {
      "text/plain": [
       "Index(['no_of_adults', 'no_of_children', 'no_of_weekend_nights',\n",
       "       'no_of_week_nights', 'type_of_meal_plan', 'required_car_parking_space',\n",
       "       'room_type_reserved', 'lead_time', 'arrival_year', 'arrival_month',\n",
       "       'arrival_date', 'market_segment_type', 'repeated_guest',\n",
       "       'no_of_previous_cancellations', 'no_of_previous_bookings_not_canceled',\n",
       "       'avg_price_per_room', 'no_of_special_requests', 'booking_status'],\n",
       "      dtype='object')"
      ]
     },
     "execution_count": 211,
     "metadata": {},
     "output_type": "execute_result"
    }
   ],
   "source": [
    "df.columns"
   ]
  },
  {
   "cell_type": "code",
   "execution_count": 212,
   "id": "5052da6b",
   "metadata": {},
   "outputs": [
    {
     "data": {
      "text/plain": [
       "0    19777\n",
       "1    11373\n",
       "2     4364\n",
       "3      675\n",
       "4       78\n",
       "5        8\n",
       "Name: no_of_special_requests, dtype: int64"
      ]
     },
     "execution_count": 212,
     "metadata": {},
     "output_type": "execute_result"
    }
   ],
   "source": [
    "df.no_of_special_requests.value_counts()"
   ]
  },
  {
   "cell_type": "code",
   "execution_count": 213,
   "id": "c4337808",
   "metadata": {},
   "outputs": [
    {
     "data": {
      "text/plain": [
       "Text(0.5, 1.0, 'Barplot of no_of_special_requests')"
      ]
     },
     "execution_count": 213,
     "metadata": {},
     "output_type": "execute_result"
    },
    {
     "data": {
      "image/png": "[encoded data removed]",
      "text/plain": [
       "<Figure size 432x288 with 1 Axes>"
      ]
     },
     "metadata": {
      "needs_background": "light"
     },
     "output_type": "display_data"
    }
   ],
   "source": [
    "sns.countplot(x='no_of_special_requests', hue='booking_status',data=df,palette='husl')\n",
    "plt.title('Barplot of no_of_special_requests')"
   ]
  },
  {
   "cell_type": "code",
   "execution_count": 214,
   "id": "e7fed09a",
   "metadata": {},
   "outputs": [
    {
     "data": {
      "text/plain": [
       "(2421.6187208019905,\n",
       " 0.0,\n",
       " 5,\n",
       " array([[6.47965941e+03, 3.72620551e+03, 1.42980400e+03, 2.21154376e+02,\n",
       "         2.55556168e+01, 2.62108890e+00],\n",
       "        [1.32973406e+04, 7.64679449e+03, 2.93419600e+03, 4.53845624e+02,\n",
       "         5.24443832e+01, 5.37891110e+00]]))"
      ]
     },
     "execution_count": 214,
     "metadata": {},
     "output_type": "execute_result"
    }
   ],
   "source": [
    "#Hypothesis Testing\n",
    "from scipy.stats import chi2_contingency\n",
    "ct_house = pd.crosstab(df.booking_status, df.no_of_special_requests)\n",
    "chi2_contingency(ct_house, correction = False)"
   ]
  },
  {
   "cell_type": "code",
   "execution_count": 215,
   "id": "a46a8a0c",
   "metadata": {},
   "outputs": [],
   "source": [
    "#_______________VIF\n",
    "from statsmodels.stats.outliers_influence import variance_inflation_factor\n",
    "\n"
   ]
  },
  {
   "cell_type": "code",
   "execution_count": 216,
   "id": "86bc09cf",
   "metadata": {},
   "outputs": [],
   "source": [
    "# first put your predictors in x\n",
    "x = df.iloc[:, [7,15]] # x is a data frame\n"
   ]
  },
  {
   "cell_type": "code",
   "execution_count": 217,
   "id": "47f61da9",
   "metadata": {},
   "outputs": [
    {
     "name": "stdout",
     "output_type": "stream",
     "text": [
      "              feature       VIF\n",
      "0           lead_time  1.820821\n",
      "1  avg_price_per_room  1.820821\n"
     ]
    }
   ],
   "source": [
    "# VIF dataframe\n",
    "vif_data = pd.DataFrame()\n",
    "vif_data[\"feature\"] = x.columns \n",
    "  \n",
    "# calculating VIF for each feature\n",
    "vif_data[\"VIF\"] = [variance_inflation_factor(x.values, i)\n",
    "                          for i in range(len(x.columns))]\n",
    "  \n",
    "print(vif_data) # two columns, feature & VIF will appear"
   ]
  },
  {
   "cell_type": "code",
   "execution_count": 218,
   "id": "6152077f",
   "metadata": {},
   "outputs": [
    {
     "name": "stdout",
     "output_type": "stream",
     "text": [
      "<class 'pandas.core.frame.DataFrame'>\n",
      "RangeIndex: 36275 entries, 0 to 36274\n",
      "Data columns (total 18 columns):\n",
      " #   Column                                Non-Null Count  Dtype  \n",
      "---  ------                                --------------  -----  \n",
      " 0   no_of_adults                          36275 non-null  int64  \n",
      " 1   no_of_children                        36275 non-null  int64  \n",
      " 2   no_of_weekend_nights                  36275 non-null  int64  \n",
      " 3   no_of_week_nights                     36275 non-null  int64  \n",
      " 4   type_of_meal_plan                     36275 non-null  int64  \n",
      " 5   required_car_parking_space            36275 non-null  int64  \n",
      " 6   room_type_reserved                    36275 non-null  int8   \n",
      " 7   lead_time                             36275 non-null  float64\n",
      " 8   arrival_year                          36275 non-null  int64  \n",
      " 9   arrival_month                         36275 non-null  int64  \n",
      " 10  arrival_date                          36275 non-null  int64  \n",
      " 11  market_segment_type                   36275 non-null  int8   \n",
      " 12  repeated_guest                        36275 non-null  int64  \n",
      " 13  no_of_previous_cancellations          36275 non-null  int64  \n",
      " 14  no_of_previous_bookings_not_canceled  36275 non-null  int64  \n",
      " 15  avg_price_per_room                    36275 non-null  float64\n",
      " 16  no_of_special_requests                36275 non-null  int64  \n",
      " 17  booking_status                        36275 non-null  int8   \n",
      "dtypes: float64(2), int64(13), int8(3)\n",
      "memory usage: 4.3 MB\n"
     ]
    }
   ],
   "source": [
    "df.info()"
   ]
  },
  {
   "cell_type": "code",
   "execution_count": 219,
   "id": "d4dba1d7",
   "metadata": {},
   "outputs": [],
   "source": [
    "#TRAIN TEST SPLIT\n",
    "# X and y\n",
    "x = df.loc[:, df.columns != 'booking_status']\n",
    "y = df.loc[:, df.columns == 'booking_status']"
   ]
  },
  {
   "cell_type": "code",
   "execution_count": 220,
   "id": "6cf2b976",
   "metadata": {},
   "outputs": [],
   "source": [
    "# Selecting important features based on RandomForest\n",
    "\n",
    "from sklearn.ensemble import RandomForestClassifier\n",
    "from sklearn.feature_selection import SelectFromModel\n",
    "from sklearn.model_selection import train_test_split\n",
    "\n",
    "x_train, x_test, y_train, y_test = train_test_split(x, y, test_size = .25, random_state=20)"
   ]
  },
  {
   "cell_type": "code",
   "execution_count": 221,
   "id": "68cb5601",
   "metadata": {},
   "outputs": [
    {
     "data": {
      "text/plain": [
       "(27206, 17)"
      ]
     },
     "execution_count": 221,
     "metadata": {},
     "output_type": "execute_result"
    }
   ],
   "source": [
    "x_train.shape"
   ]
  },
  {
   "cell_type": "code",
   "execution_count": 222,
   "id": "e92d4888",
   "metadata": {},
   "outputs": [
    {
     "data": {
      "text/plain": [
       "(9069, 1)"
      ]
     },
     "execution_count": 222,
     "metadata": {},
     "output_type": "execute_result"
    }
   ],
   "source": [
    "y_test.shape"
   ]
  },
  {
   "cell_type": "code",
   "execution_count": 223,
   "id": "5bd6a7ef",
   "metadata": {},
   "outputs": [
    {
     "name": "stderr",
     "output_type": "stream",
     "text": [
      "C:\\Users\\chris\\anaconda3\\lib\\site-packages\\sklearn\\feature_selection\\_from_model.py:267: DataConversionWarning: A column-vector y was passed when a 1d array was expected. Please change the shape of y to (n_samples,), for example using ravel().\n",
      "  self.estimator_.fit(X, y, **fit_params)\n"
     ]
    },
    {
     "data": {
      "text/plain": [
       "SelectFromModel(estimator=RandomForestClassifier())"
      ]
     },
     "execution_count": 223,
     "metadata": {},
     "output_type": "execute_result"
    }
   ],
   "source": [
    "S_Model = SelectFromModel(RandomForestClassifier(n_estimators = 100))\n",
    "\n",
    "S_Model.fit(x_train, y_train)"
   ]
  },
  {
   "cell_type": "code",
   "execution_count": 224,
   "id": "c9ce70c0",
   "metadata": {},
   "outputs": [
    {
     "data": {
      "text/plain": [
       "array([False, False, False, False, False, False, False,  True, False,\n",
       "        True,  True, False, False, False, False,  True,  True])"
      ]
     },
     "execution_count": 224,
     "metadata": {},
     "output_type": "execute_result"
    }
   ],
   "source": [
    "S_Model.get_support()\n"
   ]
  },
  {
   "cell_type": "code",
   "execution_count": 225,
   "id": "af1263bc",
   "metadata": {},
   "outputs": [
    {
     "data": {
      "text/plain": [
       "5"
      ]
     },
     "execution_count": 225,
     "metadata": {},
     "output_type": "execute_result"
    }
   ],
   "source": [
    "S_Feat = x_train.columns[(S_Model.get_support())]\n",
    "len(S_Feat)"
   ]
  },
  {
   "cell_type": "code",
   "execution_count": 226,
   "id": "c9b3d6d1",
   "metadata": {},
   "outputs": [
    {
     "name": "stdout",
     "output_type": "stream",
     "text": [
      "Index(['lead_time', 'arrival_month', 'arrival_date', 'avg_price_per_room',\n",
      "       'no_of_special_requests'],\n",
      "      dtype='object')\n"
     ]
    }
   ],
   "source": [
    "print(S_Feat)"
   ]
  },
  {
   "cell_type": "code",
   "execution_count": 227,
   "id": "2841a465",
   "metadata": {},
   "outputs": [
    {
     "name": "stderr",
     "output_type": "stream",
     "text": [
      "C:\\Users\\chris\\AppData\\Local\\Temp\\ipykernel_20580\\989341615.py:2: DataConversionWarning: A column-vector y was passed when a 1d array was expected. Please change the shape of y to (n_samples,), for example using ravel().\n",
      "  random_forest = RFC.fit(x_train, y_train)\n"
     ]
    }
   ],
   "source": [
    "RFC = RandomForestClassifier(n_estimators = 150)\n",
    "random_forest = RFC.fit(x_train, y_train)"
   ]
  },
  {
   "cell_type": "code",
   "execution_count": 228,
   "id": "f9cbc533",
   "metadata": {},
   "outputs": [],
   "source": [
    "imp_df = pd.DataFrame({\n",
    "    \"columns\": x_train.columns,\n",
    "    \"Imp\": RFC.feature_importances_\n",
    "})"
   ]
  },
  {
   "cell_type": "code",
   "execution_count": 229,
   "id": "a0b9f27b",
   "metadata": {},
   "outputs": [
    {
     "data": {
      "text/html": [
       "<div>\n",
       "<style scoped>\n",
       "    .dataframe tbody tr th:only-of-type {\n",
       "        vertical-align: middle;\n",
       "    }\n",
       "\n",
       "    .dataframe tbody tr th {\n",
       "        vertical-align: top;\n",
       "    }\n",
       "\n",
       "    .dataframe thead th {\n",
       "        text-align: right;\n",
       "    }\n",
       "</style>\n",
       "<table border=\"1\" class=\"dataframe\">\n",
       "  <thead>\n",
       "    <tr style=\"text-align: right;\">\n",
       "      <th></th>\n",
       "      <th>columns</th>\n",
       "      <th>Imp</th>\n",
       "    </tr>\n",
       "  </thead>\n",
       "  <tbody>\n",
       "    <tr>\n",
       "      <th>7</th>\n",
       "      <td>lead_time</td>\n",
       "      <td>0.319419</td>\n",
       "    </tr>\n",
       "    <tr>\n",
       "      <th>15</th>\n",
       "      <td>avg_price_per_room</td>\n",
       "      <td>0.161462</td>\n",
       "    </tr>\n",
       "    <tr>\n",
       "      <th>16</th>\n",
       "      <td>no_of_special_requests</td>\n",
       "      <td>0.095110</td>\n",
       "    </tr>\n",
       "    <tr>\n",
       "      <th>10</th>\n",
       "      <td>arrival_date</td>\n",
       "      <td>0.091750</td>\n",
       "    </tr>\n",
       "    <tr>\n",
       "      <th>9</th>\n",
       "      <td>arrival_month</td>\n",
       "      <td>0.080207</td>\n",
       "    </tr>\n",
       "    <tr>\n",
       "      <th>11</th>\n",
       "      <td>market_segment_type</td>\n",
       "      <td>0.054676</td>\n",
       "    </tr>\n",
       "    <tr>\n",
       "      <th>3</th>\n",
       "      <td>no_of_week_nights</td>\n",
       "      <td>0.053072</td>\n",
       "    </tr>\n",
       "    <tr>\n",
       "      <th>2</th>\n",
       "      <td>no_of_weekend_nights</td>\n",
       "      <td>0.037497</td>\n",
       "    </tr>\n",
       "    <tr>\n",
       "      <th>8</th>\n",
       "      <td>arrival_year</td>\n",
       "      <td>0.024782</td>\n",
       "    </tr>\n",
       "    <tr>\n",
       "      <th>0</th>\n",
       "      <td>no_of_adults</td>\n",
       "      <td>0.024344</td>\n",
       "    </tr>\n",
       "    <tr>\n",
       "      <th>4</th>\n",
       "      <td>type_of_meal_plan</td>\n",
       "      <td>0.023199</td>\n",
       "    </tr>\n",
       "    <tr>\n",
       "      <th>6</th>\n",
       "      <td>room_type_reserved</td>\n",
       "      <td>0.016286</td>\n",
       "    </tr>\n",
       "    <tr>\n",
       "      <th>1</th>\n",
       "      <td>no_of_children</td>\n",
       "      <td>0.007794</td>\n",
       "    </tr>\n",
       "    <tr>\n",
       "      <th>5</th>\n",
       "      <td>required_car_parking_space</td>\n",
       "      <td>0.006417</td>\n",
       "    </tr>\n",
       "    <tr>\n",
       "      <th>12</th>\n",
       "      <td>repeated_guest</td>\n",
       "      <td>0.002206</td>\n",
       "    </tr>\n",
       "    <tr>\n",
       "      <th>14</th>\n",
       "      <td>no_of_previous_bookings_not_canceled</td>\n",
       "      <td>0.001496</td>\n",
       "    </tr>\n",
       "    <tr>\n",
       "      <th>13</th>\n",
       "      <td>no_of_previous_cancellations</td>\n",
       "      <td>0.000283</td>\n",
       "    </tr>\n",
       "  </tbody>\n",
       "</table>\n",
       "</div>"
      ],
      "text/plain": [
       "                                 columns       Imp\n",
       "7                              lead_time  0.319419\n",
       "15                    avg_price_per_room  0.161462\n",
       "16                no_of_special_requests  0.095110\n",
       "10                          arrival_date  0.091750\n",
       "9                          arrival_month  0.080207\n",
       "11                   market_segment_type  0.054676\n",
       "3                      no_of_week_nights  0.053072\n",
       "2                   no_of_weekend_nights  0.037497\n",
       "8                           arrival_year  0.024782\n",
       "0                           no_of_adults  0.024344\n",
       "4                      type_of_meal_plan  0.023199\n",
       "6                     room_type_reserved  0.016286\n",
       "1                         no_of_children  0.007794\n",
       "5             required_car_parking_space  0.006417\n",
       "12                        repeated_guest  0.002206\n",
       "14  no_of_previous_bookings_not_canceled  0.001496\n",
       "13          no_of_previous_cancellations  0.000283"
      ]
     },
     "execution_count": 229,
     "metadata": {},
     "output_type": "execute_result"
    }
   ],
   "source": [
    "imp_df.sort_values(by=\"Imp\", ascending=False)"
   ]
  },
  {
   "cell_type": "code",
   "execution_count": 230,
   "id": "c2c60c82",
   "metadata": {},
   "outputs": [],
   "source": [
    "#Handling unbalanced data using SMOTE"
   ]
  },
  {
   "cell_type": "code",
   "execution_count": 235,
   "id": "e2a01d97",
   "metadata": {},
   "outputs": [],
   "source": [
    "from sklearn.utils import resample"
   ]
  },
  {
   "cell_type": "code",
   "execution_count": 236,
   "id": "223ed540",
   "metadata": {},
   "outputs": [
    {
     "data": {
      "text/plain": [
       "1    24390\n",
       "0    11885\n",
       "Name: booking_status, dtype: int64"
      ]
     },
     "execution_count": 236,
     "metadata": {},
     "output_type": "execute_result"
    }
   ],
   "source": [
    "df.booking_status.value_counts()"
   ]
  },
  {
   "cell_type": "code",
   "execution_count": 237,
   "id": "3cfa9898",
   "metadata": {},
   "outputs": [
    {
     "data": {
      "text/plain": [
       "11885"
      ]
     },
     "execution_count": 237,
     "metadata": {},
     "output_type": "execute_result"
    }
   ],
   "source": [
    "not_booking_status = df[df.booking_status == 0]\n",
    "len(not_booking_status)"
   ]
  },
  {
   "cell_type": "code",
   "execution_count": 238,
   "id": "8e3ecaa7",
   "metadata": {},
   "outputs": [
    {
     "data": {
      "text/plain": [
       "24390"
      ]
     },
     "execution_count": 238,
     "metadata": {},
     "output_type": "execute_result"
    }
   ],
   "source": [
    "yes_booking_status = df[df.booking_status == 1]\n",
    "len(yes_booking_status)"
   ]
  },
  {
   "cell_type": "code",
   "execution_count": 239,
   "id": "5c763325",
   "metadata": {},
   "outputs": [],
   "source": [
    "booking_status_df = resample(yes_booking_status, replace = True, n_samples = len(not_booking_status), random_state =20)"
   ]
  },
  {
   "cell_type": "code",
   "execution_count": 240,
   "id": "fca5e0da",
   "metadata": {},
   "outputs": [
    {
     "data": {
      "text/html": [
       "<div>\n",
       "<style scoped>\n",
       "    .dataframe tbody tr th:only-of-type {\n",
       "        vertical-align: middle;\n",
       "    }\n",
       "\n",
       "    .dataframe tbody tr th {\n",
       "        vertical-align: top;\n",
       "    }\n",
       "\n",
       "    .dataframe thead th {\n",
       "        text-align: right;\n",
       "    }\n",
       "</style>\n",
       "<table border=\"1\" class=\"dataframe\">\n",
       "  <thead>\n",
       "    <tr style=\"text-align: right;\">\n",
       "      <th></th>\n",
       "      <th>no_of_adults</th>\n",
       "      <th>no_of_children</th>\n",
       "      <th>no_of_weekend_nights</th>\n",
       "      <th>no_of_week_nights</th>\n",
       "      <th>type_of_meal_plan</th>\n",
       "      <th>required_car_parking_space</th>\n",
       "      <th>room_type_reserved</th>\n",
       "      <th>lead_time</th>\n",
       "      <th>arrival_year</th>\n",
       "      <th>arrival_month</th>\n",
       "      <th>arrival_date</th>\n",
       "      <th>market_segment_type</th>\n",
       "      <th>repeated_guest</th>\n",
       "      <th>no_of_previous_cancellations</th>\n",
       "      <th>no_of_previous_bookings_not_canceled</th>\n",
       "      <th>avg_price_per_room</th>\n",
       "      <th>no_of_special_requests</th>\n",
       "      <th>booking_status</th>\n",
       "    </tr>\n",
       "  </thead>\n",
       "  <tbody>\n",
       "    <tr>\n",
       "      <th>23316</th>\n",
       "      <td>2</td>\n",
       "      <td>0</td>\n",
       "      <td>2</td>\n",
       "      <td>5</td>\n",
       "      <td>0</td>\n",
       "      <td>0</td>\n",
       "      <td>0</td>\n",
       "      <td>144.0</td>\n",
       "      <td>2018</td>\n",
       "      <td>9</td>\n",
       "      <td>7</td>\n",
       "      <td>4</td>\n",
       "      <td>0</td>\n",
       "      <td>0</td>\n",
       "      <td>0</td>\n",
       "      <td>116.10</td>\n",
       "      <td>1</td>\n",
       "      <td>1</td>\n",
       "    </tr>\n",
       "    <tr>\n",
       "      <th>6461</th>\n",
       "      <td>2</td>\n",
       "      <td>0</td>\n",
       "      <td>0</td>\n",
       "      <td>3</td>\n",
       "      <td>1</td>\n",
       "      <td>0</td>\n",
       "      <td>0</td>\n",
       "      <td>188.0</td>\n",
       "      <td>2018</td>\n",
       "      <td>6</td>\n",
       "      <td>2</td>\n",
       "      <td>3</td>\n",
       "      <td>0</td>\n",
       "      <td>0</td>\n",
       "      <td>0</td>\n",
       "      <td>80.75</td>\n",
       "      <td>0</td>\n",
       "      <td>1</td>\n",
       "    </tr>\n",
       "    <tr>\n",
       "      <th>35329</th>\n",
       "      <td>2</td>\n",
       "      <td>0</td>\n",
       "      <td>2</td>\n",
       "      <td>1</td>\n",
       "      <td>2</td>\n",
       "      <td>0</td>\n",
       "      <td>0</td>\n",
       "      <td>124.0</td>\n",
       "      <td>2017</td>\n",
       "      <td>8</td>\n",
       "      <td>8</td>\n",
       "      <td>3</td>\n",
       "      <td>0</td>\n",
       "      <td>0</td>\n",
       "      <td>0</td>\n",
       "      <td>94.50</td>\n",
       "      <td>0</td>\n",
       "      <td>1</td>\n",
       "    </tr>\n",
       "    <tr>\n",
       "      <th>34815</th>\n",
       "      <td>3</td>\n",
       "      <td>0</td>\n",
       "      <td>0</td>\n",
       "      <td>5</td>\n",
       "      <td>1</td>\n",
       "      <td>0</td>\n",
       "      <td>3</td>\n",
       "      <td>35.0</td>\n",
       "      <td>2018</td>\n",
       "      <td>4</td>\n",
       "      <td>19</td>\n",
       "      <td>4</td>\n",
       "      <td>0</td>\n",
       "      <td>0</td>\n",
       "      <td>0</td>\n",
       "      <td>136.62</td>\n",
       "      <td>3</td>\n",
       "      <td>1</td>\n",
       "    </tr>\n",
       "    <tr>\n",
       "      <th>21835</th>\n",
       "      <td>2</td>\n",
       "      <td>0</td>\n",
       "      <td>1</td>\n",
       "      <td>2</td>\n",
       "      <td>1</td>\n",
       "      <td>0</td>\n",
       "      <td>0</td>\n",
       "      <td>126.0</td>\n",
       "      <td>2018</td>\n",
       "      <td>7</td>\n",
       "      <td>25</td>\n",
       "      <td>4</td>\n",
       "      <td>0</td>\n",
       "      <td>0</td>\n",
       "      <td>0</td>\n",
       "      <td>77.03</td>\n",
       "      <td>1</td>\n",
       "      <td>1</td>\n",
       "    </tr>\n",
       "    <tr>\n",
       "      <th>...</th>\n",
       "      <td>...</td>\n",
       "      <td>...</td>\n",
       "      <td>...</td>\n",
       "      <td>...</td>\n",
       "      <td>...</td>\n",
       "      <td>...</td>\n",
       "      <td>...</td>\n",
       "      <td>...</td>\n",
       "      <td>...</td>\n",
       "      <td>...</td>\n",
       "      <td>...</td>\n",
       "      <td>...</td>\n",
       "      <td>...</td>\n",
       "      <td>...</td>\n",
       "      <td>...</td>\n",
       "      <td>...</td>\n",
       "      <td>...</td>\n",
       "      <td>...</td>\n",
       "    </tr>\n",
       "    <tr>\n",
       "      <th>33050</th>\n",
       "      <td>1</td>\n",
       "      <td>0</td>\n",
       "      <td>0</td>\n",
       "      <td>2</td>\n",
       "      <td>0</td>\n",
       "      <td>0</td>\n",
       "      <td>0</td>\n",
       "      <td>0.0</td>\n",
       "      <td>2018</td>\n",
       "      <td>6</td>\n",
       "      <td>21</td>\n",
       "      <td>4</td>\n",
       "      <td>0</td>\n",
       "      <td>0</td>\n",
       "      <td>0</td>\n",
       "      <td>129.00</td>\n",
       "      <td>1</td>\n",
       "      <td>1</td>\n",
       "    </tr>\n",
       "    <tr>\n",
       "      <th>5214</th>\n",
       "      <td>1</td>\n",
       "      <td>0</td>\n",
       "      <td>0</td>\n",
       "      <td>2</td>\n",
       "      <td>1</td>\n",
       "      <td>1</td>\n",
       "      <td>0</td>\n",
       "      <td>12.0</td>\n",
       "      <td>2018</td>\n",
       "      <td>2</td>\n",
       "      <td>16</td>\n",
       "      <td>2</td>\n",
       "      <td>1</td>\n",
       "      <td>0</td>\n",
       "      <td>4</td>\n",
       "      <td>67.00</td>\n",
       "      <td>1</td>\n",
       "      <td>1</td>\n",
       "    </tr>\n",
       "    <tr>\n",
       "      <th>24979</th>\n",
       "      <td>2</td>\n",
       "      <td>1</td>\n",
       "      <td>2</td>\n",
       "      <td>5</td>\n",
       "      <td>1</td>\n",
       "      <td>0</td>\n",
       "      <td>0</td>\n",
       "      <td>150.0</td>\n",
       "      <td>2018</td>\n",
       "      <td>9</td>\n",
       "      <td>18</td>\n",
       "      <td>4</td>\n",
       "      <td>0</td>\n",
       "      <td>0</td>\n",
       "      <td>0</td>\n",
       "      <td>91.12</td>\n",
       "      <td>0</td>\n",
       "      <td>1</td>\n",
       "    </tr>\n",
       "    <tr>\n",
       "      <th>32971</th>\n",
       "      <td>2</td>\n",
       "      <td>0</td>\n",
       "      <td>0</td>\n",
       "      <td>1</td>\n",
       "      <td>0</td>\n",
       "      <td>0</td>\n",
       "      <td>0</td>\n",
       "      <td>101.0</td>\n",
       "      <td>2018</td>\n",
       "      <td>7</td>\n",
       "      <td>15</td>\n",
       "      <td>4</td>\n",
       "      <td>0</td>\n",
       "      <td>0</td>\n",
       "      <td>0</td>\n",
       "      <td>94.50</td>\n",
       "      <td>2</td>\n",
       "      <td>1</td>\n",
       "    </tr>\n",
       "    <tr>\n",
       "      <th>16066</th>\n",
       "      <td>1</td>\n",
       "      <td>0</td>\n",
       "      <td>1</td>\n",
       "      <td>1</td>\n",
       "      <td>1</td>\n",
       "      <td>0</td>\n",
       "      <td>0</td>\n",
       "      <td>0.0</td>\n",
       "      <td>2018</td>\n",
       "      <td>1</td>\n",
       "      <td>18</td>\n",
       "      <td>3</td>\n",
       "      <td>0</td>\n",
       "      <td>0</td>\n",
       "      <td>0</td>\n",
       "      <td>64.50</td>\n",
       "      <td>0</td>\n",
       "      <td>1</td>\n",
       "    </tr>\n",
       "  </tbody>\n",
       "</table>\n",
       "<p>11885 rows × 18 columns</p>\n",
       "</div>"
      ],
      "text/plain": [
       "       no_of_adults  no_of_children  no_of_weekend_nights  no_of_week_nights  \\\n",
       "23316             2               0                     2                  5   \n",
       "6461              2               0                     0                  3   \n",
       "35329             2               0                     2                  1   \n",
       "34815             3               0                     0                  5   \n",
       "21835             2               0                     1                  2   \n",
       "...             ...             ...                   ...                ...   \n",
       "33050             1               0                     0                  2   \n",
       "5214              1               0                     0                  2   \n",
       "24979             2               1                     2                  5   \n",
       "32971             2               0                     0                  1   \n",
       "16066             1               0                     1                  1   \n",
       "\n",
       "       type_of_meal_plan  required_car_parking_space  room_type_reserved  \\\n",
       "23316                  0                           0                   0   \n",
       "6461                   1                           0                   0   \n",
       "35329                  2                           0                   0   \n",
       "34815                  1                           0                   3   \n",
       "21835                  1                           0                   0   \n",
       "...                  ...                         ...                 ...   \n",
       "33050                  0                           0                   0   \n",
       "5214                   1                           1                   0   \n",
       "24979                  1                           0                   0   \n",
       "32971                  0                           0                   0   \n",
       "16066                  1                           0                   0   \n",
       "\n",
       "       lead_time  arrival_year  arrival_month  arrival_date  \\\n",
       "23316      144.0          2018              9             7   \n",
       "6461       188.0          2018              6             2   \n",
       "35329      124.0          2017              8             8   \n",
       "34815       35.0          2018              4            19   \n",
       "21835      126.0          2018              7            25   \n",
       "...          ...           ...            ...           ...   \n",
       "33050        0.0          2018              6            21   \n",
       "5214        12.0          2018              2            16   \n",
       "24979      150.0          2018              9            18   \n",
       "32971      101.0          2018              7            15   \n",
       "16066        0.0          2018              1            18   \n",
       "\n",
       "       market_segment_type  repeated_guest  no_of_previous_cancellations  \\\n",
       "23316                    4               0                             0   \n",
       "6461                     3               0                             0   \n",
       "35329                    3               0                             0   \n",
       "34815                    4               0                             0   \n",
       "21835                    4               0                             0   \n",
       "...                    ...             ...                           ...   \n",
       "33050                    4               0                             0   \n",
       "5214                     2               1                             0   \n",
       "24979                    4               0                             0   \n",
       "32971                    4               0                             0   \n",
       "16066                    3               0                             0   \n",
       "\n",
       "       no_of_previous_bookings_not_canceled  avg_price_per_room  \\\n",
       "23316                                     0              116.10   \n",
       "6461                                      0               80.75   \n",
       "35329                                     0               94.50   \n",
       "34815                                     0              136.62   \n",
       "21835                                     0               77.03   \n",
       "...                                     ...                 ...   \n",
       "33050                                     0              129.00   \n",
       "5214                                      4               67.00   \n",
       "24979                                     0               91.12   \n",
       "32971                                     0               94.50   \n",
       "16066                                     0               64.50   \n",
       "\n",
       "       no_of_special_requests  booking_status  \n",
       "23316                       1               1  \n",
       "6461                        0               1  \n",
       "35329                       0               1  \n",
       "34815                       3               1  \n",
       "21835                       1               1  \n",
       "...                       ...             ...  \n",
       "33050                       1               1  \n",
       "5214                        1               1  \n",
       "24979                       0               1  \n",
       "32971                       2               1  \n",
       "16066                       0               1  \n",
       "\n",
       "[11885 rows x 18 columns]"
      ]
     },
     "execution_count": 240,
     "metadata": {},
     "output_type": "execute_result"
    }
   ],
   "source": [
    "booking_status_df"
   ]
  },
  {
   "cell_type": "code",
   "execution_count": 241,
   "id": "d144272e",
   "metadata": {},
   "outputs": [],
   "source": [
    "balanced_df = pd.concat([not_booking_status, booking_status_df])"
   ]
  },
  {
   "cell_type": "code",
   "execution_count": 242,
   "id": "7e05b534",
   "metadata": {},
   "outputs": [
    {
     "data": {
      "text/html": [
       "<div>\n",
       "<style scoped>\n",
       "    .dataframe tbody tr th:only-of-type {\n",
       "        vertical-align: middle;\n",
       "    }\n",
       "\n",
       "    .dataframe tbody tr th {\n",
       "        vertical-align: top;\n",
       "    }\n",
       "\n",
       "    .dataframe thead th {\n",
       "        text-align: right;\n",
       "    }\n",
       "</style>\n",
       "<table border=\"1\" class=\"dataframe\">\n",
       "  <thead>\n",
       "    <tr style=\"text-align: right;\">\n",
       "      <th></th>\n",
       "      <th>no_of_adults</th>\n",
       "      <th>no_of_children</th>\n",
       "      <th>no_of_weekend_nights</th>\n",
       "      <th>no_of_week_nights</th>\n",
       "      <th>type_of_meal_plan</th>\n",
       "      <th>required_car_parking_space</th>\n",
       "      <th>room_type_reserved</th>\n",
       "      <th>lead_time</th>\n",
       "      <th>arrival_year</th>\n",
       "      <th>arrival_month</th>\n",
       "      <th>arrival_date</th>\n",
       "      <th>market_segment_type</th>\n",
       "      <th>repeated_guest</th>\n",
       "      <th>no_of_previous_cancellations</th>\n",
       "      <th>no_of_previous_bookings_not_canceled</th>\n",
       "      <th>avg_price_per_room</th>\n",
       "      <th>no_of_special_requests</th>\n",
       "      <th>booking_status</th>\n",
       "    </tr>\n",
       "  </thead>\n",
       "  <tbody>\n",
       "    <tr>\n",
       "      <th>2</th>\n",
       "      <td>1</td>\n",
       "      <td>0</td>\n",
       "      <td>2</td>\n",
       "      <td>1</td>\n",
       "      <td>1</td>\n",
       "      <td>0</td>\n",
       "      <td>0</td>\n",
       "      <td>1.0</td>\n",
       "      <td>2018</td>\n",
       "      <td>2</td>\n",
       "      <td>28</td>\n",
       "      <td>4</td>\n",
       "      <td>0</td>\n",
       "      <td>0</td>\n",
       "      <td>0</td>\n",
       "      <td>60.00</td>\n",
       "      <td>0</td>\n",
       "      <td>0</td>\n",
       "    </tr>\n",
       "    <tr>\n",
       "      <th>3</th>\n",
       "      <td>2</td>\n",
       "      <td>0</td>\n",
       "      <td>0</td>\n",
       "      <td>2</td>\n",
       "      <td>1</td>\n",
       "      <td>0</td>\n",
       "      <td>0</td>\n",
       "      <td>211.0</td>\n",
       "      <td>2018</td>\n",
       "      <td>5</td>\n",
       "      <td>20</td>\n",
       "      <td>4</td>\n",
       "      <td>0</td>\n",
       "      <td>0</td>\n",
       "      <td>0</td>\n",
       "      <td>100.00</td>\n",
       "      <td>0</td>\n",
       "      <td>0</td>\n",
       "    </tr>\n",
       "    <tr>\n",
       "      <th>4</th>\n",
       "      <td>2</td>\n",
       "      <td>0</td>\n",
       "      <td>1</td>\n",
       "      <td>1</td>\n",
       "      <td>0</td>\n",
       "      <td>0</td>\n",
       "      <td>0</td>\n",
       "      <td>48.0</td>\n",
       "      <td>2018</td>\n",
       "      <td>4</td>\n",
       "      <td>11</td>\n",
       "      <td>4</td>\n",
       "      <td>0</td>\n",
       "      <td>0</td>\n",
       "      <td>0</td>\n",
       "      <td>94.50</td>\n",
       "      <td>0</td>\n",
       "      <td>0</td>\n",
       "    </tr>\n",
       "    <tr>\n",
       "      <th>5</th>\n",
       "      <td>2</td>\n",
       "      <td>0</td>\n",
       "      <td>0</td>\n",
       "      <td>2</td>\n",
       "      <td>2</td>\n",
       "      <td>0</td>\n",
       "      <td>0</td>\n",
       "      <td>289.5</td>\n",
       "      <td>2018</td>\n",
       "      <td>9</td>\n",
       "      <td>13</td>\n",
       "      <td>4</td>\n",
       "      <td>0</td>\n",
       "      <td>0</td>\n",
       "      <td>0</td>\n",
       "      <td>115.00</td>\n",
       "      <td>1</td>\n",
       "      <td>0</td>\n",
       "    </tr>\n",
       "    <tr>\n",
       "      <th>12</th>\n",
       "      <td>2</td>\n",
       "      <td>0</td>\n",
       "      <td>2</td>\n",
       "      <td>1</td>\n",
       "      <td>0</td>\n",
       "      <td>0</td>\n",
       "      <td>0</td>\n",
       "      <td>30.0</td>\n",
       "      <td>2018</td>\n",
       "      <td>11</td>\n",
       "      <td>26</td>\n",
       "      <td>4</td>\n",
       "      <td>0</td>\n",
       "      <td>0</td>\n",
       "      <td>0</td>\n",
       "      <td>88.00</td>\n",
       "      <td>0</td>\n",
       "      <td>0</td>\n",
       "    </tr>\n",
       "    <tr>\n",
       "      <th>...</th>\n",
       "      <td>...</td>\n",
       "      <td>...</td>\n",
       "      <td>...</td>\n",
       "      <td>...</td>\n",
       "      <td>...</td>\n",
       "      <td>...</td>\n",
       "      <td>...</td>\n",
       "      <td>...</td>\n",
       "      <td>...</td>\n",
       "      <td>...</td>\n",
       "      <td>...</td>\n",
       "      <td>...</td>\n",
       "      <td>...</td>\n",
       "      <td>...</td>\n",
       "      <td>...</td>\n",
       "      <td>...</td>\n",
       "      <td>...</td>\n",
       "      <td>...</td>\n",
       "    </tr>\n",
       "    <tr>\n",
       "      <th>33050</th>\n",
       "      <td>1</td>\n",
       "      <td>0</td>\n",
       "      <td>0</td>\n",
       "      <td>2</td>\n",
       "      <td>0</td>\n",
       "      <td>0</td>\n",
       "      <td>0</td>\n",
       "      <td>0.0</td>\n",
       "      <td>2018</td>\n",
       "      <td>6</td>\n",
       "      <td>21</td>\n",
       "      <td>4</td>\n",
       "      <td>0</td>\n",
       "      <td>0</td>\n",
       "      <td>0</td>\n",
       "      <td>129.00</td>\n",
       "      <td>1</td>\n",
       "      <td>1</td>\n",
       "    </tr>\n",
       "    <tr>\n",
       "      <th>5214</th>\n",
       "      <td>1</td>\n",
       "      <td>0</td>\n",
       "      <td>0</td>\n",
       "      <td>2</td>\n",
       "      <td>1</td>\n",
       "      <td>1</td>\n",
       "      <td>0</td>\n",
       "      <td>12.0</td>\n",
       "      <td>2018</td>\n",
       "      <td>2</td>\n",
       "      <td>16</td>\n",
       "      <td>2</td>\n",
       "      <td>1</td>\n",
       "      <td>0</td>\n",
       "      <td>4</td>\n",
       "      <td>67.00</td>\n",
       "      <td>1</td>\n",
       "      <td>1</td>\n",
       "    </tr>\n",
       "    <tr>\n",
       "      <th>24979</th>\n",
       "      <td>2</td>\n",
       "      <td>1</td>\n",
       "      <td>2</td>\n",
       "      <td>5</td>\n",
       "      <td>1</td>\n",
       "      <td>0</td>\n",
       "      <td>0</td>\n",
       "      <td>150.0</td>\n",
       "      <td>2018</td>\n",
       "      <td>9</td>\n",
       "      <td>18</td>\n",
       "      <td>4</td>\n",
       "      <td>0</td>\n",
       "      <td>0</td>\n",
       "      <td>0</td>\n",
       "      <td>91.12</td>\n",
       "      <td>0</td>\n",
       "      <td>1</td>\n",
       "    </tr>\n",
       "    <tr>\n",
       "      <th>32971</th>\n",
       "      <td>2</td>\n",
       "      <td>0</td>\n",
       "      <td>0</td>\n",
       "      <td>1</td>\n",
       "      <td>0</td>\n",
       "      <td>0</td>\n",
       "      <td>0</td>\n",
       "      <td>101.0</td>\n",
       "      <td>2018</td>\n",
       "      <td>7</td>\n",
       "      <td>15</td>\n",
       "      <td>4</td>\n",
       "      <td>0</td>\n",
       "      <td>0</td>\n",
       "      <td>0</td>\n",
       "      <td>94.50</td>\n",
       "      <td>2</td>\n",
       "      <td>1</td>\n",
       "    </tr>\n",
       "    <tr>\n",
       "      <th>16066</th>\n",
       "      <td>1</td>\n",
       "      <td>0</td>\n",
       "      <td>1</td>\n",
       "      <td>1</td>\n",
       "      <td>1</td>\n",
       "      <td>0</td>\n",
       "      <td>0</td>\n",
       "      <td>0.0</td>\n",
       "      <td>2018</td>\n",
       "      <td>1</td>\n",
       "      <td>18</td>\n",
       "      <td>3</td>\n",
       "      <td>0</td>\n",
       "      <td>0</td>\n",
       "      <td>0</td>\n",
       "      <td>64.50</td>\n",
       "      <td>0</td>\n",
       "      <td>1</td>\n",
       "    </tr>\n",
       "  </tbody>\n",
       "</table>\n",
       "<p>23770 rows × 18 columns</p>\n",
       "</div>"
      ],
      "text/plain": [
       "       no_of_adults  no_of_children  no_of_weekend_nights  no_of_week_nights  \\\n",
       "2                 1               0                     2                  1   \n",
       "3                 2               0                     0                  2   \n",
       "4                 2               0                     1                  1   \n",
       "5                 2               0                     0                  2   \n",
       "12                2               0                     2                  1   \n",
       "...             ...             ...                   ...                ...   \n",
       "33050             1               0                     0                  2   \n",
       "5214              1               0                     0                  2   \n",
       "24979             2               1                     2                  5   \n",
       "32971             2               0                     0                  1   \n",
       "16066             1               0                     1                  1   \n",
       "\n",
       "       type_of_meal_plan  required_car_parking_space  room_type_reserved  \\\n",
       "2                      1                           0                   0   \n",
       "3                      1                           0                   0   \n",
       "4                      0                           0                   0   \n",
       "5                      2                           0                   0   \n",
       "12                     0                           0                   0   \n",
       "...                  ...                         ...                 ...   \n",
       "33050                  0                           0                   0   \n",
       "5214                   1                           1                   0   \n",
       "24979                  1                           0                   0   \n",
       "32971                  0                           0                   0   \n",
       "16066                  1                           0                   0   \n",
       "\n",
       "       lead_time  arrival_year  arrival_month  arrival_date  \\\n",
       "2            1.0          2018              2            28   \n",
       "3          211.0          2018              5            20   \n",
       "4           48.0          2018              4            11   \n",
       "5          289.5          2018              9            13   \n",
       "12          30.0          2018             11            26   \n",
       "...          ...           ...            ...           ...   \n",
       "33050        0.0          2018              6            21   \n",
       "5214        12.0          2018              2            16   \n",
       "24979      150.0          2018              9            18   \n",
       "32971      101.0          2018              7            15   \n",
       "16066        0.0          2018              1            18   \n",
       "\n",
       "       market_segment_type  repeated_guest  no_of_previous_cancellations  \\\n",
       "2                        4               0                             0   \n",
       "3                        4               0                             0   \n",
       "4                        4               0                             0   \n",
       "5                        4               0                             0   \n",
       "12                       4               0                             0   \n",
       "...                    ...             ...                           ...   \n",
       "33050                    4               0                             0   \n",
       "5214                     2               1                             0   \n",
       "24979                    4               0                             0   \n",
       "32971                    4               0                             0   \n",
       "16066                    3               0                             0   \n",
       "\n",
       "       no_of_previous_bookings_not_canceled  avg_price_per_room  \\\n",
       "2                                         0               60.00   \n",
       "3                                         0              100.00   \n",
       "4                                         0               94.50   \n",
       "5                                         0              115.00   \n",
       "12                                        0               88.00   \n",
       "...                                     ...                 ...   \n",
       "33050                                     0              129.00   \n",
       "5214                                      4               67.00   \n",
       "24979                                     0               91.12   \n",
       "32971                                     0               94.50   \n",
       "16066                                     0               64.50   \n",
       "\n",
       "       no_of_special_requests  booking_status  \n",
       "2                           0               0  \n",
       "3                           0               0  \n",
       "4                           0               0  \n",
       "5                           1               0  \n",
       "12                          0               0  \n",
       "...                       ...             ...  \n",
       "33050                       1               1  \n",
       "5214                        1               1  \n",
       "24979                       0               1  \n",
       "32971                       2               1  \n",
       "16066                       0               1  \n",
       "\n",
       "[23770 rows x 18 columns]"
      ]
     },
     "execution_count": 242,
     "metadata": {},
     "output_type": "execute_result"
    }
   ],
   "source": [
    "balanced_df"
   ]
  },
  {
   "cell_type": "code",
   "execution_count": 243,
   "id": "09e684bf",
   "metadata": {},
   "outputs": [
    {
     "data": {
      "text/plain": [
       "booking_status\n",
       "1                 18355\n",
       "0                  8851\n",
       "dtype: int64"
      ]
     },
     "execution_count": 243,
     "metadata": {},
     "output_type": "execute_result"
    }
   ],
   "source": [
    "y_train.value_counts()"
   ]
  },
  {
   "cell_type": "code",
   "execution_count": 244,
   "id": "5f7b8d28",
   "metadata": {},
   "outputs": [],
   "source": [
    "from imblearn.over_sampling import SMOTE"
   ]
  },
  {
   "cell_type": "code",
   "execution_count": 245,
   "id": "a2e16c44",
   "metadata": {},
   "outputs": [
    {
     "name": "stdout",
     "output_type": "stream",
     "text": [
      "Requirement already satisfied: imbalanced-learn in c:\\users\\chris\\anaconda3\\lib\\site-packages (0.10.1)\n",
      "Requirement already satisfied: joblib>=1.1.1 in c:\\users\\chris\\anaconda3\\lib\\site-packages (from imbalanced-learn) (1.2.0)\n",
      "Requirement already satisfied: threadpoolctl>=2.0.0 in c:\\users\\chris\\anaconda3\\lib\\site-packages (from imbalanced-learn) (2.2.0)\n",
      "Requirement already satisfied: numpy>=1.17.3 in c:\\users\\chris\\anaconda3\\lib\\site-packages (from imbalanced-learn) (1.21.5)\n",
      "Requirement already satisfied: scikit-learn>=1.0.2 in c:\\users\\chris\\anaconda3\\lib\\site-packages (from imbalanced-learn) (1.0.2)\n",
      "Requirement already satisfied: scipy>=1.3.2 in c:\\users\\chris\\anaconda3\\lib\\site-packages (from imbalanced-learn) (1.7.3)\n",
      "Note: you may need to restart the kernel to use updated packages.\n"
     ]
    }
   ],
   "source": [
    "pip install -U imbalanced-learn"
   ]
  },
  {
   "cell_type": "code",
   "execution_count": 246,
   "id": "58ed3b44",
   "metadata": {},
   "outputs": [],
   "source": [
    "SM = SMOTE(random_state = 6)"
   ]
  },
  {
   "cell_type": "code",
   "execution_count": 247,
   "id": "5c6cb437",
   "metadata": {},
   "outputs": [],
   "source": [
    "SM_x, SM_y = SM.fit_resample(x_train, y_train)"
   ]
  },
  {
   "cell_type": "code",
   "execution_count": 248,
   "id": "56d6c551",
   "metadata": {},
   "outputs": [
    {
     "data": {
      "text/plain": [
       "booking_status\n",
       "0                 18355\n",
       "1                 18355\n",
       "dtype: int64"
      ]
     },
     "execution_count": 248,
     "metadata": {},
     "output_type": "execute_result"
    }
   ],
   "source": [
    "SM_y.value_counts()"
   ]
  },
  {
   "cell_type": "code",
   "execution_count": 249,
   "id": "da5b4890",
   "metadata": {},
   "outputs": [],
   "source": [
    "# Standardize the data using the anyone of the scalers provided by sklearn"
   ]
  },
  {
   "cell_type": "code",
   "execution_count": 250,
   "id": "e7ff2f90",
   "metadata": {},
   "outputs": [],
   "source": [
    "from sklearn.preprocessing import StandardScaler"
   ]
  },
  {
   "cell_type": "code",
   "execution_count": 251,
   "id": "d3f3d4b3",
   "metadata": {},
   "outputs": [
    {
     "data": {
      "text/html": [
       "<div>\n",
       "<style scoped>\n",
       "    .dataframe tbody tr th:only-of-type {\n",
       "        vertical-align: middle;\n",
       "    }\n",
       "\n",
       "    .dataframe tbody tr th {\n",
       "        vertical-align: top;\n",
       "    }\n",
       "\n",
       "    .dataframe thead th {\n",
       "        text-align: right;\n",
       "    }\n",
       "</style>\n",
       "<table border=\"1\" class=\"dataframe\">\n",
       "  <thead>\n",
       "    <tr style=\"text-align: right;\">\n",
       "      <th></th>\n",
       "      <th>no_of_adults</th>\n",
       "      <th>no_of_children</th>\n",
       "      <th>no_of_weekend_nights</th>\n",
       "      <th>no_of_week_nights</th>\n",
       "      <th>type_of_meal_plan</th>\n",
       "      <th>required_car_parking_space</th>\n",
       "      <th>room_type_reserved</th>\n",
       "      <th>lead_time</th>\n",
       "      <th>arrival_year</th>\n",
       "      <th>arrival_month</th>\n",
       "      <th>arrival_date</th>\n",
       "      <th>market_segment_type</th>\n",
       "      <th>repeated_guest</th>\n",
       "      <th>no_of_previous_cancellations</th>\n",
       "      <th>no_of_previous_bookings_not_canceled</th>\n",
       "      <th>avg_price_per_room</th>\n",
       "      <th>no_of_special_requests</th>\n",
       "      <th>booking_status</th>\n",
       "    </tr>\n",
       "  </thead>\n",
       "  <tbody>\n",
       "    <tr>\n",
       "      <th>0</th>\n",
       "      <td>2</td>\n",
       "      <td>0</td>\n",
       "      <td>1</td>\n",
       "      <td>2</td>\n",
       "      <td>1</td>\n",
       "      <td>0</td>\n",
       "      <td>0</td>\n",
       "      <td>224.0</td>\n",
       "      <td>2017</td>\n",
       "      <td>10</td>\n",
       "      <td>2</td>\n",
       "      <td>3</td>\n",
       "      <td>0</td>\n",
       "      <td>0</td>\n",
       "      <td>0</td>\n",
       "      <td>65.00</td>\n",
       "      <td>0</td>\n",
       "      <td>1</td>\n",
       "    </tr>\n",
       "    <tr>\n",
       "      <th>1</th>\n",
       "      <td>2</td>\n",
       "      <td>0</td>\n",
       "      <td>2</td>\n",
       "      <td>3</td>\n",
       "      <td>0</td>\n",
       "      <td>0</td>\n",
       "      <td>0</td>\n",
       "      <td>5.0</td>\n",
       "      <td>2018</td>\n",
       "      <td>11</td>\n",
       "      <td>6</td>\n",
       "      <td>4</td>\n",
       "      <td>0</td>\n",
       "      <td>0</td>\n",
       "      <td>0</td>\n",
       "      <td>106.68</td>\n",
       "      <td>1</td>\n",
       "      <td>1</td>\n",
       "    </tr>\n",
       "    <tr>\n",
       "      <th>2</th>\n",
       "      <td>1</td>\n",
       "      <td>0</td>\n",
       "      <td>2</td>\n",
       "      <td>1</td>\n",
       "      <td>1</td>\n",
       "      <td>0</td>\n",
       "      <td>0</td>\n",
       "      <td>1.0</td>\n",
       "      <td>2018</td>\n",
       "      <td>2</td>\n",
       "      <td>28</td>\n",
       "      <td>4</td>\n",
       "      <td>0</td>\n",
       "      <td>0</td>\n",
       "      <td>0</td>\n",
       "      <td>60.00</td>\n",
       "      <td>0</td>\n",
       "      <td>0</td>\n",
       "    </tr>\n",
       "    <tr>\n",
       "      <th>3</th>\n",
       "      <td>2</td>\n",
       "      <td>0</td>\n",
       "      <td>0</td>\n",
       "      <td>2</td>\n",
       "      <td>1</td>\n",
       "      <td>0</td>\n",
       "      <td>0</td>\n",
       "      <td>211.0</td>\n",
       "      <td>2018</td>\n",
       "      <td>5</td>\n",
       "      <td>20</td>\n",
       "      <td>4</td>\n",
       "      <td>0</td>\n",
       "      <td>0</td>\n",
       "      <td>0</td>\n",
       "      <td>100.00</td>\n",
       "      <td>0</td>\n",
       "      <td>0</td>\n",
       "    </tr>\n",
       "    <tr>\n",
       "      <th>4</th>\n",
       "      <td>2</td>\n",
       "      <td>0</td>\n",
       "      <td>1</td>\n",
       "      <td>1</td>\n",
       "      <td>0</td>\n",
       "      <td>0</td>\n",
       "      <td>0</td>\n",
       "      <td>48.0</td>\n",
       "      <td>2018</td>\n",
       "      <td>4</td>\n",
       "      <td>11</td>\n",
       "      <td>4</td>\n",
       "      <td>0</td>\n",
       "      <td>0</td>\n",
       "      <td>0</td>\n",
       "      <td>94.50</td>\n",
       "      <td>0</td>\n",
       "      <td>0</td>\n",
       "    </tr>\n",
       "    <tr>\n",
       "      <th>...</th>\n",
       "      <td>...</td>\n",
       "      <td>...</td>\n",
       "      <td>...</td>\n",
       "      <td>...</td>\n",
       "      <td>...</td>\n",
       "      <td>...</td>\n",
       "      <td>...</td>\n",
       "      <td>...</td>\n",
       "      <td>...</td>\n",
       "      <td>...</td>\n",
       "      <td>...</td>\n",
       "      <td>...</td>\n",
       "      <td>...</td>\n",
       "      <td>...</td>\n",
       "      <td>...</td>\n",
       "      <td>...</td>\n",
       "      <td>...</td>\n",
       "      <td>...</td>\n",
       "    </tr>\n",
       "    <tr>\n",
       "      <th>36270</th>\n",
       "      <td>3</td>\n",
       "      <td>0</td>\n",
       "      <td>2</td>\n",
       "      <td>6</td>\n",
       "      <td>1</td>\n",
       "      <td>0</td>\n",
       "      <td>3</td>\n",
       "      <td>85.0</td>\n",
       "      <td>2018</td>\n",
       "      <td>8</td>\n",
       "      <td>3</td>\n",
       "      <td>4</td>\n",
       "      <td>0</td>\n",
       "      <td>0</td>\n",
       "      <td>0</td>\n",
       "      <td>167.80</td>\n",
       "      <td>1</td>\n",
       "      <td>1</td>\n",
       "    </tr>\n",
       "    <tr>\n",
       "      <th>36271</th>\n",
       "      <td>2</td>\n",
       "      <td>0</td>\n",
       "      <td>1</td>\n",
       "      <td>3</td>\n",
       "      <td>1</td>\n",
       "      <td>0</td>\n",
       "      <td>0</td>\n",
       "      <td>228.0</td>\n",
       "      <td>2018</td>\n",
       "      <td>10</td>\n",
       "      <td>17</td>\n",
       "      <td>4</td>\n",
       "      <td>0</td>\n",
       "      <td>0</td>\n",
       "      <td>0</td>\n",
       "      <td>90.95</td>\n",
       "      <td>2</td>\n",
       "      <td>0</td>\n",
       "    </tr>\n",
       "    <tr>\n",
       "      <th>36272</th>\n",
       "      <td>2</td>\n",
       "      <td>0</td>\n",
       "      <td>2</td>\n",
       "      <td>6</td>\n",
       "      <td>1</td>\n",
       "      <td>0</td>\n",
       "      <td>0</td>\n",
       "      <td>148.0</td>\n",
       "      <td>2018</td>\n",
       "      <td>7</td>\n",
       "      <td>1</td>\n",
       "      <td>4</td>\n",
       "      <td>0</td>\n",
       "      <td>0</td>\n",
       "      <td>0</td>\n",
       "      <td>98.39</td>\n",
       "      <td>2</td>\n",
       "      <td>1</td>\n",
       "    </tr>\n",
       "    <tr>\n",
       "      <th>36273</th>\n",
       "      <td>2</td>\n",
       "      <td>0</td>\n",
       "      <td>0</td>\n",
       "      <td>3</td>\n",
       "      <td>0</td>\n",
       "      <td>0</td>\n",
       "      <td>0</td>\n",
       "      <td>63.0</td>\n",
       "      <td>2018</td>\n",
       "      <td>4</td>\n",
       "      <td>21</td>\n",
       "      <td>4</td>\n",
       "      <td>0</td>\n",
       "      <td>0</td>\n",
       "      <td>0</td>\n",
       "      <td>94.50</td>\n",
       "      <td>0</td>\n",
       "      <td>0</td>\n",
       "    </tr>\n",
       "    <tr>\n",
       "      <th>36274</th>\n",
       "      <td>2</td>\n",
       "      <td>0</td>\n",
       "      <td>1</td>\n",
       "      <td>2</td>\n",
       "      <td>1</td>\n",
       "      <td>0</td>\n",
       "      <td>0</td>\n",
       "      <td>207.0</td>\n",
       "      <td>2018</td>\n",
       "      <td>12</td>\n",
       "      <td>30</td>\n",
       "      <td>3</td>\n",
       "      <td>0</td>\n",
       "      <td>0</td>\n",
       "      <td>0</td>\n",
       "      <td>161.67</td>\n",
       "      <td>0</td>\n",
       "      <td>1</td>\n",
       "    </tr>\n",
       "  </tbody>\n",
       "</table>\n",
       "<p>36275 rows × 18 columns</p>\n",
       "</div>"
      ],
      "text/plain": [
       "       no_of_adults  no_of_children  no_of_weekend_nights  no_of_week_nights  \\\n",
       "0                 2               0                     1                  2   \n",
       "1                 2               0                     2                  3   \n",
       "2                 1               0                     2                  1   \n",
       "3                 2               0                     0                  2   \n",
       "4                 2               0                     1                  1   \n",
       "...             ...             ...                   ...                ...   \n",
       "36270             3               0                     2                  6   \n",
       "36271             2               0                     1                  3   \n",
       "36272             2               0                     2                  6   \n",
       "36273             2               0                     0                  3   \n",
       "36274             2               0                     1                  2   \n",
       "\n",
       "       type_of_meal_plan  required_car_parking_space  room_type_reserved  \\\n",
       "0                      1                           0                   0   \n",
       "1                      0                           0                   0   \n",
       "2                      1                           0                   0   \n",
       "3                      1                           0                   0   \n",
       "4                      0                           0                   0   \n",
       "...                  ...                         ...                 ...   \n",
       "36270                  1                           0                   3   \n",
       "36271                  1                           0                   0   \n",
       "36272                  1                           0                   0   \n",
       "36273                  0                           0                   0   \n",
       "36274                  1                           0                   0   \n",
       "\n",
       "       lead_time  arrival_year  arrival_month  arrival_date  \\\n",
       "0          224.0          2017             10             2   \n",
       "1            5.0          2018             11             6   \n",
       "2            1.0          2018              2            28   \n",
       "3          211.0          2018              5            20   \n",
       "4           48.0          2018              4            11   \n",
       "...          ...           ...            ...           ...   \n",
       "36270       85.0          2018              8             3   \n",
       "36271      228.0          2018             10            17   \n",
       "36272      148.0          2018              7             1   \n",
       "36273       63.0          2018              4            21   \n",
       "36274      207.0          2018             12            30   \n",
       "\n",
       "       market_segment_type  repeated_guest  no_of_previous_cancellations  \\\n",
       "0                        3               0                             0   \n",
       "1                        4               0                             0   \n",
       "2                        4               0                             0   \n",
       "3                        4               0                             0   \n",
       "4                        4               0                             0   \n",
       "...                    ...             ...                           ...   \n",
       "36270                    4               0                             0   \n",
       "36271                    4               0                             0   \n",
       "36272                    4               0                             0   \n",
       "36273                    4               0                             0   \n",
       "36274                    3               0                             0   \n",
       "\n",
       "       no_of_previous_bookings_not_canceled  avg_price_per_room  \\\n",
       "0                                         0               65.00   \n",
       "1                                         0              106.68   \n",
       "2                                         0               60.00   \n",
       "3                                         0              100.00   \n",
       "4                                         0               94.50   \n",
       "...                                     ...                 ...   \n",
       "36270                                     0              167.80   \n",
       "36271                                     0               90.95   \n",
       "36272                                     0               98.39   \n",
       "36273                                     0               94.50   \n",
       "36274                                     0              161.67   \n",
       "\n",
       "       no_of_special_requests  booking_status  \n",
       "0                           0               1  \n",
       "1                           1               1  \n",
       "2                           0               0  \n",
       "3                           0               0  \n",
       "4                           0               0  \n",
       "...                       ...             ...  \n",
       "36270                       1               1  \n",
       "36271                       2               0  \n",
       "36272                       2               1  \n",
       "36273                       0               0  \n",
       "36274                       0               1  \n",
       "\n",
       "[36275 rows x 18 columns]"
      ]
     },
     "execution_count": 251,
     "metadata": {},
     "output_type": "execute_result"
    }
   ],
   "source": [
    "df"
   ]
  },
  {
   "cell_type": "code",
   "execution_count": 252,
   "id": "ba018840",
   "metadata": {},
   "outputs": [],
   "source": [
    "Num_Features = balanced_df[['lead_time','arrival_year','arrival_month','arrival_date','avg_price_per_room']]"
   ]
  },
  {
   "cell_type": "code",
   "execution_count": 253,
   "id": "c12301ff",
   "metadata": {},
   "outputs": [
    {
     "data": {
      "text/html": [
       "<div>\n",
       "<style scoped>\n",
       "    .dataframe tbody tr th:only-of-type {\n",
       "        vertical-align: middle;\n",
       "    }\n",
       "\n",
       "    .dataframe tbody tr th {\n",
       "        vertical-align: top;\n",
       "    }\n",
       "\n",
       "    .dataframe thead th {\n",
       "        text-align: right;\n",
       "    }\n",
       "</style>\n",
       "<table border=\"1\" class=\"dataframe\">\n",
       "  <thead>\n",
       "    <tr style=\"text-align: right;\">\n",
       "      <th></th>\n",
       "      <th>lead_time</th>\n",
       "      <th>arrival_year</th>\n",
       "      <th>arrival_month</th>\n",
       "      <th>arrival_date</th>\n",
       "      <th>avg_price_per_room</th>\n",
       "    </tr>\n",
       "  </thead>\n",
       "  <tbody>\n",
       "    <tr>\n",
       "      <th>2</th>\n",
       "      <td>1.0</td>\n",
       "      <td>2018</td>\n",
       "      <td>2</td>\n",
       "      <td>28</td>\n",
       "      <td>60.00</td>\n",
       "    </tr>\n",
       "    <tr>\n",
       "      <th>3</th>\n",
       "      <td>211.0</td>\n",
       "      <td>2018</td>\n",
       "      <td>5</td>\n",
       "      <td>20</td>\n",
       "      <td>100.00</td>\n",
       "    </tr>\n",
       "    <tr>\n",
       "      <th>4</th>\n",
       "      <td>48.0</td>\n",
       "      <td>2018</td>\n",
       "      <td>4</td>\n",
       "      <td>11</td>\n",
       "      <td>94.50</td>\n",
       "    </tr>\n",
       "    <tr>\n",
       "      <th>5</th>\n",
       "      <td>289.5</td>\n",
       "      <td>2018</td>\n",
       "      <td>9</td>\n",
       "      <td>13</td>\n",
       "      <td>115.00</td>\n",
       "    </tr>\n",
       "    <tr>\n",
       "      <th>12</th>\n",
       "      <td>30.0</td>\n",
       "      <td>2018</td>\n",
       "      <td>11</td>\n",
       "      <td>26</td>\n",
       "      <td>88.00</td>\n",
       "    </tr>\n",
       "    <tr>\n",
       "      <th>...</th>\n",
       "      <td>...</td>\n",
       "      <td>...</td>\n",
       "      <td>...</td>\n",
       "      <td>...</td>\n",
       "      <td>...</td>\n",
       "    </tr>\n",
       "    <tr>\n",
       "      <th>33050</th>\n",
       "      <td>0.0</td>\n",
       "      <td>2018</td>\n",
       "      <td>6</td>\n",
       "      <td>21</td>\n",
       "      <td>129.00</td>\n",
       "    </tr>\n",
       "    <tr>\n",
       "      <th>5214</th>\n",
       "      <td>12.0</td>\n",
       "      <td>2018</td>\n",
       "      <td>2</td>\n",
       "      <td>16</td>\n",
       "      <td>67.00</td>\n",
       "    </tr>\n",
       "    <tr>\n",
       "      <th>24979</th>\n",
       "      <td>150.0</td>\n",
       "      <td>2018</td>\n",
       "      <td>9</td>\n",
       "      <td>18</td>\n",
       "      <td>91.12</td>\n",
       "    </tr>\n",
       "    <tr>\n",
       "      <th>32971</th>\n",
       "      <td>101.0</td>\n",
       "      <td>2018</td>\n",
       "      <td>7</td>\n",
       "      <td>15</td>\n",
       "      <td>94.50</td>\n",
       "    </tr>\n",
       "    <tr>\n",
       "      <th>16066</th>\n",
       "      <td>0.0</td>\n",
       "      <td>2018</td>\n",
       "      <td>1</td>\n",
       "      <td>18</td>\n",
       "      <td>64.50</td>\n",
       "    </tr>\n",
       "  </tbody>\n",
       "</table>\n",
       "<p>23770 rows × 5 columns</p>\n",
       "</div>"
      ],
      "text/plain": [
       "       lead_time  arrival_year  arrival_month  arrival_date  \\\n",
       "2            1.0          2018              2            28   \n",
       "3          211.0          2018              5            20   \n",
       "4           48.0          2018              4            11   \n",
       "5          289.5          2018              9            13   \n",
       "12          30.0          2018             11            26   \n",
       "...          ...           ...            ...           ...   \n",
       "33050        0.0          2018              6            21   \n",
       "5214        12.0          2018              2            16   \n",
       "24979      150.0          2018              9            18   \n",
       "32971      101.0          2018              7            15   \n",
       "16066        0.0          2018              1            18   \n",
       "\n",
       "       avg_price_per_room  \n",
       "2                   60.00  \n",
       "3                  100.00  \n",
       "4                   94.50  \n",
       "5                  115.00  \n",
       "12                  88.00  \n",
       "...                   ...  \n",
       "33050              129.00  \n",
       "5214                67.00  \n",
       "24979               91.12  \n",
       "32971               94.50  \n",
       "16066               64.50  \n",
       "\n",
       "[23770 rows x 5 columns]"
      ]
     },
     "execution_count": 253,
     "metadata": {},
     "output_type": "execute_result"
    }
   ],
   "source": [
    "Num_Features"
   ]
  },
  {
   "cell_type": "code",
   "execution_count": 254,
   "id": "3363f0cd",
   "metadata": {},
   "outputs": [],
   "source": [
    "from sklearn.preprocessing import MinMaxScaler"
   ]
  },
  {
   "cell_type": "code",
   "execution_count": 255,
   "id": "14c7a45a",
   "metadata": {},
   "outputs": [],
   "source": [
    "MM_Scaler = MinMaxScaler()"
   ]
  },
  {
   "cell_type": "code",
   "execution_count": 256,
   "id": "fc7396b2",
   "metadata": {},
   "outputs": [],
   "source": [
    "Columns = Num_Features.columns"
   ]
  },
  {
   "cell_type": "code",
   "execution_count": 257,
   "id": "d9358289",
   "metadata": {},
   "outputs": [],
   "source": [
    "Num_Features = MM_Scaler.fit_transform(Num_Features)"
   ]
  },
  {
   "cell_type": "code",
   "execution_count": 258,
   "id": "6ccb7eb0",
   "metadata": {},
   "outputs": [
    {
     "data": {
      "text/plain": [
       "array([[0.00345423, 1.        , 0.09090909, 0.9       , 0.24716625],\n",
       "       [0.72884283, 1.        , 0.36363636, 0.63333333, 0.49905542],\n",
       "       [0.16580311, 1.        , 0.27272727, 0.33333333, 0.46442065],\n",
       "       ...,\n",
       "       [0.51813472, 1.        , 0.72727273, 0.56666667, 0.44313602],\n",
       "       [0.34887737, 1.        , 0.54545455, 0.46666667, 0.46442065],\n",
       "       [0.        , 1.        , 0.        , 0.56666667, 0.27550378]])"
      ]
     },
     "execution_count": 258,
     "metadata": {},
     "output_type": "execute_result"
    }
   ],
   "source": [
    "Num_Features"
   ]
  },
  {
   "cell_type": "code",
   "execution_count": 259,
   "id": "39b39d9a",
   "metadata": {},
   "outputs": [],
   "source": [
    "df_Num_Features = pd.DataFrame(Num_Features, columns = Columns)"
   ]
  },
  {
   "cell_type": "code",
   "execution_count": 260,
   "id": "d354ae53",
   "metadata": {},
   "outputs": [
    {
     "data": {
      "text/html": [
       "<div>\n",
       "<style scoped>\n",
       "    .dataframe tbody tr th:only-of-type {\n",
       "        vertical-align: middle;\n",
       "    }\n",
       "\n",
       "    .dataframe tbody tr th {\n",
       "        vertical-align: top;\n",
       "    }\n",
       "\n",
       "    .dataframe thead th {\n",
       "        text-align: right;\n",
       "    }\n",
       "</style>\n",
       "<table border=\"1\" class=\"dataframe\">\n",
       "  <thead>\n",
       "    <tr style=\"text-align: right;\">\n",
       "      <th></th>\n",
       "      <th>lead_time</th>\n",
       "      <th>arrival_year</th>\n",
       "      <th>arrival_month</th>\n",
       "      <th>arrival_date</th>\n",
       "      <th>avg_price_per_room</th>\n",
       "    </tr>\n",
       "  </thead>\n",
       "  <tbody>\n",
       "    <tr>\n",
       "      <th>0</th>\n",
       "      <td>0.003454</td>\n",
       "      <td>1.0</td>\n",
       "      <td>0.090909</td>\n",
       "      <td>0.900000</td>\n",
       "      <td>0.247166</td>\n",
       "    </tr>\n",
       "    <tr>\n",
       "      <th>1</th>\n",
       "      <td>0.728843</td>\n",
       "      <td>1.0</td>\n",
       "      <td>0.363636</td>\n",
       "      <td>0.633333</td>\n",
       "      <td>0.499055</td>\n",
       "    </tr>\n",
       "    <tr>\n",
       "      <th>2</th>\n",
       "      <td>0.165803</td>\n",
       "      <td>1.0</td>\n",
       "      <td>0.272727</td>\n",
       "      <td>0.333333</td>\n",
       "      <td>0.464421</td>\n",
       "    </tr>\n",
       "    <tr>\n",
       "      <th>3</th>\n",
       "      <td>1.000000</td>\n",
       "      <td>1.0</td>\n",
       "      <td>0.727273</td>\n",
       "      <td>0.400000</td>\n",
       "      <td>0.593514</td>\n",
       "    </tr>\n",
       "    <tr>\n",
       "      <th>4</th>\n",
       "      <td>0.103627</td>\n",
       "      <td>1.0</td>\n",
       "      <td>0.909091</td>\n",
       "      <td>0.833333</td>\n",
       "      <td>0.423489</td>\n",
       "    </tr>\n",
       "    <tr>\n",
       "      <th>...</th>\n",
       "      <td>...</td>\n",
       "      <td>...</td>\n",
       "      <td>...</td>\n",
       "      <td>...</td>\n",
       "      <td>...</td>\n",
       "    </tr>\n",
       "    <tr>\n",
       "      <th>23765</th>\n",
       "      <td>0.000000</td>\n",
       "      <td>1.0</td>\n",
       "      <td>0.454545</td>\n",
       "      <td>0.666667</td>\n",
       "      <td>0.681675</td>\n",
       "    </tr>\n",
       "    <tr>\n",
       "      <th>23766</th>\n",
       "      <td>0.041451</td>\n",
       "      <td>1.0</td>\n",
       "      <td>0.090909</td>\n",
       "      <td>0.500000</td>\n",
       "      <td>0.291247</td>\n",
       "    </tr>\n",
       "    <tr>\n",
       "      <th>23767</th>\n",
       "      <td>0.518135</td>\n",
       "      <td>1.0</td>\n",
       "      <td>0.727273</td>\n",
       "      <td>0.566667</td>\n",
       "      <td>0.443136</td>\n",
       "    </tr>\n",
       "    <tr>\n",
       "      <th>23768</th>\n",
       "      <td>0.348877</td>\n",
       "      <td>1.0</td>\n",
       "      <td>0.545455</td>\n",
       "      <td>0.466667</td>\n",
       "      <td>0.464421</td>\n",
       "    </tr>\n",
       "    <tr>\n",
       "      <th>23769</th>\n",
       "      <td>0.000000</td>\n",
       "      <td>1.0</td>\n",
       "      <td>0.000000</td>\n",
       "      <td>0.566667</td>\n",
       "      <td>0.275504</td>\n",
       "    </tr>\n",
       "  </tbody>\n",
       "</table>\n",
       "<p>23770 rows × 5 columns</p>\n",
       "</div>"
      ],
      "text/plain": [
       "       lead_time  arrival_year  arrival_month  arrival_date  \\\n",
       "0       0.003454           1.0       0.090909      0.900000   \n",
       "1       0.728843           1.0       0.363636      0.633333   \n",
       "2       0.165803           1.0       0.272727      0.333333   \n",
       "3       1.000000           1.0       0.727273      0.400000   \n",
       "4       0.103627           1.0       0.909091      0.833333   \n",
       "...          ...           ...            ...           ...   \n",
       "23765   0.000000           1.0       0.454545      0.666667   \n",
       "23766   0.041451           1.0       0.090909      0.500000   \n",
       "23767   0.518135           1.0       0.727273      0.566667   \n",
       "23768   0.348877           1.0       0.545455      0.466667   \n",
       "23769   0.000000           1.0       0.000000      0.566667   \n",
       "\n",
       "       avg_price_per_room  \n",
       "0                0.247166  \n",
       "1                0.499055  \n",
       "2                0.464421  \n",
       "3                0.593514  \n",
       "4                0.423489  \n",
       "...                   ...  \n",
       "23765            0.681675  \n",
       "23766            0.291247  \n",
       "23767            0.443136  \n",
       "23768            0.464421  \n",
       "23769            0.275504  \n",
       "\n",
       "[23770 rows x 5 columns]"
      ]
     },
     "execution_count": 260,
     "metadata": {},
     "output_type": "execute_result"
    }
   ],
   "source": [
    "df_Num_Features"
   ]
  },
  {
   "cell_type": "code",
   "execution_count": 261,
   "id": "183e3ccd",
   "metadata": {},
   "outputs": [],
   "source": [
    "Sc_df = balanced_df.copy()"
   ]
  },
  {
   "cell_type": "code",
   "execution_count": 262,
   "id": "da59d565",
   "metadata": {},
   "outputs": [],
   "source": [
    "Sc_df = balanced_df.drop(['lead_time','arrival_year','arrival_month','arrival_date','avg_price_per_room'], axis = 1)"
   ]
  },
  {
   "cell_type": "code",
   "execution_count": 263,
   "id": "0780fb12",
   "metadata": {},
   "outputs": [
    {
     "data": {
      "text/html": [
       "<div>\n",
       "<style scoped>\n",
       "    .dataframe tbody tr th:only-of-type {\n",
       "        vertical-align: middle;\n",
       "    }\n",
       "\n",
       "    .dataframe tbody tr th {\n",
       "        vertical-align: top;\n",
       "    }\n",
       "\n",
       "    .dataframe thead th {\n",
       "        text-align: right;\n",
       "    }\n",
       "</style>\n",
       "<table border=\"1\" class=\"dataframe\">\n",
       "  <thead>\n",
       "    <tr style=\"text-align: right;\">\n",
       "      <th></th>\n",
       "      <th>no_of_adults</th>\n",
       "      <th>no_of_children</th>\n",
       "      <th>no_of_weekend_nights</th>\n",
       "      <th>no_of_week_nights</th>\n",
       "      <th>type_of_meal_plan</th>\n",
       "      <th>required_car_parking_space</th>\n",
       "      <th>room_type_reserved</th>\n",
       "      <th>market_segment_type</th>\n",
       "      <th>repeated_guest</th>\n",
       "      <th>no_of_previous_cancellations</th>\n",
       "      <th>no_of_previous_bookings_not_canceled</th>\n",
       "      <th>no_of_special_requests</th>\n",
       "      <th>booking_status</th>\n",
       "    </tr>\n",
       "  </thead>\n",
       "  <tbody>\n",
       "    <tr>\n",
       "      <th>2</th>\n",
       "      <td>1</td>\n",
       "      <td>0</td>\n",
       "      <td>2</td>\n",
       "      <td>1</td>\n",
       "      <td>1</td>\n",
       "      <td>0</td>\n",
       "      <td>0</td>\n",
       "      <td>4</td>\n",
       "      <td>0</td>\n",
       "      <td>0</td>\n",
       "      <td>0</td>\n",
       "      <td>0</td>\n",
       "      <td>0</td>\n",
       "    </tr>\n",
       "    <tr>\n",
       "      <th>3</th>\n",
       "      <td>2</td>\n",
       "      <td>0</td>\n",
       "      <td>0</td>\n",
       "      <td>2</td>\n",
       "      <td>1</td>\n",
       "      <td>0</td>\n",
       "      <td>0</td>\n",
       "      <td>4</td>\n",
       "      <td>0</td>\n",
       "      <td>0</td>\n",
       "      <td>0</td>\n",
       "      <td>0</td>\n",
       "      <td>0</td>\n",
       "    </tr>\n",
       "    <tr>\n",
       "      <th>4</th>\n",
       "      <td>2</td>\n",
       "      <td>0</td>\n",
       "      <td>1</td>\n",
       "      <td>1</td>\n",
       "      <td>0</td>\n",
       "      <td>0</td>\n",
       "      <td>0</td>\n",
       "      <td>4</td>\n",
       "      <td>0</td>\n",
       "      <td>0</td>\n",
       "      <td>0</td>\n",
       "      <td>0</td>\n",
       "      <td>0</td>\n",
       "    </tr>\n",
       "    <tr>\n",
       "      <th>5</th>\n",
       "      <td>2</td>\n",
       "      <td>0</td>\n",
       "      <td>0</td>\n",
       "      <td>2</td>\n",
       "      <td>2</td>\n",
       "      <td>0</td>\n",
       "      <td>0</td>\n",
       "      <td>4</td>\n",
       "      <td>0</td>\n",
       "      <td>0</td>\n",
       "      <td>0</td>\n",
       "      <td>1</td>\n",
       "      <td>0</td>\n",
       "    </tr>\n",
       "    <tr>\n",
       "      <th>12</th>\n",
       "      <td>2</td>\n",
       "      <td>0</td>\n",
       "      <td>2</td>\n",
       "      <td>1</td>\n",
       "      <td>0</td>\n",
       "      <td>0</td>\n",
       "      <td>0</td>\n",
       "      <td>4</td>\n",
       "      <td>0</td>\n",
       "      <td>0</td>\n",
       "      <td>0</td>\n",
       "      <td>0</td>\n",
       "      <td>0</td>\n",
       "    </tr>\n",
       "    <tr>\n",
       "      <th>...</th>\n",
       "      <td>...</td>\n",
       "      <td>...</td>\n",
       "      <td>...</td>\n",
       "      <td>...</td>\n",
       "      <td>...</td>\n",
       "      <td>...</td>\n",
       "      <td>...</td>\n",
       "      <td>...</td>\n",
       "      <td>...</td>\n",
       "      <td>...</td>\n",
       "      <td>...</td>\n",
       "      <td>...</td>\n",
       "      <td>...</td>\n",
       "    </tr>\n",
       "    <tr>\n",
       "      <th>33050</th>\n",
       "      <td>1</td>\n",
       "      <td>0</td>\n",
       "      <td>0</td>\n",
       "      <td>2</td>\n",
       "      <td>0</td>\n",
       "      <td>0</td>\n",
       "      <td>0</td>\n",
       "      <td>4</td>\n",
       "      <td>0</td>\n",
       "      <td>0</td>\n",
       "      <td>0</td>\n",
       "      <td>1</td>\n",
       "      <td>1</td>\n",
       "    </tr>\n",
       "    <tr>\n",
       "      <th>5214</th>\n",
       "      <td>1</td>\n",
       "      <td>0</td>\n",
       "      <td>0</td>\n",
       "      <td>2</td>\n",
       "      <td>1</td>\n",
       "      <td>1</td>\n",
       "      <td>0</td>\n",
       "      <td>2</td>\n",
       "      <td>1</td>\n",
       "      <td>0</td>\n",
       "      <td>4</td>\n",
       "      <td>1</td>\n",
       "      <td>1</td>\n",
       "    </tr>\n",
       "    <tr>\n",
       "      <th>24979</th>\n",
       "      <td>2</td>\n",
       "      <td>1</td>\n",
       "      <td>2</td>\n",
       "      <td>5</td>\n",
       "      <td>1</td>\n",
       "      <td>0</td>\n",
       "      <td>0</td>\n",
       "      <td>4</td>\n",
       "      <td>0</td>\n",
       "      <td>0</td>\n",
       "      <td>0</td>\n",
       "      <td>0</td>\n",
       "      <td>1</td>\n",
       "    </tr>\n",
       "    <tr>\n",
       "      <th>32971</th>\n",
       "      <td>2</td>\n",
       "      <td>0</td>\n",
       "      <td>0</td>\n",
       "      <td>1</td>\n",
       "      <td>0</td>\n",
       "      <td>0</td>\n",
       "      <td>0</td>\n",
       "      <td>4</td>\n",
       "      <td>0</td>\n",
       "      <td>0</td>\n",
       "      <td>0</td>\n",
       "      <td>2</td>\n",
       "      <td>1</td>\n",
       "    </tr>\n",
       "    <tr>\n",
       "      <th>16066</th>\n",
       "      <td>1</td>\n",
       "      <td>0</td>\n",
       "      <td>1</td>\n",
       "      <td>1</td>\n",
       "      <td>1</td>\n",
       "      <td>0</td>\n",
       "      <td>0</td>\n",
       "      <td>3</td>\n",
       "      <td>0</td>\n",
       "      <td>0</td>\n",
       "      <td>0</td>\n",
       "      <td>0</td>\n",
       "      <td>1</td>\n",
       "    </tr>\n",
       "  </tbody>\n",
       "</table>\n",
       "<p>23770 rows × 13 columns</p>\n",
       "</div>"
      ],
      "text/plain": [
       "       no_of_adults  no_of_children  no_of_weekend_nights  no_of_week_nights  \\\n",
       "2                 1               0                     2                  1   \n",
       "3                 2               0                     0                  2   \n",
       "4                 2               0                     1                  1   \n",
       "5                 2               0                     0                  2   \n",
       "12                2               0                     2                  1   \n",
       "...             ...             ...                   ...                ...   \n",
       "33050             1               0                     0                  2   \n",
       "5214              1               0                     0                  2   \n",
       "24979             2               1                     2                  5   \n",
       "32971             2               0                     0                  1   \n",
       "16066             1               0                     1                  1   \n",
       "\n",
       "       type_of_meal_plan  required_car_parking_space  room_type_reserved  \\\n",
       "2                      1                           0                   0   \n",
       "3                      1                           0                   0   \n",
       "4                      0                           0                   0   \n",
       "5                      2                           0                   0   \n",
       "12                     0                           0                   0   \n",
       "...                  ...                         ...                 ...   \n",
       "33050                  0                           0                   0   \n",
       "5214                   1                           1                   0   \n",
       "24979                  1                           0                   0   \n",
       "32971                  0                           0                   0   \n",
       "16066                  1                           0                   0   \n",
       "\n",
       "       market_segment_type  repeated_guest  no_of_previous_cancellations  \\\n",
       "2                        4               0                             0   \n",
       "3                        4               0                             0   \n",
       "4                        4               0                             0   \n",
       "5                        4               0                             0   \n",
       "12                       4               0                             0   \n",
       "...                    ...             ...                           ...   \n",
       "33050                    4               0                             0   \n",
       "5214                     2               1                             0   \n",
       "24979                    4               0                             0   \n",
       "32971                    4               0                             0   \n",
       "16066                    3               0                             0   \n",
       "\n",
       "       no_of_previous_bookings_not_canceled  no_of_special_requests  \\\n",
       "2                                         0                       0   \n",
       "3                                         0                       0   \n",
       "4                                         0                       0   \n",
       "5                                         0                       1   \n",
       "12                                        0                       0   \n",
       "...                                     ...                     ...   \n",
       "33050                                     0                       1   \n",
       "5214                                      4                       1   \n",
       "24979                                     0                       0   \n",
       "32971                                     0                       2   \n",
       "16066                                     0                       0   \n",
       "\n",
       "       booking_status  \n",
       "2                   0  \n",
       "3                   0  \n",
       "4                   0  \n",
       "5                   0  \n",
       "12                  0  \n",
       "...               ...  \n",
       "33050               1  \n",
       "5214                1  \n",
       "24979               1  \n",
       "32971               1  \n",
       "16066               1  \n",
       "\n",
       "[23770 rows x 13 columns]"
      ]
     },
     "execution_count": 263,
     "metadata": {},
     "output_type": "execute_result"
    }
   ],
   "source": [
    "Sc_df"
   ]
  },
  {
   "cell_type": "code",
   "execution_count": 264,
   "id": "885812cc",
   "metadata": {},
   "outputs": [],
   "source": [
    "Sc_df.reset_index(inplace = True, drop = True)"
   ]
  },
  {
   "cell_type": "code",
   "execution_count": 265,
   "id": "c85f6b85",
   "metadata": {},
   "outputs": [
    {
     "data": {
      "text/html": [
       "<div>\n",
       "<style scoped>\n",
       "    .dataframe tbody tr th:only-of-type {\n",
       "        vertical-align: middle;\n",
       "    }\n",
       "\n",
       "    .dataframe tbody tr th {\n",
       "        vertical-align: top;\n",
       "    }\n",
       "\n",
       "    .dataframe thead th {\n",
       "        text-align: right;\n",
       "    }\n",
       "</style>\n",
       "<table border=\"1\" class=\"dataframe\">\n",
       "  <thead>\n",
       "    <tr style=\"text-align: right;\">\n",
       "      <th></th>\n",
       "      <th>no_of_adults</th>\n",
       "      <th>no_of_children</th>\n",
       "      <th>no_of_weekend_nights</th>\n",
       "      <th>no_of_week_nights</th>\n",
       "      <th>type_of_meal_plan</th>\n",
       "      <th>required_car_parking_space</th>\n",
       "      <th>room_type_reserved</th>\n",
       "      <th>market_segment_type</th>\n",
       "      <th>repeated_guest</th>\n",
       "      <th>no_of_previous_cancellations</th>\n",
       "      <th>no_of_previous_bookings_not_canceled</th>\n",
       "      <th>no_of_special_requests</th>\n",
       "      <th>booking_status</th>\n",
       "    </tr>\n",
       "  </thead>\n",
       "  <tbody>\n",
       "    <tr>\n",
       "      <th>0</th>\n",
       "      <td>1</td>\n",
       "      <td>0</td>\n",
       "      <td>2</td>\n",
       "      <td>1</td>\n",
       "      <td>1</td>\n",
       "      <td>0</td>\n",
       "      <td>0</td>\n",
       "      <td>4</td>\n",
       "      <td>0</td>\n",
       "      <td>0</td>\n",
       "      <td>0</td>\n",
       "      <td>0</td>\n",
       "      <td>0</td>\n",
       "    </tr>\n",
       "    <tr>\n",
       "      <th>1</th>\n",
       "      <td>2</td>\n",
       "      <td>0</td>\n",
       "      <td>0</td>\n",
       "      <td>2</td>\n",
       "      <td>1</td>\n",
       "      <td>0</td>\n",
       "      <td>0</td>\n",
       "      <td>4</td>\n",
       "      <td>0</td>\n",
       "      <td>0</td>\n",
       "      <td>0</td>\n",
       "      <td>0</td>\n",
       "      <td>0</td>\n",
       "    </tr>\n",
       "    <tr>\n",
       "      <th>2</th>\n",
       "      <td>2</td>\n",
       "      <td>0</td>\n",
       "      <td>1</td>\n",
       "      <td>1</td>\n",
       "      <td>0</td>\n",
       "      <td>0</td>\n",
       "      <td>0</td>\n",
       "      <td>4</td>\n",
       "      <td>0</td>\n",
       "      <td>0</td>\n",
       "      <td>0</td>\n",
       "      <td>0</td>\n",
       "      <td>0</td>\n",
       "    </tr>\n",
       "    <tr>\n",
       "      <th>3</th>\n",
       "      <td>2</td>\n",
       "      <td>0</td>\n",
       "      <td>0</td>\n",
       "      <td>2</td>\n",
       "      <td>2</td>\n",
       "      <td>0</td>\n",
       "      <td>0</td>\n",
       "      <td>4</td>\n",
       "      <td>0</td>\n",
       "      <td>0</td>\n",
       "      <td>0</td>\n",
       "      <td>1</td>\n",
       "      <td>0</td>\n",
       "    </tr>\n",
       "    <tr>\n",
       "      <th>4</th>\n",
       "      <td>2</td>\n",
       "      <td>0</td>\n",
       "      <td>2</td>\n",
       "      <td>1</td>\n",
       "      <td>0</td>\n",
       "      <td>0</td>\n",
       "      <td>0</td>\n",
       "      <td>4</td>\n",
       "      <td>0</td>\n",
       "      <td>0</td>\n",
       "      <td>0</td>\n",
       "      <td>0</td>\n",
       "      <td>0</td>\n",
       "    </tr>\n",
       "    <tr>\n",
       "      <th>...</th>\n",
       "      <td>...</td>\n",
       "      <td>...</td>\n",
       "      <td>...</td>\n",
       "      <td>...</td>\n",
       "      <td>...</td>\n",
       "      <td>...</td>\n",
       "      <td>...</td>\n",
       "      <td>...</td>\n",
       "      <td>...</td>\n",
       "      <td>...</td>\n",
       "      <td>...</td>\n",
       "      <td>...</td>\n",
       "      <td>...</td>\n",
       "    </tr>\n",
       "    <tr>\n",
       "      <th>23765</th>\n",
       "      <td>1</td>\n",
       "      <td>0</td>\n",
       "      <td>0</td>\n",
       "      <td>2</td>\n",
       "      <td>0</td>\n",
       "      <td>0</td>\n",
       "      <td>0</td>\n",
       "      <td>4</td>\n",
       "      <td>0</td>\n",
       "      <td>0</td>\n",
       "      <td>0</td>\n",
       "      <td>1</td>\n",
       "      <td>1</td>\n",
       "    </tr>\n",
       "    <tr>\n",
       "      <th>23766</th>\n",
       "      <td>1</td>\n",
       "      <td>0</td>\n",
       "      <td>0</td>\n",
       "      <td>2</td>\n",
       "      <td>1</td>\n",
       "      <td>1</td>\n",
       "      <td>0</td>\n",
       "      <td>2</td>\n",
       "      <td>1</td>\n",
       "      <td>0</td>\n",
       "      <td>4</td>\n",
       "      <td>1</td>\n",
       "      <td>1</td>\n",
       "    </tr>\n",
       "    <tr>\n",
       "      <th>23767</th>\n",
       "      <td>2</td>\n",
       "      <td>1</td>\n",
       "      <td>2</td>\n",
       "      <td>5</td>\n",
       "      <td>1</td>\n",
       "      <td>0</td>\n",
       "      <td>0</td>\n",
       "      <td>4</td>\n",
       "      <td>0</td>\n",
       "      <td>0</td>\n",
       "      <td>0</td>\n",
       "      <td>0</td>\n",
       "      <td>1</td>\n",
       "    </tr>\n",
       "    <tr>\n",
       "      <th>23768</th>\n",
       "      <td>2</td>\n",
       "      <td>0</td>\n",
       "      <td>0</td>\n",
       "      <td>1</td>\n",
       "      <td>0</td>\n",
       "      <td>0</td>\n",
       "      <td>0</td>\n",
       "      <td>4</td>\n",
       "      <td>0</td>\n",
       "      <td>0</td>\n",
       "      <td>0</td>\n",
       "      <td>2</td>\n",
       "      <td>1</td>\n",
       "    </tr>\n",
       "    <tr>\n",
       "      <th>23769</th>\n",
       "      <td>1</td>\n",
       "      <td>0</td>\n",
       "      <td>1</td>\n",
       "      <td>1</td>\n",
       "      <td>1</td>\n",
       "      <td>0</td>\n",
       "      <td>0</td>\n",
       "      <td>3</td>\n",
       "      <td>0</td>\n",
       "      <td>0</td>\n",
       "      <td>0</td>\n",
       "      <td>0</td>\n",
       "      <td>1</td>\n",
       "    </tr>\n",
       "  </tbody>\n",
       "</table>\n",
       "<p>23770 rows × 13 columns</p>\n",
       "</div>"
      ],
      "text/plain": [
       "       no_of_adults  no_of_children  no_of_weekend_nights  no_of_week_nights  \\\n",
       "0                 1               0                     2                  1   \n",
       "1                 2               0                     0                  2   \n",
       "2                 2               0                     1                  1   \n",
       "3                 2               0                     0                  2   \n",
       "4                 2               0                     2                  1   \n",
       "...             ...             ...                   ...                ...   \n",
       "23765             1               0                     0                  2   \n",
       "23766             1               0                     0                  2   \n",
       "23767             2               1                     2                  5   \n",
       "23768             2               0                     0                  1   \n",
       "23769             1               0                     1                  1   \n",
       "\n",
       "       type_of_meal_plan  required_car_parking_space  room_type_reserved  \\\n",
       "0                      1                           0                   0   \n",
       "1                      1                           0                   0   \n",
       "2                      0                           0                   0   \n",
       "3                      2                           0                   0   \n",
       "4                      0                           0                   0   \n",
       "...                  ...                         ...                 ...   \n",
       "23765                  0                           0                   0   \n",
       "23766                  1                           1                   0   \n",
       "23767                  1                           0                   0   \n",
       "23768                  0                           0                   0   \n",
       "23769                  1                           0                   0   \n",
       "\n",
       "       market_segment_type  repeated_guest  no_of_previous_cancellations  \\\n",
       "0                        4               0                             0   \n",
       "1                        4               0                             0   \n",
       "2                        4               0                             0   \n",
       "3                        4               0                             0   \n",
       "4                        4               0                             0   \n",
       "...                    ...             ...                           ...   \n",
       "23765                    4               0                             0   \n",
       "23766                    2               1                             0   \n",
       "23767                    4               0                             0   \n",
       "23768                    4               0                             0   \n",
       "23769                    3               0                             0   \n",
       "\n",
       "       no_of_previous_bookings_not_canceled  no_of_special_requests  \\\n",
       "0                                         0                       0   \n",
       "1                                         0                       0   \n",
       "2                                         0                       0   \n",
       "3                                         0                       1   \n",
       "4                                         0                       0   \n",
       "...                                     ...                     ...   \n",
       "23765                                     0                       1   \n",
       "23766                                     4                       1   \n",
       "23767                                     0                       0   \n",
       "23768                                     0                       2   \n",
       "23769                                     0                       0   \n",
       "\n",
       "       booking_status  \n",
       "0                   0  \n",
       "1                   0  \n",
       "2                   0  \n",
       "3                   0  \n",
       "4                   0  \n",
       "...               ...  \n",
       "23765               1  \n",
       "23766               1  \n",
       "23767               1  \n",
       "23768               1  \n",
       "23769               1  \n",
       "\n",
       "[23770 rows x 13 columns]"
      ]
     },
     "execution_count": 265,
     "metadata": {},
     "output_type": "execute_result"
    }
   ],
   "source": [
    "Sc_df"
   ]
  },
  {
   "cell_type": "code",
   "execution_count": 266,
   "id": "4242e634",
   "metadata": {},
   "outputs": [],
   "source": [
    "data1 = pd.concat([df_Num_Features, Sc_df], axis = 1)"
   ]
  },
  {
   "cell_type": "code",
   "execution_count": 267,
   "id": "866e9623",
   "metadata": {},
   "outputs": [
    {
     "data": {
      "text/html": [
       "<div>\n",
       "<style scoped>\n",
       "    .dataframe tbody tr th:only-of-type {\n",
       "        vertical-align: middle;\n",
       "    }\n",
       "\n",
       "    .dataframe tbody tr th {\n",
       "        vertical-align: top;\n",
       "    }\n",
       "\n",
       "    .dataframe thead th {\n",
       "        text-align: right;\n",
       "    }\n",
       "</style>\n",
       "<table border=\"1\" class=\"dataframe\">\n",
       "  <thead>\n",
       "    <tr style=\"text-align: right;\">\n",
       "      <th></th>\n",
       "      <th>lead_time</th>\n",
       "      <th>arrival_year</th>\n",
       "      <th>arrival_month</th>\n",
       "      <th>arrival_date</th>\n",
       "      <th>avg_price_per_room</th>\n",
       "      <th>no_of_adults</th>\n",
       "      <th>no_of_children</th>\n",
       "      <th>no_of_weekend_nights</th>\n",
       "      <th>no_of_week_nights</th>\n",
       "      <th>type_of_meal_plan</th>\n",
       "      <th>required_car_parking_space</th>\n",
       "      <th>room_type_reserved</th>\n",
       "      <th>market_segment_type</th>\n",
       "      <th>repeated_guest</th>\n",
       "      <th>no_of_previous_cancellations</th>\n",
       "      <th>no_of_previous_bookings_not_canceled</th>\n",
       "      <th>no_of_special_requests</th>\n",
       "      <th>booking_status</th>\n",
       "    </tr>\n",
       "  </thead>\n",
       "  <tbody>\n",
       "    <tr>\n",
       "      <th>0</th>\n",
       "      <td>0.003454</td>\n",
       "      <td>1.0</td>\n",
       "      <td>0.090909</td>\n",
       "      <td>0.900000</td>\n",
       "      <td>0.247166</td>\n",
       "      <td>1</td>\n",
       "      <td>0</td>\n",
       "      <td>2</td>\n",
       "      <td>1</td>\n",
       "      <td>1</td>\n",
       "      <td>0</td>\n",
       "      <td>0</td>\n",
       "      <td>4</td>\n",
       "      <td>0</td>\n",
       "      <td>0</td>\n",
       "      <td>0</td>\n",
       "      <td>0</td>\n",
       "      <td>0</td>\n",
       "    </tr>\n",
       "    <tr>\n",
       "      <th>1</th>\n",
       "      <td>0.728843</td>\n",
       "      <td>1.0</td>\n",
       "      <td>0.363636</td>\n",
       "      <td>0.633333</td>\n",
       "      <td>0.499055</td>\n",
       "      <td>2</td>\n",
       "      <td>0</td>\n",
       "      <td>0</td>\n",
       "      <td>2</td>\n",
       "      <td>1</td>\n",
       "      <td>0</td>\n",
       "      <td>0</td>\n",
       "      <td>4</td>\n",
       "      <td>0</td>\n",
       "      <td>0</td>\n",
       "      <td>0</td>\n",
       "      <td>0</td>\n",
       "      <td>0</td>\n",
       "    </tr>\n",
       "    <tr>\n",
       "      <th>2</th>\n",
       "      <td>0.165803</td>\n",
       "      <td>1.0</td>\n",
       "      <td>0.272727</td>\n",
       "      <td>0.333333</td>\n",
       "      <td>0.464421</td>\n",
       "      <td>2</td>\n",
       "      <td>0</td>\n",
       "      <td>1</td>\n",
       "      <td>1</td>\n",
       "      <td>0</td>\n",
       "      <td>0</td>\n",
       "      <td>0</td>\n",
       "      <td>4</td>\n",
       "      <td>0</td>\n",
       "      <td>0</td>\n",
       "      <td>0</td>\n",
       "      <td>0</td>\n",
       "      <td>0</td>\n",
       "    </tr>\n",
       "    <tr>\n",
       "      <th>3</th>\n",
       "      <td>1.000000</td>\n",
       "      <td>1.0</td>\n",
       "      <td>0.727273</td>\n",
       "      <td>0.400000</td>\n",
       "      <td>0.593514</td>\n",
       "      <td>2</td>\n",
       "      <td>0</td>\n",
       "      <td>0</td>\n",
       "      <td>2</td>\n",
       "      <td>2</td>\n",
       "      <td>0</td>\n",
       "      <td>0</td>\n",
       "      <td>4</td>\n",
       "      <td>0</td>\n",
       "      <td>0</td>\n",
       "      <td>0</td>\n",
       "      <td>1</td>\n",
       "      <td>0</td>\n",
       "    </tr>\n",
       "    <tr>\n",
       "      <th>4</th>\n",
       "      <td>0.103627</td>\n",
       "      <td>1.0</td>\n",
       "      <td>0.909091</td>\n",
       "      <td>0.833333</td>\n",
       "      <td>0.423489</td>\n",
       "      <td>2</td>\n",
       "      <td>0</td>\n",
       "      <td>2</td>\n",
       "      <td>1</td>\n",
       "      <td>0</td>\n",
       "      <td>0</td>\n",
       "      <td>0</td>\n",
       "      <td>4</td>\n",
       "      <td>0</td>\n",
       "      <td>0</td>\n",
       "      <td>0</td>\n",
       "      <td>0</td>\n",
       "      <td>0</td>\n",
       "    </tr>\n",
       "    <tr>\n",
       "      <th>...</th>\n",
       "      <td>...</td>\n",
       "      <td>...</td>\n",
       "      <td>...</td>\n",
       "      <td>...</td>\n",
       "      <td>...</td>\n",
       "      <td>...</td>\n",
       "      <td>...</td>\n",
       "      <td>...</td>\n",
       "      <td>...</td>\n",
       "      <td>...</td>\n",
       "      <td>...</td>\n",
       "      <td>...</td>\n",
       "      <td>...</td>\n",
       "      <td>...</td>\n",
       "      <td>...</td>\n",
       "      <td>...</td>\n",
       "      <td>...</td>\n",
       "      <td>...</td>\n",
       "    </tr>\n",
       "    <tr>\n",
       "      <th>23765</th>\n",
       "      <td>0.000000</td>\n",
       "      <td>1.0</td>\n",
       "      <td>0.454545</td>\n",
       "      <td>0.666667</td>\n",
       "      <td>0.681675</td>\n",
       "      <td>1</td>\n",
       "      <td>0</td>\n",
       "      <td>0</td>\n",
       "      <td>2</td>\n",
       "      <td>0</td>\n",
       "      <td>0</td>\n",
       "      <td>0</td>\n",
       "      <td>4</td>\n",
       "      <td>0</td>\n",
       "      <td>0</td>\n",
       "      <td>0</td>\n",
       "      <td>1</td>\n",
       "      <td>1</td>\n",
       "    </tr>\n",
       "    <tr>\n",
       "      <th>23766</th>\n",
       "      <td>0.041451</td>\n",
       "      <td>1.0</td>\n",
       "      <td>0.090909</td>\n",
       "      <td>0.500000</td>\n",
       "      <td>0.291247</td>\n",
       "      <td>1</td>\n",
       "      <td>0</td>\n",
       "      <td>0</td>\n",
       "      <td>2</td>\n",
       "      <td>1</td>\n",
       "      <td>1</td>\n",
       "      <td>0</td>\n",
       "      <td>2</td>\n",
       "      <td>1</td>\n",
       "      <td>0</td>\n",
       "      <td>4</td>\n",
       "      <td>1</td>\n",
       "      <td>1</td>\n",
       "    </tr>\n",
       "    <tr>\n",
       "      <th>23767</th>\n",
       "      <td>0.518135</td>\n",
       "      <td>1.0</td>\n",
       "      <td>0.727273</td>\n",
       "      <td>0.566667</td>\n",
       "      <td>0.443136</td>\n",
       "      <td>2</td>\n",
       "      <td>1</td>\n",
       "      <td>2</td>\n",
       "      <td>5</td>\n",
       "      <td>1</td>\n",
       "      <td>0</td>\n",
       "      <td>0</td>\n",
       "      <td>4</td>\n",
       "      <td>0</td>\n",
       "      <td>0</td>\n",
       "      <td>0</td>\n",
       "      <td>0</td>\n",
       "      <td>1</td>\n",
       "    </tr>\n",
       "    <tr>\n",
       "      <th>23768</th>\n",
       "      <td>0.348877</td>\n",
       "      <td>1.0</td>\n",
       "      <td>0.545455</td>\n",
       "      <td>0.466667</td>\n",
       "      <td>0.464421</td>\n",
       "      <td>2</td>\n",
       "      <td>0</td>\n",
       "      <td>0</td>\n",
       "      <td>1</td>\n",
       "      <td>0</td>\n",
       "      <td>0</td>\n",
       "      <td>0</td>\n",
       "      <td>4</td>\n",
       "      <td>0</td>\n",
       "      <td>0</td>\n",
       "      <td>0</td>\n",
       "      <td>2</td>\n",
       "      <td>1</td>\n",
       "    </tr>\n",
       "    <tr>\n",
       "      <th>23769</th>\n",
       "      <td>0.000000</td>\n",
       "      <td>1.0</td>\n",
       "      <td>0.000000</td>\n",
       "      <td>0.566667</td>\n",
       "      <td>0.275504</td>\n",
       "      <td>1</td>\n",
       "      <td>0</td>\n",
       "      <td>1</td>\n",
       "      <td>1</td>\n",
       "      <td>1</td>\n",
       "      <td>0</td>\n",
       "      <td>0</td>\n",
       "      <td>3</td>\n",
       "      <td>0</td>\n",
       "      <td>0</td>\n",
       "      <td>0</td>\n",
       "      <td>0</td>\n",
       "      <td>1</td>\n",
       "    </tr>\n",
       "  </tbody>\n",
       "</table>\n",
       "<p>23770 rows × 18 columns</p>\n",
       "</div>"
      ],
      "text/plain": [
       "       lead_time  arrival_year  arrival_month  arrival_date  \\\n",
       "0       0.003454           1.0       0.090909      0.900000   \n",
       "1       0.728843           1.0       0.363636      0.633333   \n",
       "2       0.165803           1.0       0.272727      0.333333   \n",
       "3       1.000000           1.0       0.727273      0.400000   \n",
       "4       0.103627           1.0       0.909091      0.833333   \n",
       "...          ...           ...            ...           ...   \n",
       "23765   0.000000           1.0       0.454545      0.666667   \n",
       "23766   0.041451           1.0       0.090909      0.500000   \n",
       "23767   0.518135           1.0       0.727273      0.566667   \n",
       "23768   0.348877           1.0       0.545455      0.466667   \n",
       "23769   0.000000           1.0       0.000000      0.566667   \n",
       "\n",
       "       avg_price_per_room  no_of_adults  no_of_children  no_of_weekend_nights  \\\n",
       "0                0.247166             1               0                     2   \n",
       "1                0.499055             2               0                     0   \n",
       "2                0.464421             2               0                     1   \n",
       "3                0.593514             2               0                     0   \n",
       "4                0.423489             2               0                     2   \n",
       "...                   ...           ...             ...                   ...   \n",
       "23765            0.681675             1               0                     0   \n",
       "23766            0.291247             1               0                     0   \n",
       "23767            0.443136             2               1                     2   \n",
       "23768            0.464421             2               0                     0   \n",
       "23769            0.275504             1               0                     1   \n",
       "\n",
       "       no_of_week_nights  type_of_meal_plan  required_car_parking_space  \\\n",
       "0                      1                  1                           0   \n",
       "1                      2                  1                           0   \n",
       "2                      1                  0                           0   \n",
       "3                      2                  2                           0   \n",
       "4                      1                  0                           0   \n",
       "...                  ...                ...                         ...   \n",
       "23765                  2                  0                           0   \n",
       "23766                  2                  1                           1   \n",
       "23767                  5                  1                           0   \n",
       "23768                  1                  0                           0   \n",
       "23769                  1                  1                           0   \n",
       "\n",
       "       room_type_reserved  market_segment_type  repeated_guest  \\\n",
       "0                       0                    4               0   \n",
       "1                       0                    4               0   \n",
       "2                       0                    4               0   \n",
       "3                       0                    4               0   \n",
       "4                       0                    4               0   \n",
       "...                   ...                  ...             ...   \n",
       "23765                   0                    4               0   \n",
       "23766                   0                    2               1   \n",
       "23767                   0                    4               0   \n",
       "23768                   0                    4               0   \n",
       "23769                   0                    3               0   \n",
       "\n",
       "       no_of_previous_cancellations  no_of_previous_bookings_not_canceled  \\\n",
       "0                                 0                                     0   \n",
       "1                                 0                                     0   \n",
       "2                                 0                                     0   \n",
       "3                                 0                                     0   \n",
       "4                                 0                                     0   \n",
       "...                             ...                                   ...   \n",
       "23765                             0                                     0   \n",
       "23766                             0                                     4   \n",
       "23767                             0                                     0   \n",
       "23768                             0                                     0   \n",
       "23769                             0                                     0   \n",
       "\n",
       "       no_of_special_requests  booking_status  \n",
       "0                           0               0  \n",
       "1                           0               0  \n",
       "2                           0               0  \n",
       "3                           1               0  \n",
       "4                           0               0  \n",
       "...                       ...             ...  \n",
       "23765                       1               1  \n",
       "23766                       1               1  \n",
       "23767                       0               1  \n",
       "23768                       2               1  \n",
       "23769                       0               1  \n",
       "\n",
       "[23770 rows x 18 columns]"
      ]
     },
     "execution_count": 267,
     "metadata": {},
     "output_type": "execute_result"
    }
   ],
   "source": [
    "data1"
   ]
  },
  {
   "cell_type": "markdown",
   "id": "d56d8a09",
   "metadata": {},
   "source": [
    " Supervised Learning models: a. Logistic Regression b. AdaBoost c. Naïve Bayes d. KNN e. SVM"
   ]
  },
  {
   "cell_type": "markdown",
   "id": "08f2e44b",
   "metadata": {},
   "source": [
    "a. Logistic Regression"
   ]
  },
  {
   "cell_type": "code",
   "execution_count": 268,
   "id": "baffbb44",
   "metadata": {},
   "outputs": [],
   "source": [
    "x = data1.drop(['booking_status'], axis = 1)"
   ]
  },
  {
   "cell_type": "code",
   "execution_count": 269,
   "id": "c09ebc06",
   "metadata": {},
   "outputs": [
    {
     "data": {
      "text/html": [
       "<div>\n",
       "<style scoped>\n",
       "    .dataframe tbody tr th:only-of-type {\n",
       "        vertical-align: middle;\n",
       "    }\n",
       "\n",
       "    .dataframe tbody tr th {\n",
       "        vertical-align: top;\n",
       "    }\n",
       "\n",
       "    .dataframe thead th {\n",
       "        text-align: right;\n",
       "    }\n",
       "</style>\n",
       "<table border=\"1\" class=\"dataframe\">\n",
       "  <thead>\n",
       "    <tr style=\"text-align: right;\">\n",
       "      <th></th>\n",
       "      <th>lead_time</th>\n",
       "      <th>arrival_year</th>\n",
       "      <th>arrival_month</th>\n",
       "      <th>arrival_date</th>\n",
       "      <th>avg_price_per_room</th>\n",
       "      <th>no_of_adults</th>\n",
       "      <th>no_of_children</th>\n",
       "      <th>no_of_weekend_nights</th>\n",
       "      <th>no_of_week_nights</th>\n",
       "      <th>type_of_meal_plan</th>\n",
       "      <th>required_car_parking_space</th>\n",
       "      <th>room_type_reserved</th>\n",
       "      <th>market_segment_type</th>\n",
       "      <th>repeated_guest</th>\n",
       "      <th>no_of_previous_cancellations</th>\n",
       "      <th>no_of_previous_bookings_not_canceled</th>\n",
       "      <th>no_of_special_requests</th>\n",
       "    </tr>\n",
       "  </thead>\n",
       "  <tbody>\n",
       "    <tr>\n",
       "      <th>0</th>\n",
       "      <td>0.003454</td>\n",
       "      <td>1.0</td>\n",
       "      <td>0.090909</td>\n",
       "      <td>0.900000</td>\n",
       "      <td>0.247166</td>\n",
       "      <td>1</td>\n",
       "      <td>0</td>\n",
       "      <td>2</td>\n",
       "      <td>1</td>\n",
       "      <td>1</td>\n",
       "      <td>0</td>\n",
       "      <td>0</td>\n",
       "      <td>4</td>\n",
       "      <td>0</td>\n",
       "      <td>0</td>\n",
       "      <td>0</td>\n",
       "      <td>0</td>\n",
       "    </tr>\n",
       "    <tr>\n",
       "      <th>1</th>\n",
       "      <td>0.728843</td>\n",
       "      <td>1.0</td>\n",
       "      <td>0.363636</td>\n",
       "      <td>0.633333</td>\n",
       "      <td>0.499055</td>\n",
       "      <td>2</td>\n",
       "      <td>0</td>\n",
       "      <td>0</td>\n",
       "      <td>2</td>\n",
       "      <td>1</td>\n",
       "      <td>0</td>\n",
       "      <td>0</td>\n",
       "      <td>4</td>\n",
       "      <td>0</td>\n",
       "      <td>0</td>\n",
       "      <td>0</td>\n",
       "      <td>0</td>\n",
       "    </tr>\n",
       "    <tr>\n",
       "      <th>2</th>\n",
       "      <td>0.165803</td>\n",
       "      <td>1.0</td>\n",
       "      <td>0.272727</td>\n",
       "      <td>0.333333</td>\n",
       "      <td>0.464421</td>\n",
       "      <td>2</td>\n",
       "      <td>0</td>\n",
       "      <td>1</td>\n",
       "      <td>1</td>\n",
       "      <td>0</td>\n",
       "      <td>0</td>\n",
       "      <td>0</td>\n",
       "      <td>4</td>\n",
       "      <td>0</td>\n",
       "      <td>0</td>\n",
       "      <td>0</td>\n",
       "      <td>0</td>\n",
       "    </tr>\n",
       "    <tr>\n",
       "      <th>3</th>\n",
       "      <td>1.000000</td>\n",
       "      <td>1.0</td>\n",
       "      <td>0.727273</td>\n",
       "      <td>0.400000</td>\n",
       "      <td>0.593514</td>\n",
       "      <td>2</td>\n",
       "      <td>0</td>\n",
       "      <td>0</td>\n",
       "      <td>2</td>\n",
       "      <td>2</td>\n",
       "      <td>0</td>\n",
       "      <td>0</td>\n",
       "      <td>4</td>\n",
       "      <td>0</td>\n",
       "      <td>0</td>\n",
       "      <td>0</td>\n",
       "      <td>1</td>\n",
       "    </tr>\n",
       "    <tr>\n",
       "      <th>4</th>\n",
       "      <td>0.103627</td>\n",
       "      <td>1.0</td>\n",
       "      <td>0.909091</td>\n",
       "      <td>0.833333</td>\n",
       "      <td>0.423489</td>\n",
       "      <td>2</td>\n",
       "      <td>0</td>\n",
       "      <td>2</td>\n",
       "      <td>1</td>\n",
       "      <td>0</td>\n",
       "      <td>0</td>\n",
       "      <td>0</td>\n",
       "      <td>4</td>\n",
       "      <td>0</td>\n",
       "      <td>0</td>\n",
       "      <td>0</td>\n",
       "      <td>0</td>\n",
       "    </tr>\n",
       "    <tr>\n",
       "      <th>...</th>\n",
       "      <td>...</td>\n",
       "      <td>...</td>\n",
       "      <td>...</td>\n",
       "      <td>...</td>\n",
       "      <td>...</td>\n",
       "      <td>...</td>\n",
       "      <td>...</td>\n",
       "      <td>...</td>\n",
       "      <td>...</td>\n",
       "      <td>...</td>\n",
       "      <td>...</td>\n",
       "      <td>...</td>\n",
       "      <td>...</td>\n",
       "      <td>...</td>\n",
       "      <td>...</td>\n",
       "      <td>...</td>\n",
       "      <td>...</td>\n",
       "    </tr>\n",
       "    <tr>\n",
       "      <th>23765</th>\n",
       "      <td>0.000000</td>\n",
       "      <td>1.0</td>\n",
       "      <td>0.454545</td>\n",
       "      <td>0.666667</td>\n",
       "      <td>0.681675</td>\n",
       "      <td>1</td>\n",
       "      <td>0</td>\n",
       "      <td>0</td>\n",
       "      <td>2</td>\n",
       "      <td>0</td>\n",
       "      <td>0</td>\n",
       "      <td>0</td>\n",
       "      <td>4</td>\n",
       "      <td>0</td>\n",
       "      <td>0</td>\n",
       "      <td>0</td>\n",
       "      <td>1</td>\n",
       "    </tr>\n",
       "    <tr>\n",
       "      <th>23766</th>\n",
       "      <td>0.041451</td>\n",
       "      <td>1.0</td>\n",
       "      <td>0.090909</td>\n",
       "      <td>0.500000</td>\n",
       "      <td>0.291247</td>\n",
       "      <td>1</td>\n",
       "      <td>0</td>\n",
       "      <td>0</td>\n",
       "      <td>2</td>\n",
       "      <td>1</td>\n",
       "      <td>1</td>\n",
       "      <td>0</td>\n",
       "      <td>2</td>\n",
       "      <td>1</td>\n",
       "      <td>0</td>\n",
       "      <td>4</td>\n",
       "      <td>1</td>\n",
       "    </tr>\n",
       "    <tr>\n",
       "      <th>23767</th>\n",
       "      <td>0.518135</td>\n",
       "      <td>1.0</td>\n",
       "      <td>0.727273</td>\n",
       "      <td>0.566667</td>\n",
       "      <td>0.443136</td>\n",
       "      <td>2</td>\n",
       "      <td>1</td>\n",
       "      <td>2</td>\n",
       "      <td>5</td>\n",
       "      <td>1</td>\n",
       "      <td>0</td>\n",
       "      <td>0</td>\n",
       "      <td>4</td>\n",
       "      <td>0</td>\n",
       "      <td>0</td>\n",
       "      <td>0</td>\n",
       "      <td>0</td>\n",
       "    </tr>\n",
       "    <tr>\n",
       "      <th>23768</th>\n",
       "      <td>0.348877</td>\n",
       "      <td>1.0</td>\n",
       "      <td>0.545455</td>\n",
       "      <td>0.466667</td>\n",
       "      <td>0.464421</td>\n",
       "      <td>2</td>\n",
       "      <td>0</td>\n",
       "      <td>0</td>\n",
       "      <td>1</td>\n",
       "      <td>0</td>\n",
       "      <td>0</td>\n",
       "      <td>0</td>\n",
       "      <td>4</td>\n",
       "      <td>0</td>\n",
       "      <td>0</td>\n",
       "      <td>0</td>\n",
       "      <td>2</td>\n",
       "    </tr>\n",
       "    <tr>\n",
       "      <th>23769</th>\n",
       "      <td>0.000000</td>\n",
       "      <td>1.0</td>\n",
       "      <td>0.000000</td>\n",
       "      <td>0.566667</td>\n",
       "      <td>0.275504</td>\n",
       "      <td>1</td>\n",
       "      <td>0</td>\n",
       "      <td>1</td>\n",
       "      <td>1</td>\n",
       "      <td>1</td>\n",
       "      <td>0</td>\n",
       "      <td>0</td>\n",
       "      <td>3</td>\n",
       "      <td>0</td>\n",
       "      <td>0</td>\n",
       "      <td>0</td>\n",
       "      <td>0</td>\n",
       "    </tr>\n",
       "  </tbody>\n",
       "</table>\n",
       "<p>23770 rows × 17 columns</p>\n",
       "</div>"
      ],
      "text/plain": [
       "       lead_time  arrival_year  arrival_month  arrival_date  \\\n",
       "0       0.003454           1.0       0.090909      0.900000   \n",
       "1       0.728843           1.0       0.363636      0.633333   \n",
       "2       0.165803           1.0       0.272727      0.333333   \n",
       "3       1.000000           1.0       0.727273      0.400000   \n",
       "4       0.103627           1.0       0.909091      0.833333   \n",
       "...          ...           ...            ...           ...   \n",
       "23765   0.000000           1.0       0.454545      0.666667   \n",
       "23766   0.041451           1.0       0.090909      0.500000   \n",
       "23767   0.518135           1.0       0.727273      0.566667   \n",
       "23768   0.348877           1.0       0.545455      0.466667   \n",
       "23769   0.000000           1.0       0.000000      0.566667   \n",
       "\n",
       "       avg_price_per_room  no_of_adults  no_of_children  no_of_weekend_nights  \\\n",
       "0                0.247166             1               0                     2   \n",
       "1                0.499055             2               0                     0   \n",
       "2                0.464421             2               0                     1   \n",
       "3                0.593514             2               0                     0   \n",
       "4                0.423489             2               0                     2   \n",
       "...                   ...           ...             ...                   ...   \n",
       "23765            0.681675             1               0                     0   \n",
       "23766            0.291247             1               0                     0   \n",
       "23767            0.443136             2               1                     2   \n",
       "23768            0.464421             2               0                     0   \n",
       "23769            0.275504             1               0                     1   \n",
       "\n",
       "       no_of_week_nights  type_of_meal_plan  required_car_parking_space  \\\n",
       "0                      1                  1                           0   \n",
       "1                      2                  1                           0   \n",
       "2                      1                  0                           0   \n",
       "3                      2                  2                           0   \n",
       "4                      1                  0                           0   \n",
       "...                  ...                ...                         ...   \n",
       "23765                  2                  0                           0   \n",
       "23766                  2                  1                           1   \n",
       "23767                  5                  1                           0   \n",
       "23768                  1                  0                           0   \n",
       "23769                  1                  1                           0   \n",
       "\n",
       "       room_type_reserved  market_segment_type  repeated_guest  \\\n",
       "0                       0                    4               0   \n",
       "1                       0                    4               0   \n",
       "2                       0                    4               0   \n",
       "3                       0                    4               0   \n",
       "4                       0                    4               0   \n",
       "...                   ...                  ...             ...   \n",
       "23765                   0                    4               0   \n",
       "23766                   0                    2               1   \n",
       "23767                   0                    4               0   \n",
       "23768                   0                    4               0   \n",
       "23769                   0                    3               0   \n",
       "\n",
       "       no_of_previous_cancellations  no_of_previous_bookings_not_canceled  \\\n",
       "0                                 0                                     0   \n",
       "1                                 0                                     0   \n",
       "2                                 0                                     0   \n",
       "3                                 0                                     0   \n",
       "4                                 0                                     0   \n",
       "...                             ...                                   ...   \n",
       "23765                             0                                     0   \n",
       "23766                             0                                     4   \n",
       "23767                             0                                     0   \n",
       "23768                             0                                     0   \n",
       "23769                             0                                     0   \n",
       "\n",
       "       no_of_special_requests  \n",
       "0                           0  \n",
       "1                           0  \n",
       "2                           0  \n",
       "3                           1  \n",
       "4                           0  \n",
       "...                       ...  \n",
       "23765                       1  \n",
       "23766                       1  \n",
       "23767                       0  \n",
       "23768                       2  \n",
       "23769                       0  \n",
       "\n",
       "[23770 rows x 17 columns]"
      ]
     },
     "execution_count": 269,
     "metadata": {},
     "output_type": "execute_result"
    }
   ],
   "source": [
    "x"
   ]
  },
  {
   "cell_type": "code",
   "execution_count": 270,
   "id": "93ef3c9a",
   "metadata": {},
   "outputs": [],
   "source": [
    "y = data1['booking_status']"
   ]
  },
  {
   "cell_type": "code",
   "execution_count": 271,
   "id": "d765a4f5",
   "metadata": {},
   "outputs": [
    {
     "data": {
      "text/plain": [
       "0        0\n",
       "1        0\n",
       "2        0\n",
       "3        0\n",
       "4        0\n",
       "        ..\n",
       "23765    1\n",
       "23766    1\n",
       "23767    1\n",
       "23768    1\n",
       "23769    1\n",
       "Name: booking_status, Length: 23770, dtype: int8"
      ]
     },
     "execution_count": 271,
     "metadata": {},
     "output_type": "execute_result"
    }
   ],
   "source": [
    "y"
   ]
  },
  {
   "cell_type": "code",
   "execution_count": 272,
   "id": "6e5824fb",
   "metadata": {},
   "outputs": [],
   "source": [
    "x_train, x_test, y_train, y_test = train_test_split(x, y, test_size = .2, random_state = 6)"
   ]
  },
  {
   "cell_type": "code",
   "execution_count": 273,
   "id": "db1c2e07",
   "metadata": {},
   "outputs": [
    {
     "data": {
      "text/plain": [
       "(19016, 17)"
      ]
     },
     "execution_count": 273,
     "metadata": {},
     "output_type": "execute_result"
    }
   ],
   "source": [
    "x_train.shape"
   ]
  },
  {
   "cell_type": "code",
   "execution_count": 274,
   "id": "50e8c4ff",
   "metadata": {},
   "outputs": [
    {
     "data": {
      "text/plain": [
       "(19016,)"
      ]
     },
     "execution_count": 274,
     "metadata": {},
     "output_type": "execute_result"
    }
   ],
   "source": [
    "y_train.shape"
   ]
  },
  {
   "cell_type": "code",
   "execution_count": 275,
   "id": "0ea3d276",
   "metadata": {},
   "outputs": [
    {
     "data": {
      "text/plain": [
       "(4754,)"
      ]
     },
     "execution_count": 275,
     "metadata": {},
     "output_type": "execute_result"
    }
   ],
   "source": [
    "y_test.shape"
   ]
  },
  {
   "cell_type": "code",
   "execution_count": 276,
   "id": "ff0756c3",
   "metadata": {},
   "outputs": [
    {
     "data": {
      "text/plain": [
       "(4754,)"
      ]
     },
     "execution_count": 276,
     "metadata": {},
     "output_type": "execute_result"
    }
   ],
   "source": [
    "y_test.shape"
   ]
  },
  {
   "cell_type": "code",
   "execution_count": 277,
   "id": "8b542b8a",
   "metadata": {},
   "outputs": [],
   "source": [
    "from sklearn.linear_model import LogisticRegression"
   ]
  },
  {
   "cell_type": "code",
   "execution_count": 278,
   "id": "fb5824c7",
   "metadata": {},
   "outputs": [],
   "source": [
    "Logi_Reg = LogisticRegression()"
   ]
  },
  {
   "cell_type": "code",
   "execution_count": 279,
   "id": "3f59a925",
   "metadata": {},
   "outputs": [
    {
     "name": "stderr",
     "output_type": "stream",
     "text": [
      "C:\\Users\\chris\\anaconda3\\lib\\site-packages\\sklearn\\linear_model\\_logistic.py:814: ConvergenceWarning: lbfgs failed to converge (status=1):\n",
      "STOP: TOTAL NO. of ITERATIONS REACHED LIMIT.\n",
      "\n",
      "Increase the number of iterations (max_iter) or scale the data as shown in:\n",
      "    https://scikit-learn.org/stable/modules/preprocessing.html\n",
      "Please also refer to the documentation for alternative solver options:\n",
      "    https://scikit-learn.org/stable/modules/linear_model.html#logistic-regression\n",
      "  n_iter_i = _check_optimize_result(\n"
     ]
    }
   ],
   "source": [
    "LR_Model = Logi_Reg.fit(x_train, y_train)"
   ]
  },
  {
   "cell_type": "code",
   "execution_count": 280,
   "id": "593ac7f9",
   "metadata": {},
   "outputs": [],
   "source": [
    "Logi_Pred = LR_Model.predict(x_test)"
   ]
  },
  {
   "cell_type": "code",
   "execution_count": 281,
   "id": "299c714d",
   "metadata": {},
   "outputs": [
    {
     "data": {
      "text/plain": [
       "array([1, 1, 1, ..., 1, 1, 1], dtype=int8)"
      ]
     },
     "execution_count": 281,
     "metadata": {},
     "output_type": "execute_result"
    }
   ],
   "source": [
    "Logi_Pred"
   ]
  },
  {
   "cell_type": "code",
   "execution_count": 282,
   "id": "9303d2bc",
   "metadata": {},
   "outputs": [],
   "source": [
    "from sklearn.metrics import confusion_matrix, classification_report, accuracy_score"
   ]
  },
  {
   "cell_type": "code",
   "execution_count": 283,
   "id": "655d35a0",
   "metadata": {},
   "outputs": [
    {
     "data": {
      "text/html": [
       "<div>\n",
       "<style scoped>\n",
       "    .dataframe tbody tr th:only-of-type {\n",
       "        vertical-align: middle;\n",
       "    }\n",
       "\n",
       "    .dataframe tbody tr th {\n",
       "        vertical-align: top;\n",
       "    }\n",
       "\n",
       "    .dataframe thead th {\n",
       "        text-align: right;\n",
       "    }\n",
       "</style>\n",
       "<table border=\"1\" class=\"dataframe\">\n",
       "  <thead>\n",
       "    <tr style=\"text-align: right;\">\n",
       "      <th>Predicted</th>\n",
       "      <th>0</th>\n",
       "      <th>1</th>\n",
       "      <th>All</th>\n",
       "    </tr>\n",
       "    <tr>\n",
       "      <th>Actual</th>\n",
       "      <th></th>\n",
       "      <th></th>\n",
       "      <th></th>\n",
       "    </tr>\n",
       "  </thead>\n",
       "  <tbody>\n",
       "    <tr>\n",
       "      <th>0</th>\n",
       "      <td>1864</td>\n",
       "      <td>526</td>\n",
       "      <td>2390</td>\n",
       "    </tr>\n",
       "    <tr>\n",
       "      <th>1</th>\n",
       "      <td>499</td>\n",
       "      <td>1865</td>\n",
       "      <td>2364</td>\n",
       "    </tr>\n",
       "    <tr>\n",
       "      <th>All</th>\n",
       "      <td>2363</td>\n",
       "      <td>2391</td>\n",
       "      <td>4754</td>\n",
       "    </tr>\n",
       "  </tbody>\n",
       "</table>\n",
       "</div>"
      ],
      "text/plain": [
       "Predicted     0     1   All\n",
       "Actual                     \n",
       "0          1864   526  2390\n",
       "1           499  1865  2364\n",
       "All        2363  2391  4754"
      ]
     },
     "execution_count": 283,
     "metadata": {},
     "output_type": "execute_result"
    }
   ],
   "source": [
    "#Confusion matrix\n",
    "pd.crosstab(y_test, Logi_Pred, rownames = ['Actual'], colnames = ['Predicted'], margins = True)"
   ]
  },
  {
   "cell_type": "code",
   "execution_count": 284,
   "id": "6141eb90",
   "metadata": {},
   "outputs": [
    {
     "data": {
      "text/plain": [
       "array([[1864,  526],\n",
       "       [ 499, 1865]], dtype=int64)"
      ]
     },
     "execution_count": 284,
     "metadata": {},
     "output_type": "execute_result"
    }
   ],
   "source": [
    "confusion_matrix(y_test, Logi_Pred)"
   ]
  },
  {
   "cell_type": "code",
   "execution_count": 285,
   "id": "48107de8",
   "metadata": {},
   "outputs": [
    {
     "name": "stdout",
     "output_type": "stream",
     "text": [
      "              precision    recall  f1-score   support\n",
      "\n",
      "           0       0.79      0.78      0.78      2390\n",
      "           1       0.78      0.79      0.78      2364\n",
      "\n",
      "    accuracy                           0.78      4754\n",
      "   macro avg       0.78      0.78      0.78      4754\n",
      "weighted avg       0.78      0.78      0.78      4754\n",
      "\n"
     ]
    }
   ],
   "source": [
    "# classification_report\n",
    "print(classification_report(y_test, Logi_Pred))"
   ]
  },
  {
   "cell_type": "code",
   "execution_count": 286,
   "id": "79615074",
   "metadata": {},
   "outputs": [
    {
     "data": {
      "text/plain": [
       "0.7843920908708456"
      ]
     },
     "execution_count": 286,
     "metadata": {},
     "output_type": "execute_result"
    }
   ],
   "source": [
    "# accuracy_score \n",
    "Logi_accuracy = accuracy_score(y_test, Logi_Pred)\n",
    "Logi_accuracy"
   ]
  },
  {
   "cell_type": "code",
   "execution_count": 287,
   "id": "e49c9087",
   "metadata": {},
   "outputs": [],
   "source": [
    "# f1_score \n",
    "from sklearn.metrics import f1_score"
   ]
  },
  {
   "cell_type": "code",
   "execution_count": 288,
   "id": "80fe5ba1",
   "metadata": {},
   "outputs": [],
   "source": [
    "#define array of actual classes\n",
    "actual = np.repeat([1, 0], repeats = [2390, 2364])\n"
   ]
  },
  {
   "cell_type": "code",
   "execution_count": 289,
   "id": "42f20162",
   "metadata": {},
   "outputs": [],
   "source": [
    "# define array of predicted classes\n",
    "pred = np.repeat([1, 0, 1, 0], repeats = [1864,  526, 499, 1865] )"
   ]
  },
  {
   "cell_type": "code",
   "execution_count": 290,
   "id": "0792868e",
   "metadata": {},
   "outputs": [
    {
     "data": {
      "text/plain": [
       "0.7843467283820744"
      ]
     },
     "execution_count": 290,
     "metadata": {},
     "output_type": "execute_result"
    }
   ],
   "source": [
    "# claculate F1 score\n",
    "f1_score(actual, pred)"
   ]
  },
  {
   "cell_type": "code",
   "execution_count": 291,
   "id": "92a3b20f",
   "metadata": {},
   "outputs": [],
   "source": [
    "# AUC\n",
    "y_predict = LR_Model.predict_proba(x)\n",
    "y_predict[:, 1]\n",
    "plt.show()"
   ]
  },
  {
   "cell_type": "code",
   "execution_count": 292,
   "id": "87d05451",
   "metadata": {},
   "outputs": [],
   "source": [
    "# ROC Curve - Receiver Operating Characteristic curve\n",
    "# threshold\n",
    "# tpr = True Positive Rate\n",
    "# fpr = False Positive Rate\n",
    "from sklearn import metrics\n",
    "from sklearn.metrics import roc_curve, auc, roc_auc_score"
   ]
  },
  {
   "cell_type": "code",
   "execution_count": 293,
   "id": "82e5541a",
   "metadata": {},
   "outputs": [
    {
     "name": "stdout",
     "output_type": "stream",
     "text": [
      "AUC Score :  0.857\n"
     ]
    }
   ],
   "source": [
    "fpr, tpr, thresholds = metrics.roc_curve(y, y_predict[:, 1])\n",
    "roc_auc = metrics.auc(fpr, tpr)\n",
    "print('AUC Score : ', round(roc_auc, 3))"
   ]
  },
  {
   "cell_type": "code",
   "execution_count": 294,
   "id": "377909f2",
   "metadata": {},
   "outputs": [
    {
     "data": {
      "image/png": "[encoded data removed]",
      "text/plain": [
       "<Figure size 432x288 with 1 Axes>"
      ]
     },
     "metadata": {
      "needs_background": "light"
     },
     "output_type": "display_data"
    }
   ],
   "source": [
    "# ROC Curve\n",
    "plt.xlabel('False Positive Rate (1 - Specificity)')\n",
    "plt.ylabel('True Positive Rate (Sensitivity)')\n",
    "plt.title('ROC (Receiver Operating Characteristic) Curve')\n",
    "plt.plot([0, 1], [0, 1], 'r--')\n",
    "plt.xlim([0, 1])\n",
    "plt.ylim([0, 1])\n",
    "plt.plot(fpr, tpr, label = 'AUC =' + str(roc_auc), lw = 6)\n",
    "plt.legend(loc = 4)\n",
    "plt.show()"
   ]
  },
  {
   "cell_type": "code",
   "execution_count": 295,
   "id": "93bfd575",
   "metadata": {},
   "outputs": [
    {
     "data": {
      "text/html": [
       "<div>\n",
       "<style scoped>\n",
       "    .dataframe tbody tr th:only-of-type {\n",
       "        vertical-align: middle;\n",
       "    }\n",
       "\n",
       "    .dataframe tbody tr th {\n",
       "        vertical-align: top;\n",
       "    }\n",
       "\n",
       "    .dataframe thead th {\n",
       "        text-align: right;\n",
       "    }\n",
       "</style>\n",
       "<table border=\"1\" class=\"dataframe\">\n",
       "  <thead>\n",
       "    <tr style=\"text-align: right;\">\n",
       "      <th></th>\n",
       "      <th>lead_time</th>\n",
       "      <th>avg_price_per_room</th>\n",
       "      <th>no_of_special_requests</th>\n",
       "      <th>arrival_date</th>\n",
       "      <th>arrival_month</th>\n",
       "      <th>market_segment_type</th>\n",
       "    </tr>\n",
       "  </thead>\n",
       "  <tbody>\n",
       "    <tr>\n",
       "      <th>0</th>\n",
       "      <td>0.003454</td>\n",
       "      <td>0.247166</td>\n",
       "      <td>0</td>\n",
       "      <td>0.900000</td>\n",
       "      <td>0.090909</td>\n",
       "      <td>4</td>\n",
       "    </tr>\n",
       "    <tr>\n",
       "      <th>1</th>\n",
       "      <td>0.728843</td>\n",
       "      <td>0.499055</td>\n",
       "      <td>0</td>\n",
       "      <td>0.633333</td>\n",
       "      <td>0.363636</td>\n",
       "      <td>4</td>\n",
       "    </tr>\n",
       "    <tr>\n",
       "      <th>2</th>\n",
       "      <td>0.165803</td>\n",
       "      <td>0.464421</td>\n",
       "      <td>0</td>\n",
       "      <td>0.333333</td>\n",
       "      <td>0.272727</td>\n",
       "      <td>4</td>\n",
       "    </tr>\n",
       "    <tr>\n",
       "      <th>3</th>\n",
       "      <td>1.000000</td>\n",
       "      <td>0.593514</td>\n",
       "      <td>1</td>\n",
       "      <td>0.400000</td>\n",
       "      <td>0.727273</td>\n",
       "      <td>4</td>\n",
       "    </tr>\n",
       "    <tr>\n",
       "      <th>4</th>\n",
       "      <td>0.103627</td>\n",
       "      <td>0.423489</td>\n",
       "      <td>0</td>\n",
       "      <td>0.833333</td>\n",
       "      <td>0.909091</td>\n",
       "      <td>4</td>\n",
       "    </tr>\n",
       "    <tr>\n",
       "      <th>...</th>\n",
       "      <td>...</td>\n",
       "      <td>...</td>\n",
       "      <td>...</td>\n",
       "      <td>...</td>\n",
       "      <td>...</td>\n",
       "      <td>...</td>\n",
       "    </tr>\n",
       "    <tr>\n",
       "      <th>23765</th>\n",
       "      <td>0.000000</td>\n",
       "      <td>0.681675</td>\n",
       "      <td>1</td>\n",
       "      <td>0.666667</td>\n",
       "      <td>0.454545</td>\n",
       "      <td>4</td>\n",
       "    </tr>\n",
       "    <tr>\n",
       "      <th>23766</th>\n",
       "      <td>0.041451</td>\n",
       "      <td>0.291247</td>\n",
       "      <td>1</td>\n",
       "      <td>0.500000</td>\n",
       "      <td>0.090909</td>\n",
       "      <td>2</td>\n",
       "    </tr>\n",
       "    <tr>\n",
       "      <th>23767</th>\n",
       "      <td>0.518135</td>\n",
       "      <td>0.443136</td>\n",
       "      <td>0</td>\n",
       "      <td>0.566667</td>\n",
       "      <td>0.727273</td>\n",
       "      <td>4</td>\n",
       "    </tr>\n",
       "    <tr>\n",
       "      <th>23768</th>\n",
       "      <td>0.348877</td>\n",
       "      <td>0.464421</td>\n",
       "      <td>2</td>\n",
       "      <td>0.466667</td>\n",
       "      <td>0.545455</td>\n",
       "      <td>4</td>\n",
       "    </tr>\n",
       "    <tr>\n",
       "      <th>23769</th>\n",
       "      <td>0.000000</td>\n",
       "      <td>0.275504</td>\n",
       "      <td>0</td>\n",
       "      <td>0.566667</td>\n",
       "      <td>0.000000</td>\n",
       "      <td>3</td>\n",
       "    </tr>\n",
       "  </tbody>\n",
       "</table>\n",
       "<p>23770 rows × 6 columns</p>\n",
       "</div>"
      ],
      "text/plain": [
       "       lead_time  avg_price_per_room  no_of_special_requests  arrival_date  \\\n",
       "0       0.003454            0.247166                       0      0.900000   \n",
       "1       0.728843            0.499055                       0      0.633333   \n",
       "2       0.165803            0.464421                       0      0.333333   \n",
       "3       1.000000            0.593514                       1      0.400000   \n",
       "4       0.103627            0.423489                       0      0.833333   \n",
       "...          ...                 ...                     ...           ...   \n",
       "23765   0.000000            0.681675                       1      0.666667   \n",
       "23766   0.041451            0.291247                       1      0.500000   \n",
       "23767   0.518135            0.443136                       0      0.566667   \n",
       "23768   0.348877            0.464421                       2      0.466667   \n",
       "23769   0.000000            0.275504                       0      0.566667   \n",
       "\n",
       "       arrival_month  market_segment_type  \n",
       "0           0.090909                    4  \n",
       "1           0.363636                    4  \n",
       "2           0.272727                    4  \n",
       "3           0.727273                    4  \n",
       "4           0.909091                    4  \n",
       "...              ...                  ...  \n",
       "23765       0.454545                    4  \n",
       "23766       0.090909                    2  \n",
       "23767       0.727273                    4  \n",
       "23768       0.545455                    4  \n",
       "23769       0.000000                    3  \n",
       "\n",
       "[23770 rows x 6 columns]"
      ]
     },
     "execution_count": 295,
     "metadata": {},
     "output_type": "execute_result"
    }
   ],
   "source": [
    "# With important features\n",
    "x1 = data1[['lead_time', 'avg_price_per_room', 'no_of_special_requests', 'arrival_date','arrival_month','market_segment_type']]\n",
    "x1"
   ]
  },
  {
   "cell_type": "code",
   "execution_count": 296,
   "id": "f6e2843e",
   "metadata": {},
   "outputs": [
    {
     "data": {
      "text/plain": [
       "0        0\n",
       "1        0\n",
       "2        0\n",
       "3        0\n",
       "4        0\n",
       "        ..\n",
       "23765    1\n",
       "23766    1\n",
       "23767    1\n",
       "23768    1\n",
       "23769    1\n",
       "Name: booking_status, Length: 23770, dtype: int8"
      ]
     },
     "execution_count": 296,
     "metadata": {},
     "output_type": "execute_result"
    }
   ],
   "source": [
    "y1 = data1['booking_status']\n",
    "y1"
   ]
  },
  {
   "cell_type": "code",
   "execution_count": 297,
   "id": "d90f8a04",
   "metadata": {},
   "outputs": [],
   "source": [
    "x_train1, x_test1, y_train1, y_test1 = train_test_split(x1, y1, test_size = .2, random_state = 6)"
   ]
  },
  {
   "cell_type": "code",
   "execution_count": 298,
   "id": "96f22578",
   "metadata": {},
   "outputs": [
    {
     "data": {
      "text/plain": [
       "(19016, 6)"
      ]
     },
     "execution_count": 298,
     "metadata": {},
     "output_type": "execute_result"
    }
   ],
   "source": [
    "x_train1.shape"
   ]
  },
  {
   "cell_type": "code",
   "execution_count": 299,
   "id": "b2bee7d5",
   "metadata": {},
   "outputs": [
    {
     "data": {
      "text/plain": [
       "(4754, 6)"
      ]
     },
     "execution_count": 299,
     "metadata": {},
     "output_type": "execute_result"
    }
   ],
   "source": [
    "x_test1.shape"
   ]
  },
  {
   "cell_type": "code",
   "execution_count": 300,
   "id": "6271b9ae",
   "metadata": {},
   "outputs": [
    {
     "data": {
      "text/plain": [
       "(19016,)"
      ]
     },
     "execution_count": 300,
     "metadata": {},
     "output_type": "execute_result"
    }
   ],
   "source": [
    "y_train1.shape"
   ]
  },
  {
   "cell_type": "code",
   "execution_count": 301,
   "id": "5fdff9a2",
   "metadata": {},
   "outputs": [
    {
     "data": {
      "text/plain": [
       "(4754,)"
      ]
     },
     "execution_count": 301,
     "metadata": {},
     "output_type": "execute_result"
    }
   ],
   "source": [
    "y_test1.shape"
   ]
  },
  {
   "cell_type": "code",
   "execution_count": 302,
   "id": "10a3ab42",
   "metadata": {},
   "outputs": [],
   "source": [
    "LR_Model_imp = Logi_Reg.fit(x_train1, y_train1)"
   ]
  },
  {
   "cell_type": "code",
   "execution_count": 303,
   "id": "fc19512d",
   "metadata": {},
   "outputs": [
    {
     "data": {
      "text/plain": [
       "array([1, 1, 1, ..., 1, 1, 1], dtype=int8)"
      ]
     },
     "execution_count": 303,
     "metadata": {},
     "output_type": "execute_result"
    }
   ],
   "source": [
    "Logi_Pred_imp = LR_Model_imp.predict(x_test1)\n",
    "Logi_Pred_imp"
   ]
  },
  {
   "cell_type": "code",
   "execution_count": 304,
   "id": "320e348f",
   "metadata": {},
   "outputs": [
    {
     "data": {
      "text/html": [
       "<div>\n",
       "<style scoped>\n",
       "    .dataframe tbody tr th:only-of-type {\n",
       "        vertical-align: middle;\n",
       "    }\n",
       "\n",
       "    .dataframe tbody tr th {\n",
       "        vertical-align: top;\n",
       "    }\n",
       "\n",
       "    .dataframe thead th {\n",
       "        text-align: right;\n",
       "    }\n",
       "</style>\n",
       "<table border=\"1\" class=\"dataframe\">\n",
       "  <thead>\n",
       "    <tr style=\"text-align: right;\">\n",
       "      <th>Predicted</th>\n",
       "      <th>0</th>\n",
       "      <th>1</th>\n",
       "      <th>All</th>\n",
       "    </tr>\n",
       "    <tr>\n",
       "      <th>Actual</th>\n",
       "      <th></th>\n",
       "      <th></th>\n",
       "      <th></th>\n",
       "    </tr>\n",
       "  </thead>\n",
       "  <tbody>\n",
       "    <tr>\n",
       "      <th>0</th>\n",
       "      <td>1828</td>\n",
       "      <td>562</td>\n",
       "      <td>2390</td>\n",
       "    </tr>\n",
       "    <tr>\n",
       "      <th>1</th>\n",
       "      <td>512</td>\n",
       "      <td>1852</td>\n",
       "      <td>2364</td>\n",
       "    </tr>\n",
       "    <tr>\n",
       "      <th>All</th>\n",
       "      <td>2340</td>\n",
       "      <td>2414</td>\n",
       "      <td>4754</td>\n",
       "    </tr>\n",
       "  </tbody>\n",
       "</table>\n",
       "</div>"
      ],
      "text/plain": [
       "Predicted     0     1   All\n",
       "Actual                     \n",
       "0          1828   562  2390\n",
       "1           512  1852  2364\n",
       "All        2340  2414  4754"
      ]
     },
     "execution_count": 304,
     "metadata": {},
     "output_type": "execute_result"
    }
   ],
   "source": [
    "# confusion_matrix\n",
    "pd.crosstab(y_test1, Logi_Pred_imp, rownames = ['Actual'], colnames = ['Predicted'], margins = True)"
   ]
  },
  {
   "cell_type": "code",
   "execution_count": 305,
   "id": "0c26a749",
   "metadata": {},
   "outputs": [
    {
     "data": {
      "text/plain": [
       "array([[1828,  562],\n",
       "       [ 512, 1852]], dtype=int64)"
      ]
     },
     "execution_count": 305,
     "metadata": {},
     "output_type": "execute_result"
    }
   ],
   "source": [
    "confusion_matrix(y_test1, Logi_Pred_imp)"
   ]
  },
  {
   "cell_type": "code",
   "execution_count": 306,
   "id": "a8929f84",
   "metadata": {},
   "outputs": [
    {
     "name": "stdout",
     "output_type": "stream",
     "text": [
      "              precision    recall  f1-score   support\n",
      "\n",
      "           0       0.78      0.76      0.77      2390\n",
      "           1       0.77      0.78      0.78      2364\n",
      "\n",
      "    accuracy                           0.77      4754\n",
      "   macro avg       0.77      0.77      0.77      4754\n",
      "weighted avg       0.77      0.77      0.77      4754\n",
      "\n"
     ]
    }
   ],
   "source": [
    "# classification_report\n",
    "print(classification_report(y_test1, Logi_Pred_imp))"
   ]
  },
  {
   "cell_type": "code",
   "execution_count": 307,
   "id": "8f5fdfb7",
   "metadata": {},
   "outputs": [
    {
     "data": {
      "text/plain": [
       "0.7740849810685738"
      ]
     },
     "execution_count": 307,
     "metadata": {},
     "output_type": "execute_result"
    }
   ],
   "source": [
    "# accuracy_score\n",
    "Logi_accuracy_imp = accuracy_score(y_test1, Logi_Pred_imp)\n",
    "Logi_accuracy_imp"
   ]
  },
  {
   "cell_type": "code",
   "execution_count": 308,
   "id": "11ca28b7",
   "metadata": {},
   "outputs": [],
   "source": [
    "# f1_score\n",
    "from sklearn.metrics import f1_score"
   ]
  },
  {
   "cell_type": "code",
   "execution_count": 309,
   "id": "07b11793",
   "metadata": {},
   "outputs": [],
   "source": [
    "# define array of actual classes\n",
    "actual1 = np.repeat([1, 0], repeats = [2390, 2364])"
   ]
  },
  {
   "cell_type": "code",
   "execution_count": 310,
   "id": "9eecc202",
   "metadata": {},
   "outputs": [],
   "source": [
    "# define array of predicted classes\n",
    "pred1 = np.repeat([1, 0, 1, 0], repeats = [1828, 562, 512, 1852])"
   ]
  },
  {
   "cell_type": "code",
   "execution_count": 311,
   "id": "58e51b9c",
   "metadata": {},
   "outputs": [
    {
     "data": {
      "text/plain": [
       "0.772938689217759"
      ]
     },
     "execution_count": 311,
     "metadata": {},
     "output_type": "execute_result"
    }
   ],
   "source": [
    "# calculate F1 score\n",
    "f1_score(actual1, pred1)"
   ]
  },
  {
   "cell_type": "code",
   "execution_count": 312,
   "id": "71e0588c",
   "metadata": {},
   "outputs": [],
   "source": [
    "# AUC\n",
    "y_predict1 = LR_Model_imp.predict_proba(x1)\n",
    "y_predict1[:, 1]\n",
    "plt.show()"
   ]
  },
  {
   "cell_type": "code",
   "execution_count": 313,
   "id": "de0ab052",
   "metadata": {},
   "outputs": [
    {
     "name": "stdout",
     "output_type": "stream",
     "text": [
      "AUC Score :  0.852\n"
     ]
    }
   ],
   "source": [
    "# ROC Curve - Receiver Operating Characteristic curve\n",
    "# threshold\n",
    "# tpr = True Positive Rate\n",
    "# fpr = False Positive Rate\n",
    "fpr, tpr, thresholds = roc_curve(y1, y_predict1[:, 1])\n",
    "roc_auc = auc(fpr, tpr)\n",
    "print('AUC Score : ', round(roc_auc, 3))"
   ]
  },
  {
   "cell_type": "code",
   "execution_count": 314,
   "id": "068d82f2",
   "metadata": {},
   "outputs": [
    {
     "data": {
      "image/png": "[encoded data removed]",
      "text/plain": [
       "<Figure size 432x288 with 1 Axes>"
      ]
     },
     "metadata": {
      "needs_background": "light"
     },
     "output_type": "display_data"
    }
   ],
   "source": [
    "# ROC Curve\n",
    "plt.xlabel('False Positive Rate (1 - Specificity)')\n",
    "plt.ylabel('True Positive Rate (Sensitivity)')\n",
    "plt.title('ROC (Receiver Operating Characteristic) curve')\n",
    "plt.plot([0, 1], [0, 1], 'r--')\n",
    "plt.xlim([0, 1])\n",
    "plt.ylim([0, 1])\n",
    "plt.plot(fpr, tpr, label = 'AUC =' + str(roc_auc), lw = 6)\n",
    "plt.legend(loc = 4)\n",
    "plt.show()"
   ]
  },
  {
   "cell_type": "markdown",
   "id": "9f82341b",
   "metadata": {},
   "source": [
    "Adaboost"
   ]
  },
  {
   "cell_type": "code",
   "execution_count": 315,
   "id": "d9b155b8",
   "metadata": {},
   "outputs": [],
   "source": [
    "x = data1.drop(['booking_status'], axis = 1)"
   ]
  },
  {
   "cell_type": "code",
   "execution_count": 316,
   "id": "2ad625ae",
   "metadata": {},
   "outputs": [
    {
     "data": {
      "text/html": [
       "<div>\n",
       "<style scoped>\n",
       "    .dataframe tbody tr th:only-of-type {\n",
       "        vertical-align: middle;\n",
       "    }\n",
       "\n",
       "    .dataframe tbody tr th {\n",
       "        vertical-align: top;\n",
       "    }\n",
       "\n",
       "    .dataframe thead th {\n",
       "        text-align: right;\n",
       "    }\n",
       "</style>\n",
       "<table border=\"1\" class=\"dataframe\">\n",
       "  <thead>\n",
       "    <tr style=\"text-align: right;\">\n",
       "      <th></th>\n",
       "      <th>lead_time</th>\n",
       "      <th>arrival_year</th>\n",
       "      <th>arrival_month</th>\n",
       "      <th>arrival_date</th>\n",
       "      <th>avg_price_per_room</th>\n",
       "      <th>no_of_adults</th>\n",
       "      <th>no_of_children</th>\n",
       "      <th>no_of_weekend_nights</th>\n",
       "      <th>no_of_week_nights</th>\n",
       "      <th>type_of_meal_plan</th>\n",
       "      <th>required_car_parking_space</th>\n",
       "      <th>room_type_reserved</th>\n",
       "      <th>market_segment_type</th>\n",
       "      <th>repeated_guest</th>\n",
       "      <th>no_of_previous_cancellations</th>\n",
       "      <th>no_of_previous_bookings_not_canceled</th>\n",
       "      <th>no_of_special_requests</th>\n",
       "    </tr>\n",
       "  </thead>\n",
       "  <tbody>\n",
       "    <tr>\n",
       "      <th>0</th>\n",
       "      <td>0.003454</td>\n",
       "      <td>1.0</td>\n",
       "      <td>0.090909</td>\n",
       "      <td>0.900000</td>\n",
       "      <td>0.247166</td>\n",
       "      <td>1</td>\n",
       "      <td>0</td>\n",
       "      <td>2</td>\n",
       "      <td>1</td>\n",
       "      <td>1</td>\n",
       "      <td>0</td>\n",
       "      <td>0</td>\n",
       "      <td>4</td>\n",
       "      <td>0</td>\n",
       "      <td>0</td>\n",
       "      <td>0</td>\n",
       "      <td>0</td>\n",
       "    </tr>\n",
       "    <tr>\n",
       "      <th>1</th>\n",
       "      <td>0.728843</td>\n",
       "      <td>1.0</td>\n",
       "      <td>0.363636</td>\n",
       "      <td>0.633333</td>\n",
       "      <td>0.499055</td>\n",
       "      <td>2</td>\n",
       "      <td>0</td>\n",
       "      <td>0</td>\n",
       "      <td>2</td>\n",
       "      <td>1</td>\n",
       "      <td>0</td>\n",
       "      <td>0</td>\n",
       "      <td>4</td>\n",
       "      <td>0</td>\n",
       "      <td>0</td>\n",
       "      <td>0</td>\n",
       "      <td>0</td>\n",
       "    </tr>\n",
       "    <tr>\n",
       "      <th>2</th>\n",
       "      <td>0.165803</td>\n",
       "      <td>1.0</td>\n",
       "      <td>0.272727</td>\n",
       "      <td>0.333333</td>\n",
       "      <td>0.464421</td>\n",
       "      <td>2</td>\n",
       "      <td>0</td>\n",
       "      <td>1</td>\n",
       "      <td>1</td>\n",
       "      <td>0</td>\n",
       "      <td>0</td>\n",
       "      <td>0</td>\n",
       "      <td>4</td>\n",
       "      <td>0</td>\n",
       "      <td>0</td>\n",
       "      <td>0</td>\n",
       "      <td>0</td>\n",
       "    </tr>\n",
       "    <tr>\n",
       "      <th>3</th>\n",
       "      <td>1.000000</td>\n",
       "      <td>1.0</td>\n",
       "      <td>0.727273</td>\n",
       "      <td>0.400000</td>\n",
       "      <td>0.593514</td>\n",
       "      <td>2</td>\n",
       "      <td>0</td>\n",
       "      <td>0</td>\n",
       "      <td>2</td>\n",
       "      <td>2</td>\n",
       "      <td>0</td>\n",
       "      <td>0</td>\n",
       "      <td>4</td>\n",
       "      <td>0</td>\n",
       "      <td>0</td>\n",
       "      <td>0</td>\n",
       "      <td>1</td>\n",
       "    </tr>\n",
       "    <tr>\n",
       "      <th>4</th>\n",
       "      <td>0.103627</td>\n",
       "      <td>1.0</td>\n",
       "      <td>0.909091</td>\n",
       "      <td>0.833333</td>\n",
       "      <td>0.423489</td>\n",
       "      <td>2</td>\n",
       "      <td>0</td>\n",
       "      <td>2</td>\n",
       "      <td>1</td>\n",
       "      <td>0</td>\n",
       "      <td>0</td>\n",
       "      <td>0</td>\n",
       "      <td>4</td>\n",
       "      <td>0</td>\n",
       "      <td>0</td>\n",
       "      <td>0</td>\n",
       "      <td>0</td>\n",
       "    </tr>\n",
       "    <tr>\n",
       "      <th>...</th>\n",
       "      <td>...</td>\n",
       "      <td>...</td>\n",
       "      <td>...</td>\n",
       "      <td>...</td>\n",
       "      <td>...</td>\n",
       "      <td>...</td>\n",
       "      <td>...</td>\n",
       "      <td>...</td>\n",
       "      <td>...</td>\n",
       "      <td>...</td>\n",
       "      <td>...</td>\n",
       "      <td>...</td>\n",
       "      <td>...</td>\n",
       "      <td>...</td>\n",
       "      <td>...</td>\n",
       "      <td>...</td>\n",
       "      <td>...</td>\n",
       "    </tr>\n",
       "    <tr>\n",
       "      <th>23765</th>\n",
       "      <td>0.000000</td>\n",
       "      <td>1.0</td>\n",
       "      <td>0.454545</td>\n",
       "      <td>0.666667</td>\n",
       "      <td>0.681675</td>\n",
       "      <td>1</td>\n",
       "      <td>0</td>\n",
       "      <td>0</td>\n",
       "      <td>2</td>\n",
       "      <td>0</td>\n",
       "      <td>0</td>\n",
       "      <td>0</td>\n",
       "      <td>4</td>\n",
       "      <td>0</td>\n",
       "      <td>0</td>\n",
       "      <td>0</td>\n",
       "      <td>1</td>\n",
       "    </tr>\n",
       "    <tr>\n",
       "      <th>23766</th>\n",
       "      <td>0.041451</td>\n",
       "      <td>1.0</td>\n",
       "      <td>0.090909</td>\n",
       "      <td>0.500000</td>\n",
       "      <td>0.291247</td>\n",
       "      <td>1</td>\n",
       "      <td>0</td>\n",
       "      <td>0</td>\n",
       "      <td>2</td>\n",
       "      <td>1</td>\n",
       "      <td>1</td>\n",
       "      <td>0</td>\n",
       "      <td>2</td>\n",
       "      <td>1</td>\n",
       "      <td>0</td>\n",
       "      <td>4</td>\n",
       "      <td>1</td>\n",
       "    </tr>\n",
       "    <tr>\n",
       "      <th>23767</th>\n",
       "      <td>0.518135</td>\n",
       "      <td>1.0</td>\n",
       "      <td>0.727273</td>\n",
       "      <td>0.566667</td>\n",
       "      <td>0.443136</td>\n",
       "      <td>2</td>\n",
       "      <td>1</td>\n",
       "      <td>2</td>\n",
       "      <td>5</td>\n",
       "      <td>1</td>\n",
       "      <td>0</td>\n",
       "      <td>0</td>\n",
       "      <td>4</td>\n",
       "      <td>0</td>\n",
       "      <td>0</td>\n",
       "      <td>0</td>\n",
       "      <td>0</td>\n",
       "    </tr>\n",
       "    <tr>\n",
       "      <th>23768</th>\n",
       "      <td>0.348877</td>\n",
       "      <td>1.0</td>\n",
       "      <td>0.545455</td>\n",
       "      <td>0.466667</td>\n",
       "      <td>0.464421</td>\n",
       "      <td>2</td>\n",
       "      <td>0</td>\n",
       "      <td>0</td>\n",
       "      <td>1</td>\n",
       "      <td>0</td>\n",
       "      <td>0</td>\n",
       "      <td>0</td>\n",
       "      <td>4</td>\n",
       "      <td>0</td>\n",
       "      <td>0</td>\n",
       "      <td>0</td>\n",
       "      <td>2</td>\n",
       "    </tr>\n",
       "    <tr>\n",
       "      <th>23769</th>\n",
       "      <td>0.000000</td>\n",
       "      <td>1.0</td>\n",
       "      <td>0.000000</td>\n",
       "      <td>0.566667</td>\n",
       "      <td>0.275504</td>\n",
       "      <td>1</td>\n",
       "      <td>0</td>\n",
       "      <td>1</td>\n",
       "      <td>1</td>\n",
       "      <td>1</td>\n",
       "      <td>0</td>\n",
       "      <td>0</td>\n",
       "      <td>3</td>\n",
       "      <td>0</td>\n",
       "      <td>0</td>\n",
       "      <td>0</td>\n",
       "      <td>0</td>\n",
       "    </tr>\n",
       "  </tbody>\n",
       "</table>\n",
       "<p>23770 rows × 17 columns</p>\n",
       "</div>"
      ],
      "text/plain": [
       "       lead_time  arrival_year  arrival_month  arrival_date  \\\n",
       "0       0.003454           1.0       0.090909      0.900000   \n",
       "1       0.728843           1.0       0.363636      0.633333   \n",
       "2       0.165803           1.0       0.272727      0.333333   \n",
       "3       1.000000           1.0       0.727273      0.400000   \n",
       "4       0.103627           1.0       0.909091      0.833333   \n",
       "...          ...           ...            ...           ...   \n",
       "23765   0.000000           1.0       0.454545      0.666667   \n",
       "23766   0.041451           1.0       0.090909      0.500000   \n",
       "23767   0.518135           1.0       0.727273      0.566667   \n",
       "23768   0.348877           1.0       0.545455      0.466667   \n",
       "23769   0.000000           1.0       0.000000      0.566667   \n",
       "\n",
       "       avg_price_per_room  no_of_adults  no_of_children  no_of_weekend_nights  \\\n",
       "0                0.247166             1               0                     2   \n",
       "1                0.499055             2               0                     0   \n",
       "2                0.464421             2               0                     1   \n",
       "3                0.593514             2               0                     0   \n",
       "4                0.423489             2               0                     2   \n",
       "...                   ...           ...             ...                   ...   \n",
       "23765            0.681675             1               0                     0   \n",
       "23766            0.291247             1               0                     0   \n",
       "23767            0.443136             2               1                     2   \n",
       "23768            0.464421             2               0                     0   \n",
       "23769            0.275504             1               0                     1   \n",
       "\n",
       "       no_of_week_nights  type_of_meal_plan  required_car_parking_space  \\\n",
       "0                      1                  1                           0   \n",
       "1                      2                  1                           0   \n",
       "2                      1                  0                           0   \n",
       "3                      2                  2                           0   \n",
       "4                      1                  0                           0   \n",
       "...                  ...                ...                         ...   \n",
       "23765                  2                  0                           0   \n",
       "23766                  2                  1                           1   \n",
       "23767                  5                  1                           0   \n",
       "23768                  1                  0                           0   \n",
       "23769                  1                  1                           0   \n",
       "\n",
       "       room_type_reserved  market_segment_type  repeated_guest  \\\n",
       "0                       0                    4               0   \n",
       "1                       0                    4               0   \n",
       "2                       0                    4               0   \n",
       "3                       0                    4               0   \n",
       "4                       0                    4               0   \n",
       "...                   ...                  ...             ...   \n",
       "23765                   0                    4               0   \n",
       "23766                   0                    2               1   \n",
       "23767                   0                    4               0   \n",
       "23768                   0                    4               0   \n",
       "23769                   0                    3               0   \n",
       "\n",
       "       no_of_previous_cancellations  no_of_previous_bookings_not_canceled  \\\n",
       "0                                 0                                     0   \n",
       "1                                 0                                     0   \n",
       "2                                 0                                     0   \n",
       "3                                 0                                     0   \n",
       "4                                 0                                     0   \n",
       "...                             ...                                   ...   \n",
       "23765                             0                                     0   \n",
       "23766                             0                                     4   \n",
       "23767                             0                                     0   \n",
       "23768                             0                                     0   \n",
       "23769                             0                                     0   \n",
       "\n",
       "       no_of_special_requests  \n",
       "0                           0  \n",
       "1                           0  \n",
       "2                           0  \n",
       "3                           1  \n",
       "4                           0  \n",
       "...                       ...  \n",
       "23765                       1  \n",
       "23766                       1  \n",
       "23767                       0  \n",
       "23768                       2  \n",
       "23769                       0  \n",
       "\n",
       "[23770 rows x 17 columns]"
      ]
     },
     "execution_count": 316,
     "metadata": {},
     "output_type": "execute_result"
    }
   ],
   "source": [
    "x"
   ]
  },
  {
   "cell_type": "code",
   "execution_count": 317,
   "id": "0ef8fd95",
   "metadata": {},
   "outputs": [],
   "source": [
    "y = data1['booking_status']"
   ]
  },
  {
   "cell_type": "code",
   "execution_count": 318,
   "id": "d7bd2921",
   "metadata": {},
   "outputs": [
    {
     "data": {
      "text/plain": [
       "0        0\n",
       "1        0\n",
       "2        0\n",
       "3        0\n",
       "4        0\n",
       "        ..\n",
       "23765    1\n",
       "23766    1\n",
       "23767    1\n",
       "23768    1\n",
       "23769    1\n",
       "Name: booking_status, Length: 23770, dtype: int8"
      ]
     },
     "execution_count": 318,
     "metadata": {},
     "output_type": "execute_result"
    }
   ],
   "source": [
    "y"
   ]
  },
  {
   "cell_type": "code",
   "execution_count": 319,
   "id": "2ce776f5",
   "metadata": {},
   "outputs": [],
   "source": [
    "x_train, x_test, y_train, y_test = train_test_split(x, y, test_size = .25, random_state = 6)\n"
   ]
  },
  {
   "cell_type": "code",
   "execution_count": 320,
   "id": "6f81caca",
   "metadata": {},
   "outputs": [
    {
     "data": {
      "text/plain": [
       "(17827, 17)"
      ]
     },
     "execution_count": 320,
     "metadata": {},
     "output_type": "execute_result"
    }
   ],
   "source": [
    "x_train.shape"
   ]
  },
  {
   "cell_type": "code",
   "execution_count": 321,
   "id": "c887d09b",
   "metadata": {},
   "outputs": [
    {
     "data": {
      "text/plain": [
       "(5943, 17)"
      ]
     },
     "execution_count": 321,
     "metadata": {},
     "output_type": "execute_result"
    }
   ],
   "source": [
    "x_test.shape"
   ]
  },
  {
   "cell_type": "code",
   "execution_count": 322,
   "id": "de77a39e",
   "metadata": {},
   "outputs": [
    {
     "data": {
      "text/plain": [
       "(17827,)"
      ]
     },
     "execution_count": 322,
     "metadata": {},
     "output_type": "execute_result"
    }
   ],
   "source": [
    "y_train.shape"
   ]
  },
  {
   "cell_type": "code",
   "execution_count": 323,
   "id": "738f47fb",
   "metadata": {},
   "outputs": [
    {
     "data": {
      "text/plain": [
       "(5943,)"
      ]
     },
     "execution_count": 323,
     "metadata": {},
     "output_type": "execute_result"
    }
   ],
   "source": [
    "y_test.shape"
   ]
  },
  {
   "cell_type": "code",
   "execution_count": 324,
   "id": "47b7dc36",
   "metadata": {},
   "outputs": [],
   "source": [
    "from sklearn.ensemble import AdaBoostClassifier\n",
    "Ada = AdaBoostClassifier()\n"
   ]
  },
  {
   "cell_type": "code",
   "execution_count": 325,
   "id": "7706670e",
   "metadata": {},
   "outputs": [],
   "source": [
    "Ada_Model = Ada.fit(x_train, y_train)"
   ]
  },
  {
   "cell_type": "code",
   "execution_count": 326,
   "id": "d7c88f31",
   "metadata": {},
   "outputs": [],
   "source": [
    "Ada_Pred = Ada_Model.predict(x_test)"
   ]
  },
  {
   "cell_type": "code",
   "execution_count": 327,
   "id": "7b48c29f",
   "metadata": {},
   "outputs": [
    {
     "data": {
      "text/plain": [
       "array([1, 1, 0, ..., 1, 0, 0], dtype=int8)"
      ]
     },
     "execution_count": 327,
     "metadata": {},
     "output_type": "execute_result"
    }
   ],
   "source": [
    "Ada_Pred"
   ]
  },
  {
   "cell_type": "code",
   "execution_count": 328,
   "id": "64563773",
   "metadata": {},
   "outputs": [
    {
     "data": {
      "text/html": [
       "<div>\n",
       "<style scoped>\n",
       "    .dataframe tbody tr th:only-of-type {\n",
       "        vertical-align: middle;\n",
       "    }\n",
       "\n",
       "    .dataframe tbody tr th {\n",
       "        vertical-align: top;\n",
       "    }\n",
       "\n",
       "    .dataframe thead th {\n",
       "        text-align: right;\n",
       "    }\n",
       "</style>\n",
       "<table border=\"1\" class=\"dataframe\">\n",
       "  <thead>\n",
       "    <tr style=\"text-align: right;\">\n",
       "      <th>Predicted</th>\n",
       "      <th>0</th>\n",
       "      <th>1</th>\n",
       "      <th>All</th>\n",
       "    </tr>\n",
       "    <tr>\n",
       "      <th>Actual</th>\n",
       "      <th></th>\n",
       "      <th></th>\n",
       "      <th></th>\n",
       "    </tr>\n",
       "  </thead>\n",
       "  <tbody>\n",
       "    <tr>\n",
       "      <th>0</th>\n",
       "      <td>2357</td>\n",
       "      <td>612</td>\n",
       "      <td>2969</td>\n",
       "    </tr>\n",
       "    <tr>\n",
       "      <th>1</th>\n",
       "      <td>590</td>\n",
       "      <td>2384</td>\n",
       "      <td>2974</td>\n",
       "    </tr>\n",
       "    <tr>\n",
       "      <th>All</th>\n",
       "      <td>2947</td>\n",
       "      <td>2996</td>\n",
       "      <td>5943</td>\n",
       "    </tr>\n",
       "  </tbody>\n",
       "</table>\n",
       "</div>"
      ],
      "text/plain": [
       "Predicted     0     1   All\n",
       "Actual                     \n",
       "0          2357   612  2969\n",
       "1           590  2384  2974\n",
       "All        2947  2996  5943"
      ]
     },
     "execution_count": 328,
     "metadata": {},
     "output_type": "execute_result"
    }
   ],
   "source": [
    "# confusion_matrix\n",
    "\n",
    "pd.crosstab(y_test, Ada_Pred, rownames = ['Actual'], colnames = ['Predicted'], margins = True)"
   ]
  },
  {
   "cell_type": "code",
   "execution_count": 329,
   "id": "00fbc1e1",
   "metadata": {},
   "outputs": [
    {
     "data": {
      "text/plain": [
       "array([[2357,  612],\n",
       "       [ 590, 2384]], dtype=int64)"
      ]
     },
     "execution_count": 329,
     "metadata": {},
     "output_type": "execute_result"
    }
   ],
   "source": [
    "confusion_matrix(y_test, Ada_Pred)"
   ]
  },
  {
   "cell_type": "code",
   "execution_count": 330,
   "id": "81e7dda9",
   "metadata": {},
   "outputs": [
    {
     "name": "stdout",
     "output_type": "stream",
     "text": [
      "              precision    recall  f1-score   support\n",
      "\n",
      "           0       0.80      0.79      0.80      2969\n",
      "           1       0.80      0.80      0.80      2974\n",
      "\n",
      "    accuracy                           0.80      5943\n",
      "   macro avg       0.80      0.80      0.80      5943\n",
      "weighted avg       0.80      0.80      0.80      5943\n",
      "\n"
     ]
    }
   ],
   "source": [
    "# classification_report\n",
    "print(classification_report(y_test, Ada_Pred))"
   ]
  },
  {
   "cell_type": "code",
   "execution_count": 331,
   "id": "3057ac55",
   "metadata": {},
   "outputs": [
    {
     "data": {
      "text/plain": [
       "0.7977452465084974"
      ]
     },
     "execution_count": 331,
     "metadata": {},
     "output_type": "execute_result"
    }
   ],
   "source": [
    "# accuracy_score\n",
    "Ada_accuracy = accuracy_score(y_test, Ada_Pred)\n",
    "Ada_accuracy"
   ]
  },
  {
   "cell_type": "code",
   "execution_count": 332,
   "id": "cae4757e",
   "metadata": {},
   "outputs": [],
   "source": [
    "# f1_score\n",
    "from sklearn.metrics import f1_score"
   ]
  },
  {
   "cell_type": "code",
   "execution_count": 333,
   "id": "c2a41250",
   "metadata": {},
   "outputs": [],
   "source": [
    "# define array of actual classes\n",
    "actual = np.repeat([1, 0], repeats = [2969, 2974])"
   ]
  },
  {
   "cell_type": "code",
   "execution_count": 334,
   "id": "c54a9262",
   "metadata": {},
   "outputs": [],
   "source": [
    "# define array of predicted classes\n",
    "pred = np.repeat([1, 0, 1, 0], repeats = [2357, 612, 590, 2384])"
   ]
  },
  {
   "cell_type": "code",
   "execution_count": 335,
   "id": "537b60bf",
   "metadata": {},
   "outputs": [
    {
     "data": {
      "text/plain": [
       "0.7968221771467208"
      ]
     },
     "execution_count": 335,
     "metadata": {},
     "output_type": "execute_result"
    }
   ],
   "source": [
    "# claculate F1 score\n",
    "f1_score(actual, pred)"
   ]
  },
  {
   "cell_type": "code",
   "execution_count": 336,
   "id": "f37a1e30",
   "metadata": {},
   "outputs": [],
   "source": [
    "# AUC\n",
    "y_predict = Ada_Model.predict_proba(x)\n",
    "y_predict[:, 1]\n",
    "plt.show()"
   ]
  },
  {
   "cell_type": "code",
   "execution_count": 337,
   "id": "f42be336",
   "metadata": {},
   "outputs": [
    {
     "name": "stdout",
     "output_type": "stream",
     "text": [
      "AUC Score :  0.882\n"
     ]
    }
   ],
   "source": [
    "# ROC Curve - Receiver Operating Characteristic curve\n",
    "# threshold\n",
    "# tpr = True Positive Rate\n",
    "# fpr = False Positive Rate\n",
    "fpr, tpr, thresholds = roc_curve(y, y_predict[:, 1])\n",
    "roc_auc = auc(fpr, tpr)\n",
    "print('AUC Score : ', round(roc_auc, 3))"
   ]
  },
  {
   "cell_type": "code",
   "execution_count": 338,
   "id": "c226b3a9",
   "metadata": {},
   "outputs": [
    {
     "data": {
      "image/png": "[encoded data removed]",
      "text/plain": [
       "<Figure size 432x288 with 1 Axes>"
      ]
     },
     "metadata": {
      "needs_background": "light"
     },
     "output_type": "display_data"
    }
   ],
   "source": [
    "# ROC Curve\n",
    "plt.xlabel('False Positive Rate (1 - Specificity)')\n",
    "plt.ylabel('True Positive Rate (Sensitivity)')\n",
    "plt.title('ROC (Receiver Operating Characteristic) curve')\n",
    "plt.plot([0, 1], [0, 1], 'r--')\n",
    "plt.xlim([0, 1])\n",
    "plt.ylim([0, 1])\n",
    "plt.plot(fpr, tpr, label = 'AUC =' + str(roc_auc), lw = 6)\n",
    "plt.legend(loc = 4)\n",
    "plt.show()"
   ]
  },
  {
   "cell_type": "code",
   "execution_count": 339,
   "id": "ed041681",
   "metadata": {},
   "outputs": [],
   "source": [
    "# With important features\n",
    "x1 = data1[['lead_time', 'avg_price_per_room', 'no_of_special_requests', 'arrival_date','arrival_month','market_segment_type']]\n"
   ]
  },
  {
   "cell_type": "code",
   "execution_count": 340,
   "id": "d6a4070c",
   "metadata": {},
   "outputs": [
    {
     "data": {
      "text/html": [
       "<div>\n",
       "<style scoped>\n",
       "    .dataframe tbody tr th:only-of-type {\n",
       "        vertical-align: middle;\n",
       "    }\n",
       "\n",
       "    .dataframe tbody tr th {\n",
       "        vertical-align: top;\n",
       "    }\n",
       "\n",
       "    .dataframe thead th {\n",
       "        text-align: right;\n",
       "    }\n",
       "</style>\n",
       "<table border=\"1\" class=\"dataframe\">\n",
       "  <thead>\n",
       "    <tr style=\"text-align: right;\">\n",
       "      <th></th>\n",
       "      <th>lead_time</th>\n",
       "      <th>avg_price_per_room</th>\n",
       "      <th>no_of_special_requests</th>\n",
       "      <th>arrival_date</th>\n",
       "      <th>arrival_month</th>\n",
       "      <th>market_segment_type</th>\n",
       "    </tr>\n",
       "  </thead>\n",
       "  <tbody>\n",
       "    <tr>\n",
       "      <th>0</th>\n",
       "      <td>0.003454</td>\n",
       "      <td>0.247166</td>\n",
       "      <td>0</td>\n",
       "      <td>0.900000</td>\n",
       "      <td>0.090909</td>\n",
       "      <td>4</td>\n",
       "    </tr>\n",
       "    <tr>\n",
       "      <th>1</th>\n",
       "      <td>0.728843</td>\n",
       "      <td>0.499055</td>\n",
       "      <td>0</td>\n",
       "      <td>0.633333</td>\n",
       "      <td>0.363636</td>\n",
       "      <td>4</td>\n",
       "    </tr>\n",
       "    <tr>\n",
       "      <th>2</th>\n",
       "      <td>0.165803</td>\n",
       "      <td>0.464421</td>\n",
       "      <td>0</td>\n",
       "      <td>0.333333</td>\n",
       "      <td>0.272727</td>\n",
       "      <td>4</td>\n",
       "    </tr>\n",
       "    <tr>\n",
       "      <th>3</th>\n",
       "      <td>1.000000</td>\n",
       "      <td>0.593514</td>\n",
       "      <td>1</td>\n",
       "      <td>0.400000</td>\n",
       "      <td>0.727273</td>\n",
       "      <td>4</td>\n",
       "    </tr>\n",
       "    <tr>\n",
       "      <th>4</th>\n",
       "      <td>0.103627</td>\n",
       "      <td>0.423489</td>\n",
       "      <td>0</td>\n",
       "      <td>0.833333</td>\n",
       "      <td>0.909091</td>\n",
       "      <td>4</td>\n",
       "    </tr>\n",
       "    <tr>\n",
       "      <th>...</th>\n",
       "      <td>...</td>\n",
       "      <td>...</td>\n",
       "      <td>...</td>\n",
       "      <td>...</td>\n",
       "      <td>...</td>\n",
       "      <td>...</td>\n",
       "    </tr>\n",
       "    <tr>\n",
       "      <th>23765</th>\n",
       "      <td>0.000000</td>\n",
       "      <td>0.681675</td>\n",
       "      <td>1</td>\n",
       "      <td>0.666667</td>\n",
       "      <td>0.454545</td>\n",
       "      <td>4</td>\n",
       "    </tr>\n",
       "    <tr>\n",
       "      <th>23766</th>\n",
       "      <td>0.041451</td>\n",
       "      <td>0.291247</td>\n",
       "      <td>1</td>\n",
       "      <td>0.500000</td>\n",
       "      <td>0.090909</td>\n",
       "      <td>2</td>\n",
       "    </tr>\n",
       "    <tr>\n",
       "      <th>23767</th>\n",
       "      <td>0.518135</td>\n",
       "      <td>0.443136</td>\n",
       "      <td>0</td>\n",
       "      <td>0.566667</td>\n",
       "      <td>0.727273</td>\n",
       "      <td>4</td>\n",
       "    </tr>\n",
       "    <tr>\n",
       "      <th>23768</th>\n",
       "      <td>0.348877</td>\n",
       "      <td>0.464421</td>\n",
       "      <td>2</td>\n",
       "      <td>0.466667</td>\n",
       "      <td>0.545455</td>\n",
       "      <td>4</td>\n",
       "    </tr>\n",
       "    <tr>\n",
       "      <th>23769</th>\n",
       "      <td>0.000000</td>\n",
       "      <td>0.275504</td>\n",
       "      <td>0</td>\n",
       "      <td>0.566667</td>\n",
       "      <td>0.000000</td>\n",
       "      <td>3</td>\n",
       "    </tr>\n",
       "  </tbody>\n",
       "</table>\n",
       "<p>23770 rows × 6 columns</p>\n",
       "</div>"
      ],
      "text/plain": [
       "       lead_time  avg_price_per_room  no_of_special_requests  arrival_date  \\\n",
       "0       0.003454            0.247166                       0      0.900000   \n",
       "1       0.728843            0.499055                       0      0.633333   \n",
       "2       0.165803            0.464421                       0      0.333333   \n",
       "3       1.000000            0.593514                       1      0.400000   \n",
       "4       0.103627            0.423489                       0      0.833333   \n",
       "...          ...                 ...                     ...           ...   \n",
       "23765   0.000000            0.681675                       1      0.666667   \n",
       "23766   0.041451            0.291247                       1      0.500000   \n",
       "23767   0.518135            0.443136                       0      0.566667   \n",
       "23768   0.348877            0.464421                       2      0.466667   \n",
       "23769   0.000000            0.275504                       0      0.566667   \n",
       "\n",
       "       arrival_month  market_segment_type  \n",
       "0           0.090909                    4  \n",
       "1           0.363636                    4  \n",
       "2           0.272727                    4  \n",
       "3           0.727273                    4  \n",
       "4           0.909091                    4  \n",
       "...              ...                  ...  \n",
       "23765       0.454545                    4  \n",
       "23766       0.090909                    2  \n",
       "23767       0.727273                    4  \n",
       "23768       0.545455                    4  \n",
       "23769       0.000000                    3  \n",
       "\n",
       "[23770 rows x 6 columns]"
      ]
     },
     "execution_count": 340,
     "metadata": {},
     "output_type": "execute_result"
    }
   ],
   "source": [
    "x1"
   ]
  },
  {
   "cell_type": "code",
   "execution_count": 341,
   "id": "7ae61f6f",
   "metadata": {},
   "outputs": [],
   "source": [
    "y1 = data1['booking_status']\n"
   ]
  },
  {
   "cell_type": "code",
   "execution_count": 342,
   "id": "384fcdda",
   "metadata": {},
   "outputs": [
    {
     "data": {
      "text/plain": [
       "0        0\n",
       "1        0\n",
       "2        0\n",
       "3        0\n",
       "4        0\n",
       "        ..\n",
       "23765    1\n",
       "23766    1\n",
       "23767    1\n",
       "23768    1\n",
       "23769    1\n",
       "Name: booking_status, Length: 23770, dtype: int8"
      ]
     },
     "execution_count": 342,
     "metadata": {},
     "output_type": "execute_result"
    }
   ],
   "source": [
    "y1"
   ]
  },
  {
   "cell_type": "code",
   "execution_count": 343,
   "id": "3e24d7c0",
   "metadata": {},
   "outputs": [],
   "source": [
    "x_train1, x_test1, y_train1, y_test1 = train_test_split(x1, y1, test_size = .25, random_state = 6)"
   ]
  },
  {
   "cell_type": "code",
   "execution_count": 344,
   "id": "1233a87d",
   "metadata": {},
   "outputs": [
    {
     "data": {
      "text/plain": [
       "(17827, 6)"
      ]
     },
     "execution_count": 344,
     "metadata": {},
     "output_type": "execute_result"
    }
   ],
   "source": [
    "x_train1.shape\n"
   ]
  },
  {
   "cell_type": "code",
   "execution_count": 345,
   "id": "ab31a91a",
   "metadata": {},
   "outputs": [
    {
     "data": {
      "text/plain": [
       "(5943, 6)"
      ]
     },
     "execution_count": 345,
     "metadata": {},
     "output_type": "execute_result"
    }
   ],
   "source": [
    "x_test1.shape"
   ]
  },
  {
   "cell_type": "code",
   "execution_count": 346,
   "id": "034da140",
   "metadata": {},
   "outputs": [
    {
     "data": {
      "text/plain": [
       "(17827,)"
      ]
     },
     "execution_count": 346,
     "metadata": {},
     "output_type": "execute_result"
    }
   ],
   "source": [
    "y_train1.shape"
   ]
  },
  {
   "cell_type": "code",
   "execution_count": 347,
   "id": "8604b1ee",
   "metadata": {},
   "outputs": [
    {
     "data": {
      "text/plain": [
       "(5943,)"
      ]
     },
     "execution_count": 347,
     "metadata": {},
     "output_type": "execute_result"
    }
   ],
   "source": [
    "y_test1.shape"
   ]
  },
  {
   "cell_type": "code",
   "execution_count": 348,
   "id": "942bec53",
   "metadata": {},
   "outputs": [],
   "source": [
    "Ada_Model1 = Ada.fit(x_train1, y_train1)"
   ]
  },
  {
   "cell_type": "code",
   "execution_count": 349,
   "id": "ab030b92",
   "metadata": {},
   "outputs": [],
   "source": [
    "Ada_Pred1 = Ada_Model1.predict(x_test1)"
   ]
  },
  {
   "cell_type": "code",
   "execution_count": 350,
   "id": "0b70036f",
   "metadata": {},
   "outputs": [
    {
     "data": {
      "text/plain": [
       "array([1, 1, 1, ..., 1, 0, 0], dtype=int8)"
      ]
     },
     "execution_count": 350,
     "metadata": {},
     "output_type": "execute_result"
    }
   ],
   "source": [
    "Ada_Pred1"
   ]
  },
  {
   "cell_type": "code",
   "execution_count": 351,
   "id": "31869229",
   "metadata": {},
   "outputs": [
    {
     "data": {
      "text/html": [
       "<div>\n",
       "<style scoped>\n",
       "    .dataframe tbody tr th:only-of-type {\n",
       "        vertical-align: middle;\n",
       "    }\n",
       "\n",
       "    .dataframe tbody tr th {\n",
       "        vertical-align: top;\n",
       "    }\n",
       "\n",
       "    .dataframe thead th {\n",
       "        text-align: right;\n",
       "    }\n",
       "</style>\n",
       "<table border=\"1\" class=\"dataframe\">\n",
       "  <thead>\n",
       "    <tr style=\"text-align: right;\">\n",
       "      <th>Predicted</th>\n",
       "      <th>0</th>\n",
       "      <th>1</th>\n",
       "      <th>All</th>\n",
       "    </tr>\n",
       "    <tr>\n",
       "      <th>Actual</th>\n",
       "      <th></th>\n",
       "      <th></th>\n",
       "      <th></th>\n",
       "    </tr>\n",
       "  </thead>\n",
       "  <tbody>\n",
       "    <tr>\n",
       "      <th>0</th>\n",
       "      <td>2333</td>\n",
       "      <td>636</td>\n",
       "      <td>2969</td>\n",
       "    </tr>\n",
       "    <tr>\n",
       "      <th>1</th>\n",
       "      <td>573</td>\n",
       "      <td>2401</td>\n",
       "      <td>2974</td>\n",
       "    </tr>\n",
       "    <tr>\n",
       "      <th>All</th>\n",
       "      <td>2906</td>\n",
       "      <td>3037</td>\n",
       "      <td>5943</td>\n",
       "    </tr>\n",
       "  </tbody>\n",
       "</table>\n",
       "</div>"
      ],
      "text/plain": [
       "Predicted     0     1   All\n",
       "Actual                     \n",
       "0          2333   636  2969\n",
       "1           573  2401  2974\n",
       "All        2906  3037  5943"
      ]
     },
     "execution_count": 351,
     "metadata": {},
     "output_type": "execute_result"
    }
   ],
   "source": [
    "#Confusion matrix\n",
    "\n",
    "pd.crosstab(y_test1, Ada_Pred1, rownames = ['Actual'], colnames = ['Predicted'], margins = True)"
   ]
  },
  {
   "cell_type": "code",
   "execution_count": 352,
   "id": "8ba90aa9",
   "metadata": {},
   "outputs": [
    {
     "data": {
      "text/plain": [
       "array([[2333,  636],\n",
       "       [ 573, 2401]], dtype=int64)"
      ]
     },
     "execution_count": 352,
     "metadata": {},
     "output_type": "execute_result"
    }
   ],
   "source": [
    "confusion_matrix(y_test1, Ada_Pred1)"
   ]
  },
  {
   "cell_type": "code",
   "execution_count": 353,
   "id": "4850c3cd",
   "metadata": {},
   "outputs": [
    {
     "name": "stdout",
     "output_type": "stream",
     "text": [
      "              precision    recall  f1-score   support\n",
      "\n",
      "           0       0.80      0.79      0.79      2969\n",
      "           1       0.79      0.81      0.80      2974\n",
      "\n",
      "    accuracy                           0.80      5943\n",
      "   macro avg       0.80      0.80      0.80      5943\n",
      "weighted avg       0.80      0.80      0.80      5943\n",
      "\n"
     ]
    }
   ],
   "source": [
    "# classification_report\n",
    "print(classification_report(y_test1, Ada_Pred1))"
   ]
  },
  {
   "cell_type": "code",
   "execution_count": 354,
   "id": "b20994b9",
   "metadata": {},
   "outputs": [
    {
     "data": {
      "text/plain": [
       "0.7965673902069662"
      ]
     },
     "execution_count": 354,
     "metadata": {},
     "output_type": "execute_result"
    }
   ],
   "source": [
    "# accuracy_score\n",
    "Ada_accuracy_imp = accuracy_score(y_test1, Ada_Pred1)\n",
    "Ada_accuracy_imp"
   ]
  },
  {
   "cell_type": "code",
   "execution_count": 355,
   "id": "10882e96",
   "metadata": {},
   "outputs": [],
   "source": [
    "# f1_score\n",
    "from sklearn.metrics import f1_score"
   ]
  },
  {
   "cell_type": "code",
   "execution_count": 356,
   "id": "e20e7310",
   "metadata": {},
   "outputs": [],
   "source": [
    "# define array of actual classes\n",
    "actual1 = np.repeat([1, 0], repeats = [2969, 2974])"
   ]
  },
  {
   "cell_type": "code",
   "execution_count": 357,
   "id": "0c60e6a4",
   "metadata": {},
   "outputs": [],
   "source": [
    "# define array of predicted classes\n",
    "pred1 = np.repeat([1, 0, 1, 0], repeats = [2333, 636, 573, 2401])"
   ]
  },
  {
   "cell_type": "code",
   "execution_count": 358,
   "id": "f87b2a83",
   "metadata": {},
   "outputs": [
    {
     "data": {
      "text/plain": [
       "0.7942127659574467"
      ]
     },
     "execution_count": 358,
     "metadata": {},
     "output_type": "execute_result"
    }
   ],
   "source": [
    "# calculate F1 score\n",
    "f1_score(actual1, pred1)"
   ]
  },
  {
   "cell_type": "code",
   "execution_count": 359,
   "id": "58cd1a6f",
   "metadata": {},
   "outputs": [],
   "source": [
    "# AUC\n",
    "y_predict1 = Ada_Model.predict_proba(x1)\n",
    "y_predict1[:, 1]\n",
    "plt.show()"
   ]
  },
  {
   "cell_type": "code",
   "execution_count": 360,
   "id": "34cc1899",
   "metadata": {},
   "outputs": [
    {
     "name": "stdout",
     "output_type": "stream",
     "text": [
      "AUC Score :  0.877\n"
     ]
    }
   ],
   "source": [
    "#ROC Curve - Receiver Operating Characteristic curve\n",
    "### threshold\n",
    "#tpr = True Positive Rate \n",
    "#fpr = False Positive Rate\n",
    "from sklearn.metrics import roc_curve, auc, roc_auc_score\n",
    "fpr, tpr, thresholds = roc_curve(y1, y_predict1[:,1])\n",
    "roc_auc = auc(fpr, tpr)\n",
    "print(\"AUC Score : \", round(roc_auc, 3))"
   ]
  },
  {
   "cell_type": "code",
   "execution_count": 361,
   "id": "b5d55a18",
   "metadata": {},
   "outputs": [
    {
     "data": {
      "image/png": "[encoded data removed]",
      "text/plain": [
       "<Figure size 432x288 with 1 Axes>"
      ]
     },
     "metadata": {
      "needs_background": "light"
     },
     "output_type": "display_data"
    }
   ],
   "source": [
    "# ROC Curve\n",
    "plt.xlabel('False Positive Rate (1-Specificity)')\n",
    "plt.ylabel('True Positive Rate (Sensitivity)')\n",
    "plt.title('ROC (Receiver Operating Characteristic) Curve')\n",
    "plt.plot([0, 1], [0, 1],'r--')\n",
    "plt.xlim([0, 1])\n",
    "plt.ylim([0, 1])\n",
    "plt.plot(fpr, tpr, label = 'AUC = ' + str(roc_auc), lw=6)\n",
    "plt.legend(loc=4)\n",
    "plt.show()"
   ]
  },
  {
   "cell_type": "markdown",
   "id": "7bd9930a",
   "metadata": {},
   "source": [
    "Naive Bayes"
   ]
  },
  {
   "cell_type": "code",
   "execution_count": 362,
   "id": "f093cdb9",
   "metadata": {},
   "outputs": [],
   "source": [
    "from sklearn.naive_bayes import GaussianNB"
   ]
  },
  {
   "cell_type": "code",
   "execution_count": 363,
   "id": "c91ea8e9",
   "metadata": {},
   "outputs": [],
   "source": [
    "NB = GaussianNB()"
   ]
  },
  {
   "cell_type": "code",
   "execution_count": 364,
   "id": "290bc3fe",
   "metadata": {},
   "outputs": [],
   "source": [
    "NB_Model = NB.fit(x_train, y_train)"
   ]
  },
  {
   "cell_type": "code",
   "execution_count": 365,
   "id": "df802519",
   "metadata": {},
   "outputs": [],
   "source": [
    "NB_Pred = NB_Model.predict(x_test)"
   ]
  },
  {
   "cell_type": "code",
   "execution_count": 366,
   "id": "abb028d4",
   "metadata": {},
   "outputs": [
    {
     "data": {
      "text/plain": [
       "array([0, 0, 0, ..., 0, 0, 0], dtype=int8)"
      ]
     },
     "execution_count": 366,
     "metadata": {},
     "output_type": "execute_result"
    }
   ],
   "source": [
    "NB_Pred"
   ]
  },
  {
   "cell_type": "code",
   "execution_count": 367,
   "id": "2c36c46e",
   "metadata": {},
   "outputs": [
    {
     "data": {
      "text/html": [
       "<div>\n",
       "<style scoped>\n",
       "    .dataframe tbody tr th:only-of-type {\n",
       "        vertical-align: middle;\n",
       "    }\n",
       "\n",
       "    .dataframe tbody tr th {\n",
       "        vertical-align: top;\n",
       "    }\n",
       "\n",
       "    .dataframe thead th {\n",
       "        text-align: right;\n",
       "    }\n",
       "</style>\n",
       "<table border=\"1\" class=\"dataframe\">\n",
       "  <thead>\n",
       "    <tr style=\"text-align: right;\">\n",
       "      <th>Predicted</th>\n",
       "      <th>0</th>\n",
       "      <th>1</th>\n",
       "      <th>All</th>\n",
       "    </tr>\n",
       "    <tr>\n",
       "      <th>Actual</th>\n",
       "      <th></th>\n",
       "      <th></th>\n",
       "      <th></th>\n",
       "    </tr>\n",
       "  </thead>\n",
       "  <tbody>\n",
       "    <tr>\n",
       "      <th>0</th>\n",
       "      <td>2905</td>\n",
       "      <td>64</td>\n",
       "      <td>2969</td>\n",
       "    </tr>\n",
       "    <tr>\n",
       "      <th>1</th>\n",
       "      <td>2478</td>\n",
       "      <td>496</td>\n",
       "      <td>2974</td>\n",
       "    </tr>\n",
       "    <tr>\n",
       "      <th>All</th>\n",
       "      <td>5383</td>\n",
       "      <td>560</td>\n",
       "      <td>5943</td>\n",
       "    </tr>\n",
       "  </tbody>\n",
       "</table>\n",
       "</div>"
      ],
      "text/plain": [
       "Predicted     0    1   All\n",
       "Actual                    \n",
       "0          2905   64  2969\n",
       "1          2478  496  2974\n",
       "All        5383  560  5943"
      ]
     },
     "execution_count": 367,
     "metadata": {},
     "output_type": "execute_result"
    }
   ],
   "source": [
    "# confusion_matrix\n",
    "\n",
    "pd.crosstab(y_test, NB_Pred, rownames = ['Actual'], colnames = ['Predicted'], margins = True)"
   ]
  },
  {
   "cell_type": "code",
   "execution_count": 368,
   "id": "259c76f0",
   "metadata": {},
   "outputs": [
    {
     "data": {
      "text/plain": [
       "array([[2905,   64],\n",
       "       [2478,  496]], dtype=int64)"
      ]
     },
     "execution_count": 368,
     "metadata": {},
     "output_type": "execute_result"
    }
   ],
   "source": [
    "confusion_matrix(y_test, NB_Pred)"
   ]
  },
  {
   "cell_type": "code",
   "execution_count": 369,
   "id": "c1ce90aa",
   "metadata": {},
   "outputs": [
    {
     "name": "stdout",
     "output_type": "stream",
     "text": [
      "              precision    recall  f1-score   support\n",
      "\n",
      "           0       0.54      0.98      0.70      2969\n",
      "           1       0.89      0.17      0.28      2974\n",
      "\n",
      "    accuracy                           0.57      5943\n",
      "   macro avg       0.71      0.57      0.49      5943\n",
      "weighted avg       0.71      0.57      0.49      5943\n",
      "\n"
     ]
    }
   ],
   "source": [
    "# classification_report\n",
    "print(classification_report(y_test, NB_Pred))"
   ]
  },
  {
   "cell_type": "code",
   "execution_count": null,
   "id": "9a89dfee",
   "metadata": {},
   "outputs": [],
   "source": []
  },
  {
   "cell_type": "code",
   "execution_count": 370,
   "id": "8f354b7d",
   "metadata": {},
   "outputs": [
    {
     "data": {
      "text/plain": [
       "0.5722698973582366"
      ]
     },
     "execution_count": 370,
     "metadata": {},
     "output_type": "execute_result"
    }
   ],
   "source": [
    "# accuracy_score\n",
    "NB_accuracy = accuracy_score(y_test, NB_Pred)\n",
    "NB_accuracy\n"
   ]
  },
  {
   "cell_type": "code",
   "execution_count": 371,
   "id": "94596794",
   "metadata": {},
   "outputs": [],
   "source": [
    "# f1_score\n",
    "from sklearn.metrics import f1_score"
   ]
  },
  {
   "cell_type": "code",
   "execution_count": 372,
   "id": "5c8966a9",
   "metadata": {},
   "outputs": [],
   "source": [
    "# define array of actual classes\n",
    "actual = np.repeat([1, 0], repeats = [2969, 2974])"
   ]
  },
  {
   "cell_type": "code",
   "execution_count": 373,
   "id": "73d80d2a",
   "metadata": {},
   "outputs": [],
   "source": [
    "Pred = np.repeat([1, 0, 1, 0], repeats = [2905, 64, 2478, 496])\n"
   ]
  },
  {
   "cell_type": "code",
   "execution_count": 374,
   "id": "7f73043f",
   "metadata": {},
   "outputs": [
    {
     "data": {
      "text/plain": [
       "0.7968221771467208"
      ]
     },
     "execution_count": 374,
     "metadata": {},
     "output_type": "execute_result"
    }
   ],
   "source": [
    "f1_score(actual, pred)"
   ]
  },
  {
   "cell_type": "code",
   "execution_count": 375,
   "id": "e08ea7fd",
   "metadata": {},
   "outputs": [],
   "source": [
    "# AUC\n",
    "y_predict = NB_Model.predict_proba(x)\n",
    "y_predict[:, 1]\n",
    "plt.show()"
   ]
  },
  {
   "cell_type": "code",
   "execution_count": 376,
   "id": "87ba5e9e",
   "metadata": {},
   "outputs": [
    {
     "name": "stdout",
     "output_type": "stream",
     "text": [
      "AUC Score :  0.814\n"
     ]
    }
   ],
   "source": [
    "#ROC Curve - Receiver Operating Characteristic curve\n",
    "### threshold\n",
    "#tpr = True Positive Rate \n",
    "#fpr = False Positive Rate\n",
    "from sklearn.metrics import roc_curve, auc, roc_auc_score\n",
    "fpr, tpr, thresholds = roc_curve(y, y_predict[:,1])\n",
    "roc_auc = auc(fpr, tpr)\n",
    "print(\"AUC Score : \", round(roc_auc, 3))\n"
   ]
  },
  {
   "cell_type": "code",
   "execution_count": 377,
   "id": "1a4ed703",
   "metadata": {},
   "outputs": [
    {
     "data": {
      "image/png": "[encoded data removed]",
      "text/plain": [
       "<Figure size 432x288 with 1 Axes>"
      ]
     },
     "metadata": {
      "needs_background": "light"
     },
     "output_type": "display_data"
    }
   ],
   "source": [
    "# ROC Curve\n",
    "plt.xlabel('False Positive Rate (1-Specificity)')\n",
    "plt.ylabel('True Positive Rate (Sensitivity)')\n",
    "plt.title('ROC (Receiver Operating Characteristic) Curve')\n",
    "plt.plot([0, 1], [0, 1],'r--')\n",
    "plt.xlim([0, 1])\n",
    "plt.ylim([0, 1])\n",
    "plt.plot(fpr, tpr, label = 'AUC = ' + str(roc_auc), lw=6)\n",
    "plt.legend(loc=4)\n",
    "plt.show()"
   ]
  },
  {
   "cell_type": "code",
   "execution_count": 378,
   "id": "13efd4fe",
   "metadata": {},
   "outputs": [],
   "source": [
    "# With important features\n",
    "x1 = data1[['lead_time', 'avg_price_per_room', 'no_of_special_requests', 'arrival_date','arrival_month','market_segment_type']]"
   ]
  },
  {
   "cell_type": "code",
   "execution_count": 379,
   "id": "82173c72",
   "metadata": {},
   "outputs": [
    {
     "data": {
      "text/html": [
       "<div>\n",
       "<style scoped>\n",
       "    .dataframe tbody tr th:only-of-type {\n",
       "        vertical-align: middle;\n",
       "    }\n",
       "\n",
       "    .dataframe tbody tr th {\n",
       "        vertical-align: top;\n",
       "    }\n",
       "\n",
       "    .dataframe thead th {\n",
       "        text-align: right;\n",
       "    }\n",
       "</style>\n",
       "<table border=\"1\" class=\"dataframe\">\n",
       "  <thead>\n",
       "    <tr style=\"text-align: right;\">\n",
       "      <th></th>\n",
       "      <th>lead_time</th>\n",
       "      <th>avg_price_per_room</th>\n",
       "      <th>no_of_special_requests</th>\n",
       "      <th>arrival_date</th>\n",
       "      <th>arrival_month</th>\n",
       "      <th>market_segment_type</th>\n",
       "    </tr>\n",
       "  </thead>\n",
       "  <tbody>\n",
       "    <tr>\n",
       "      <th>0</th>\n",
       "      <td>0.003454</td>\n",
       "      <td>0.247166</td>\n",
       "      <td>0</td>\n",
       "      <td>0.900000</td>\n",
       "      <td>0.090909</td>\n",
       "      <td>4</td>\n",
       "    </tr>\n",
       "    <tr>\n",
       "      <th>1</th>\n",
       "      <td>0.728843</td>\n",
       "      <td>0.499055</td>\n",
       "      <td>0</td>\n",
       "      <td>0.633333</td>\n",
       "      <td>0.363636</td>\n",
       "      <td>4</td>\n",
       "    </tr>\n",
       "    <tr>\n",
       "      <th>2</th>\n",
       "      <td>0.165803</td>\n",
       "      <td>0.464421</td>\n",
       "      <td>0</td>\n",
       "      <td>0.333333</td>\n",
       "      <td>0.272727</td>\n",
       "      <td>4</td>\n",
       "    </tr>\n",
       "    <tr>\n",
       "      <th>3</th>\n",
       "      <td>1.000000</td>\n",
       "      <td>0.593514</td>\n",
       "      <td>1</td>\n",
       "      <td>0.400000</td>\n",
       "      <td>0.727273</td>\n",
       "      <td>4</td>\n",
       "    </tr>\n",
       "    <tr>\n",
       "      <th>4</th>\n",
       "      <td>0.103627</td>\n",
       "      <td>0.423489</td>\n",
       "      <td>0</td>\n",
       "      <td>0.833333</td>\n",
       "      <td>0.909091</td>\n",
       "      <td>4</td>\n",
       "    </tr>\n",
       "    <tr>\n",
       "      <th>...</th>\n",
       "      <td>...</td>\n",
       "      <td>...</td>\n",
       "      <td>...</td>\n",
       "      <td>...</td>\n",
       "      <td>...</td>\n",
       "      <td>...</td>\n",
       "    </tr>\n",
       "    <tr>\n",
       "      <th>23765</th>\n",
       "      <td>0.000000</td>\n",
       "      <td>0.681675</td>\n",
       "      <td>1</td>\n",
       "      <td>0.666667</td>\n",
       "      <td>0.454545</td>\n",
       "      <td>4</td>\n",
       "    </tr>\n",
       "    <tr>\n",
       "      <th>23766</th>\n",
       "      <td>0.041451</td>\n",
       "      <td>0.291247</td>\n",
       "      <td>1</td>\n",
       "      <td>0.500000</td>\n",
       "      <td>0.090909</td>\n",
       "      <td>2</td>\n",
       "    </tr>\n",
       "    <tr>\n",
       "      <th>23767</th>\n",
       "      <td>0.518135</td>\n",
       "      <td>0.443136</td>\n",
       "      <td>0</td>\n",
       "      <td>0.566667</td>\n",
       "      <td>0.727273</td>\n",
       "      <td>4</td>\n",
       "    </tr>\n",
       "    <tr>\n",
       "      <th>23768</th>\n",
       "      <td>0.348877</td>\n",
       "      <td>0.464421</td>\n",
       "      <td>2</td>\n",
       "      <td>0.466667</td>\n",
       "      <td>0.545455</td>\n",
       "      <td>4</td>\n",
       "    </tr>\n",
       "    <tr>\n",
       "      <th>23769</th>\n",
       "      <td>0.000000</td>\n",
       "      <td>0.275504</td>\n",
       "      <td>0</td>\n",
       "      <td>0.566667</td>\n",
       "      <td>0.000000</td>\n",
       "      <td>3</td>\n",
       "    </tr>\n",
       "  </tbody>\n",
       "</table>\n",
       "<p>23770 rows × 6 columns</p>\n",
       "</div>"
      ],
      "text/plain": [
       "       lead_time  avg_price_per_room  no_of_special_requests  arrival_date  \\\n",
       "0       0.003454            0.247166                       0      0.900000   \n",
       "1       0.728843            0.499055                       0      0.633333   \n",
       "2       0.165803            0.464421                       0      0.333333   \n",
       "3       1.000000            0.593514                       1      0.400000   \n",
       "4       0.103627            0.423489                       0      0.833333   \n",
       "...          ...                 ...                     ...           ...   \n",
       "23765   0.000000            0.681675                       1      0.666667   \n",
       "23766   0.041451            0.291247                       1      0.500000   \n",
       "23767   0.518135            0.443136                       0      0.566667   \n",
       "23768   0.348877            0.464421                       2      0.466667   \n",
       "23769   0.000000            0.275504                       0      0.566667   \n",
       "\n",
       "       arrival_month  market_segment_type  \n",
       "0           0.090909                    4  \n",
       "1           0.363636                    4  \n",
       "2           0.272727                    4  \n",
       "3           0.727273                    4  \n",
       "4           0.909091                    4  \n",
       "...              ...                  ...  \n",
       "23765       0.454545                    4  \n",
       "23766       0.090909                    2  \n",
       "23767       0.727273                    4  \n",
       "23768       0.545455                    4  \n",
       "23769       0.000000                    3  \n",
       "\n",
       "[23770 rows x 6 columns]"
      ]
     },
     "execution_count": 379,
     "metadata": {},
     "output_type": "execute_result"
    }
   ],
   "source": [
    "x1"
   ]
  },
  {
   "cell_type": "code",
   "execution_count": 380,
   "id": "89c0358b",
   "metadata": {},
   "outputs": [
    {
     "data": {
      "text/plain": [
       "0        0\n",
       "1        0\n",
       "2        0\n",
       "3        0\n",
       "4        0\n",
       "        ..\n",
       "23765    1\n",
       "23766    1\n",
       "23767    1\n",
       "23768    1\n",
       "23769    1\n",
       "Name: booking_status, Length: 23770, dtype: int8"
      ]
     },
     "execution_count": 380,
     "metadata": {},
     "output_type": "execute_result"
    }
   ],
   "source": [
    "y1 = data1['booking_status']\n",
    "y1"
   ]
  },
  {
   "cell_type": "code",
   "execution_count": 381,
   "id": "2200a631",
   "metadata": {},
   "outputs": [],
   "source": [
    "from sklearn.naive_bayes import GaussianNB\n",
    "NB = GaussianNB()\n",
    "NB_Model1 = NB.fit(x_train1, y_train1)"
   ]
  },
  {
   "cell_type": "code",
   "execution_count": 382,
   "id": "867d5f43",
   "metadata": {},
   "outputs": [
    {
     "data": {
      "text/plain": [
       "array([1, 1, 1, ..., 1, 0, 1], dtype=int8)"
      ]
     },
     "execution_count": 382,
     "metadata": {},
     "output_type": "execute_result"
    }
   ],
   "source": [
    "NB_Pred1 = NB_Model1.predict(x_test1)\n",
    "NB_Pred1"
   ]
  },
  {
   "cell_type": "code",
   "execution_count": 383,
   "id": "93e2051e",
   "metadata": {},
   "outputs": [
    {
     "data": {
      "text/html": [
       "<div>\n",
       "<style scoped>\n",
       "    .dataframe tbody tr th:only-of-type {\n",
       "        vertical-align: middle;\n",
       "    }\n",
       "\n",
       "    .dataframe tbody tr th {\n",
       "        vertical-align: top;\n",
       "    }\n",
       "\n",
       "    .dataframe thead th {\n",
       "        text-align: right;\n",
       "    }\n",
       "</style>\n",
       "<table border=\"1\" class=\"dataframe\">\n",
       "  <thead>\n",
       "    <tr style=\"text-align: right;\">\n",
       "      <th>Predicted</th>\n",
       "      <th>0</th>\n",
       "      <th>1</th>\n",
       "      <th>All</th>\n",
       "    </tr>\n",
       "    <tr>\n",
       "      <th>Actual</th>\n",
       "      <th></th>\n",
       "      <th></th>\n",
       "      <th></th>\n",
       "    </tr>\n",
       "  </thead>\n",
       "  <tbody>\n",
       "    <tr>\n",
       "      <th>0</th>\n",
       "      <td>2231</td>\n",
       "      <td>738</td>\n",
       "      <td>2969</td>\n",
       "    </tr>\n",
       "    <tr>\n",
       "      <th>1</th>\n",
       "      <td>689</td>\n",
       "      <td>2285</td>\n",
       "      <td>2974</td>\n",
       "    </tr>\n",
       "    <tr>\n",
       "      <th>All</th>\n",
       "      <td>2920</td>\n",
       "      <td>3023</td>\n",
       "      <td>5943</td>\n",
       "    </tr>\n",
       "  </tbody>\n",
       "</table>\n",
       "</div>"
      ],
      "text/plain": [
       "Predicted     0     1   All\n",
       "Actual                     \n",
       "0          2231   738  2969\n",
       "1           689  2285  2974\n",
       "All        2920  3023  5943"
      ]
     },
     "execution_count": 383,
     "metadata": {},
     "output_type": "execute_result"
    }
   ],
   "source": [
    "pd.crosstab(y_test1, NB_Pred1, rownames = [\"Actual\"], colnames = [\"Predicted\"], margins = True)"
   ]
  },
  {
   "cell_type": "code",
   "execution_count": 384,
   "id": "9285a8f8",
   "metadata": {},
   "outputs": [
    {
     "data": {
      "text/plain": [
       "array([[2231,  738],\n",
       "       [ 689, 2285]], dtype=int64)"
      ]
     },
     "execution_count": 384,
     "metadata": {},
     "output_type": "execute_result"
    }
   ],
   "source": [
    "confusion_matrix(y_test1, NB_Pred1)"
   ]
  },
  {
   "cell_type": "code",
   "execution_count": 385,
   "id": "10521809",
   "metadata": {},
   "outputs": [
    {
     "name": "stdout",
     "output_type": "stream",
     "text": [
      "              precision    recall  f1-score   support\n",
      "\n",
      "           0       0.76      0.75      0.76      2969\n",
      "           1       0.76      0.77      0.76      2974\n",
      "\n",
      "    accuracy                           0.76      5943\n",
      "   macro avg       0.76      0.76      0.76      5943\n",
      "weighted avg       0.76      0.76      0.76      5943\n",
      "\n"
     ]
    }
   ],
   "source": [
    "# classification_report\n",
    "print(classification_report(y_test1, NB_Pred1))"
   ]
  },
  {
   "cell_type": "code",
   "execution_count": 386,
   "id": "1cd125f1",
   "metadata": {},
   "outputs": [
    {
     "data": {
      "text/plain": [
       "0.7598855796735655"
      ]
     },
     "execution_count": 386,
     "metadata": {},
     "output_type": "execute_result"
    }
   ],
   "source": [
    "# accuracy_score\n",
    "NB_accuracy_imp = accuracy_score(y_test1, NB_Pred1)\n",
    "NB_accuracy_imp"
   ]
  },
  {
   "cell_type": "code",
   "execution_count": 387,
   "id": "1b0825c8",
   "metadata": {},
   "outputs": [],
   "source": [
    "# f1_score\n",
    "from sklearn.metrics import f1_score"
   ]
  },
  {
   "cell_type": "code",
   "execution_count": 388,
   "id": "52f37735",
   "metadata": {},
   "outputs": [],
   "source": [
    "# define array of actual classes\n",
    "actual1 = np.repeat([1, 0], repeats = [2969, 2974])"
   ]
  },
  {
   "cell_type": "code",
   "execution_count": 389,
   "id": "3e320a3a",
   "metadata": {},
   "outputs": [],
   "source": [
    "# define array of predicted classes\n",
    "pred1 = np.repeat([1, 0, 1, 0], repeats=[2231, 738, 689, 2285])"
   ]
  },
  {
   "cell_type": "code",
   "execution_count": 390,
   "id": "9ddc21ac",
   "metadata": {},
   "outputs": [
    {
     "data": {
      "text/plain": [
       "0.7576838172864663"
      ]
     },
     "execution_count": 390,
     "metadata": {},
     "output_type": "execute_result"
    }
   ],
   "source": [
    "# calculate F1 score\n",
    "f1_score(actual1, pred1)"
   ]
  },
  {
   "cell_type": "code",
   "execution_count": 391,
   "id": "aa33722e",
   "metadata": {},
   "outputs": [],
   "source": [
    "# AUC\n",
    "y_predict1 = NB_Model1.predict_proba(x1)\n",
    "y_predict1[:,1]\n",
    "plt.show()"
   ]
  },
  {
   "cell_type": "code",
   "execution_count": 392,
   "id": "34f8b3dc",
   "metadata": {},
   "outputs": [
    {
     "name": "stdout",
     "output_type": "stream",
     "text": [
      "AUC Score :  0.825\n"
     ]
    }
   ],
   "source": [
    "# ROC Curve - Receiver Operating Characteristic curve\n",
    "# threshold\n",
    "# tpr = True Positive Rate \n",
    "# fpr = False Positive Rate\n",
    "from sklearn.metrics import roc_curve, auc, roc_auc_score\n",
    "fpr, tpr, thresholds = roc_curve(y1, y_predict1[:,1])\n",
    "roc_auc = auc(fpr, tpr)\n",
    "print(\"AUC Score : \", round(roc_auc, 3))"
   ]
  },
  {
   "cell_type": "code",
   "execution_count": 393,
   "id": "4b69ff14",
   "metadata": {},
   "outputs": [
    {
     "data": {
      "image/png": "[encoded data removed]",
      "text/plain": [
       "<Figure size 432x288 with 1 Axes>"
      ]
     },
     "metadata": {
      "needs_background": "light"
     },
     "output_type": "display_data"
    }
   ],
   "source": [
    "# ROC Curve\n",
    "plt.xlabel('False Positive Rate (1-Specificity)')\n",
    "plt.ylabel('True Positive Rate (Sensitivity)')\n",
    "plt.title('ROC (Receiver Operating Characteristic) Curve')\n",
    "plt.plot([0, 1], [0, 1],'r--')\n",
    "plt.xlim([0, 1])\n",
    "plt.ylim([0, 1])\n",
    "plt.plot(fpr, tpr, label = 'AUC = ' + str(roc_auc), lw=6)\n",
    "plt.legend(loc=4)\n",
    "plt.show()"
   ]
  },
  {
   "cell_type": "markdown",
   "id": "b2c6e1aa",
   "metadata": {},
   "source": [
    "KNN"
   ]
  },
  {
   "cell_type": "code",
   "execution_count": 394,
   "id": "78e49e06",
   "metadata": {},
   "outputs": [],
   "source": [
    "from sklearn.neighbors import KNeighborsClassifier\n",
    "KNN = KNeighborsClassifier()\n",
    "KNN_Model = KNN.fit(x_train, y_train)"
   ]
  },
  {
   "cell_type": "code",
   "execution_count": 395,
   "id": "25a2dc1c",
   "metadata": {},
   "outputs": [
    {
     "data": {
      "text/plain": [
       "array([1, 1, 1, ..., 0, 0, 0], dtype=int8)"
      ]
     },
     "execution_count": 395,
     "metadata": {},
     "output_type": "execute_result"
    }
   ],
   "source": [
    "KNN_Pred = KNN_Model.predict(x_test)\n",
    "KNN_Pred"
   ]
  },
  {
   "cell_type": "code",
   "execution_count": 396,
   "id": "35b8099d",
   "metadata": {},
   "outputs": [
    {
     "data": {
      "text/html": [
       "<div>\n",
       "<style scoped>\n",
       "    .dataframe tbody tr th:only-of-type {\n",
       "        vertical-align: middle;\n",
       "    }\n",
       "\n",
       "    .dataframe tbody tr th {\n",
       "        vertical-align: top;\n",
       "    }\n",
       "\n",
       "    .dataframe thead th {\n",
       "        text-align: right;\n",
       "    }\n",
       "</style>\n",
       "<table border=\"1\" class=\"dataframe\">\n",
       "  <thead>\n",
       "    <tr style=\"text-align: right;\">\n",
       "      <th>Predicted</th>\n",
       "      <th>0</th>\n",
       "      <th>1</th>\n",
       "      <th>All</th>\n",
       "    </tr>\n",
       "    <tr>\n",
       "      <th>Actual</th>\n",
       "      <th></th>\n",
       "      <th></th>\n",
       "      <th></th>\n",
       "    </tr>\n",
       "  </thead>\n",
       "  <tbody>\n",
       "    <tr>\n",
       "      <th>0</th>\n",
       "      <td>2394</td>\n",
       "      <td>575</td>\n",
       "      <td>2969</td>\n",
       "    </tr>\n",
       "    <tr>\n",
       "      <th>1</th>\n",
       "      <td>541</td>\n",
       "      <td>2433</td>\n",
       "      <td>2974</td>\n",
       "    </tr>\n",
       "    <tr>\n",
       "      <th>All</th>\n",
       "      <td>2935</td>\n",
       "      <td>3008</td>\n",
       "      <td>5943</td>\n",
       "    </tr>\n",
       "  </tbody>\n",
       "</table>\n",
       "</div>"
      ],
      "text/plain": [
       "Predicted     0     1   All\n",
       "Actual                     \n",
       "0          2394   575  2969\n",
       "1           541  2433  2974\n",
       "All        2935  3008  5943"
      ]
     },
     "execution_count": 396,
     "metadata": {},
     "output_type": "execute_result"
    }
   ],
   "source": [
    "pd.crosstab(y_test, KNN_Pred, rownames = [\"Actual\"], colnames = [\"Predicted\"], margins = True)"
   ]
  },
  {
   "cell_type": "code",
   "execution_count": 397,
   "id": "21c2f1fa",
   "metadata": {},
   "outputs": [
    {
     "data": {
      "text/plain": [
       "array([[2394,  575],\n",
       "       [ 541, 2433]], dtype=int64)"
      ]
     },
     "execution_count": 397,
     "metadata": {},
     "output_type": "execute_result"
    }
   ],
   "source": [
    "confusion_matrix(y_test, KNN_Pred)"
   ]
  },
  {
   "cell_type": "code",
   "execution_count": 398,
   "id": "e4ed766a",
   "metadata": {},
   "outputs": [
    {
     "name": "stdout",
     "output_type": "stream",
     "text": [
      "              precision    recall  f1-score   support\n",
      "\n",
      "           0       0.82      0.81      0.81      2969\n",
      "           1       0.81      0.82      0.81      2974\n",
      "\n",
      "    accuracy                           0.81      5943\n",
      "   macro avg       0.81      0.81      0.81      5943\n",
      "weighted avg       0.81      0.81      0.81      5943\n",
      "\n"
     ]
    }
   ],
   "source": [
    "# classification_report\n",
    "print(classification_report(y_test,KNN_Pred))"
   ]
  },
  {
   "cell_type": "code",
   "execution_count": 399,
   "id": "bbe89875",
   "metadata": {},
   "outputs": [
    {
     "data": {
      "text/plain": [
       "0.812216052498738"
      ]
     },
     "execution_count": 399,
     "metadata": {},
     "output_type": "execute_result"
    }
   ],
   "source": [
    "# accuracy_score\n",
    "KNN_accuracy = accuracy_score(y_test, KNN_Pred)\n",
    "KNN_accuracy"
   ]
  },
  {
   "cell_type": "code",
   "execution_count": 400,
   "id": "24fbff02",
   "metadata": {},
   "outputs": [],
   "source": [
    "# f1_score\n",
    "from sklearn.metrics import f1_score"
   ]
  },
  {
   "cell_type": "code",
   "execution_count": 401,
   "id": "f56c1222",
   "metadata": {},
   "outputs": [],
   "source": [
    "# define array of actual classes\n",
    "actual = np.repeat([1, 0], repeats = [2969, 2974])"
   ]
  },
  {
   "cell_type": "code",
   "execution_count": 402,
   "id": "0120a3b5",
   "metadata": {},
   "outputs": [],
   "source": [
    "# define array of predicted classes\n",
    "pred = np.repeat([1, 0, 1, 0], repeats = [2394,  575, 541, 2433])"
   ]
  },
  {
   "cell_type": "code",
   "execution_count": 403,
   "id": "9e5d0124",
   "metadata": {},
   "outputs": [
    {
     "data": {
      "text/plain": [
       "0.8109756097560976"
      ]
     },
     "execution_count": 403,
     "metadata": {},
     "output_type": "execute_result"
    }
   ],
   "source": [
    "# calculate F1 score\n",
    "f1_score(actual, pred)"
   ]
  },
  {
   "cell_type": "code",
   "execution_count": 404,
   "id": "51174dbc",
   "metadata": {},
   "outputs": [],
   "source": [
    "# AUC\n",
    "y_predict = KNN_Model.predict_proba(x)\n",
    "y_predict[:,1]\n",
    "plt.show()"
   ]
  },
  {
   "cell_type": "code",
   "execution_count": 405,
   "id": "54701ea3",
   "metadata": {},
   "outputs": [
    {
     "name": "stdout",
     "output_type": "stream",
     "text": [
      "AUC Score :  0.937\n"
     ]
    }
   ],
   "source": [
    "# ROC Curve - Receiver Operating Characteristic curve\n",
    "# threshold\n",
    "# tpr = True Positive Rate \n",
    "# fpr = False Positive Rate\n",
    "from sklearn.metrics import roc_curve, auc, roc_auc_score\n",
    "fpr, tpr, thresholds = roc_curve(y, y_predict[:,1])\n",
    "roc_auc = auc(fpr, tpr)\n",
    "print(\"AUC Score : \", round(roc_auc, 3))"
   ]
  },
  {
   "cell_type": "code",
   "execution_count": 406,
   "id": "d1c72173",
   "metadata": {},
   "outputs": [
    {
     "data": {
      "image/png": "[encoded data removed]",
      "text/plain": [
       "<Figure size 432x288 with 1 Axes>"
      ]
     },
     "metadata": {
      "needs_background": "light"
     },
     "output_type": "display_data"
    }
   ],
   "source": [
    "# ROC Curve\n",
    "plt.xlabel('False Positive Rate (1-Specificity)')\n",
    "plt.ylabel('True Positive Rate (Sensitivity)')\n",
    "plt.title('ROC (Receiver Operating Characteristic) Curve')\n",
    "plt.plot([0, 1], [0, 1],'r--')\n",
    "plt.xlim([0, 1])\n",
    "plt.ylim([0, 1])\n",
    "plt.plot(fpr, tpr, label = 'AUC = ' + str(roc_auc), lw=6)\n",
    "plt.legend(loc=4)\n",
    "plt.show()"
   ]
  },
  {
   "cell_type": "code",
   "execution_count": 407,
   "id": "8216fbc8",
   "metadata": {},
   "outputs": [],
   "source": [
    "# With important features\n",
    "KNN_Model1 = KNN.fit(x_train1, y_train1)\n"
   ]
  },
  {
   "cell_type": "code",
   "execution_count": 408,
   "id": "94e64ebc",
   "metadata": {},
   "outputs": [
    {
     "data": {
      "text/plain": [
       "array([0, 0, 0, ..., 0, 0, 0], dtype=int8)"
      ]
     },
     "execution_count": 408,
     "metadata": {},
     "output_type": "execute_result"
    }
   ],
   "source": [
    "KNN_Pred1 = KNN_Model1.predict(x_test1)\n",
    "KNN_Pred1"
   ]
  },
  {
   "cell_type": "code",
   "execution_count": 409,
   "id": "c4001b42",
   "metadata": {},
   "outputs": [
    {
     "data": {
      "text/html": [
       "<div>\n",
       "<style scoped>\n",
       "    .dataframe tbody tr th:only-of-type {\n",
       "        vertical-align: middle;\n",
       "    }\n",
       "\n",
       "    .dataframe tbody tr th {\n",
       "        vertical-align: top;\n",
       "    }\n",
       "\n",
       "    .dataframe thead th {\n",
       "        text-align: right;\n",
       "    }\n",
       "</style>\n",
       "<table border=\"1\" class=\"dataframe\">\n",
       "  <thead>\n",
       "    <tr style=\"text-align: right;\">\n",
       "      <th>Predicted</th>\n",
       "      <th>0</th>\n",
       "      <th>1</th>\n",
       "      <th>All</th>\n",
       "    </tr>\n",
       "    <tr>\n",
       "      <th>Actual</th>\n",
       "      <th></th>\n",
       "      <th></th>\n",
       "      <th></th>\n",
       "    </tr>\n",
       "  </thead>\n",
       "  <tbody>\n",
       "    <tr>\n",
       "      <th>0</th>\n",
       "      <td>2483</td>\n",
       "      <td>486</td>\n",
       "      <td>2969</td>\n",
       "    </tr>\n",
       "    <tr>\n",
       "      <th>1</th>\n",
       "      <td>462</td>\n",
       "      <td>2512</td>\n",
       "      <td>2974</td>\n",
       "    </tr>\n",
       "    <tr>\n",
       "      <th>All</th>\n",
       "      <td>2945</td>\n",
       "      <td>2998</td>\n",
       "      <td>5943</td>\n",
       "    </tr>\n",
       "  </tbody>\n",
       "</table>\n",
       "</div>"
      ],
      "text/plain": [
       "Predicted     0     1   All\n",
       "Actual                     \n",
       "0          2483   486  2969\n",
       "1           462  2512  2974\n",
       "All        2945  2998  5943"
      ]
     },
     "execution_count": 409,
     "metadata": {},
     "output_type": "execute_result"
    }
   ],
   "source": [
    "pd.crosstab(y_test1, KNN_Pred1, rownames = [\"Actual\"], colnames = [\"Predicted\"], margins = True)"
   ]
  },
  {
   "cell_type": "code",
   "execution_count": 410,
   "id": "940cc5bb",
   "metadata": {},
   "outputs": [
    {
     "data": {
      "text/plain": [
       "array([[2483,  486],\n",
       "       [ 462, 2512]], dtype=int64)"
      ]
     },
     "execution_count": 410,
     "metadata": {},
     "output_type": "execute_result"
    }
   ],
   "source": [
    "confusion_matrix(y_test1, KNN_Pred1)"
   ]
  },
  {
   "cell_type": "code",
   "execution_count": 411,
   "id": "3c156635",
   "metadata": {},
   "outputs": [
    {
     "name": "stdout",
     "output_type": "stream",
     "text": [
      "              precision    recall  f1-score   support\n",
      "\n",
      "           0       0.84      0.84      0.84      2969\n",
      "           1       0.84      0.84      0.84      2974\n",
      "\n",
      "    accuracy                           0.84      5943\n",
      "   macro avg       0.84      0.84      0.84      5943\n",
      "weighted avg       0.84      0.84      0.84      5943\n",
      "\n"
     ]
    }
   ],
   "source": [
    "# classification_report\n",
    "print(classification_report(y_test1, KNN_Pred1))"
   ]
  },
  {
   "cell_type": "code",
   "execution_count": 412,
   "id": "5128cf83",
   "metadata": {},
   "outputs": [
    {
     "data": {
      "text/plain": [
       "0.8404846037354872"
      ]
     },
     "execution_count": 412,
     "metadata": {},
     "output_type": "execute_result"
    }
   ],
   "source": [
    "# accuracy_score\n",
    "KNN_accuracy_imp = accuracy_score(y_test1, KNN_Pred1)\n",
    "KNN_accuracy_imp"
   ]
  },
  {
   "cell_type": "code",
   "execution_count": 413,
   "id": "fdeefd05",
   "metadata": {},
   "outputs": [],
   "source": [
    "# f1_score\n",
    "from sklearn.metrics import f1_score"
   ]
  },
  {
   "cell_type": "code",
   "execution_count": 414,
   "id": "634f1049",
   "metadata": {},
   "outputs": [],
   "source": [
    "# define array of actual classes\n",
    "actual1 = np.repeat([1, 0], repeats=[2969, 2974])"
   ]
  },
  {
   "cell_type": "code",
   "execution_count": 415,
   "id": "c529b312",
   "metadata": {},
   "outputs": [],
   "source": [
    "# define array of predicted classes\n",
    "pred1 = np.repeat([1, 0, 1, 0], repeats=[2483,  486, 462, 2512])\n"
   ]
  },
  {
   "cell_type": "code",
   "execution_count": 416,
   "id": "5922093d",
   "metadata": {},
   "outputs": [
    {
     "data": {
      "text/plain": [
       "0.8397024010821779"
      ]
     },
     "execution_count": 416,
     "metadata": {},
     "output_type": "execute_result"
    }
   ],
   "source": [
    "# calculate F1 score\n",
    "f1_score(actual1, pred1)"
   ]
  },
  {
   "cell_type": "code",
   "execution_count": 417,
   "id": "681b969c",
   "metadata": {},
   "outputs": [],
   "source": [
    "# AUC\n",
    "y_predict1 = KNN_Model1.predict_proba(x1)\n",
    "y_predict1[:,1]\n",
    "plt.show()"
   ]
  },
  {
   "cell_type": "code",
   "execution_count": 418,
   "id": "00aaa075",
   "metadata": {},
   "outputs": [
    {
     "name": "stdout",
     "output_type": "stream",
     "text": [
      "AUC Score :  0.952\n"
     ]
    }
   ],
   "source": [
    "# ROC Curve - Receiver Operating Characteristic curve\n",
    "# threshold\n",
    "# tpr = True Positive Rate \n",
    "# fpr = False Positive Rate\n",
    "from sklearn.metrics import roc_curve, auc, roc_auc_score\n",
    "fpr, tpr, thresholds = roc_curve(y1, y_predict1[:,1])\n",
    "roc_auc = auc(fpr, tpr)\n",
    "print(\"AUC Score : \", round(roc_auc, 3))\n"
   ]
  },
  {
   "cell_type": "code",
   "execution_count": 419,
   "id": "ca0481a1",
   "metadata": {},
   "outputs": [
    {
     "data": {
      "image/png": "[encoded data removed]",
      "text/plain": [
       "<Figure size 432x288 with 1 Axes>"
      ]
     },
     "metadata": {
      "needs_background": "light"
     },
     "output_type": "display_data"
    }
   ],
   "source": [
    "# ROC Curve\n",
    "plt.xlabel('False Positive Rate (1-Specificity)')\n",
    "plt.ylabel('True Positive Rate (Sensitivity)')\n",
    "plt.title('ROC (Receiver Operating Characteristic) Curve')\n",
    "plt.plot([0, 1], [0, 1],'r--')\n",
    "plt.xlim([0, 1])\n",
    "plt.ylim([0, 1])\n",
    "plt.plot(fpr, tpr, label = 'AUC = ' + str(roc_auc), lw=6)\n",
    "plt.legend(loc=4)\n",
    "plt.show()"
   ]
  },
  {
   "cell_type": "markdown",
   "id": "263f7023",
   "metadata": {},
   "source": [
    "SVM"
   ]
  },
  {
   "cell_type": "code",
   "execution_count": 420,
   "id": "ba75eb24",
   "metadata": {},
   "outputs": [],
   "source": [
    "from sklearn.svm import SVC\n",
    "SVC = SVC(kernel = \"poly\", C = 1, gamma = 'auto', probability = True)"
   ]
  },
  {
   "cell_type": "code",
   "execution_count": 421,
   "id": "cf5c7f2f",
   "metadata": {},
   "outputs": [],
   "source": [
    "SVC_Model = SVC.fit(x_train, y_train)\n"
   ]
  },
  {
   "cell_type": "code",
   "execution_count": 422,
   "id": "1fe4205c",
   "metadata": {},
   "outputs": [
    {
     "data": {
      "text/plain": [
       "array([1, 1, 1, ..., 1, 0, 0], dtype=int8)"
      ]
     },
     "execution_count": 422,
     "metadata": {},
     "output_type": "execute_result"
    }
   ],
   "source": [
    "SVC_Pred = SVC_Model.predict(x_test)\n",
    "SVC_Pred"
   ]
  },
  {
   "cell_type": "code",
   "execution_count": 423,
   "id": "bb72cdd5",
   "metadata": {},
   "outputs": [
    {
     "data": {
      "text/html": [
       "<div>\n",
       "<style scoped>\n",
       "    .dataframe tbody tr th:only-of-type {\n",
       "        vertical-align: middle;\n",
       "    }\n",
       "\n",
       "    .dataframe tbody tr th {\n",
       "        vertical-align: top;\n",
       "    }\n",
       "\n",
       "    .dataframe thead th {\n",
       "        text-align: right;\n",
       "    }\n",
       "</style>\n",
       "<table border=\"1\" class=\"dataframe\">\n",
       "  <thead>\n",
       "    <tr style=\"text-align: right;\">\n",
       "      <th>Predicted</th>\n",
       "      <th>0</th>\n",
       "      <th>1</th>\n",
       "      <th>All</th>\n",
       "    </tr>\n",
       "    <tr>\n",
       "      <th>Actual</th>\n",
       "      <th></th>\n",
       "      <th></th>\n",
       "      <th></th>\n",
       "    </tr>\n",
       "  </thead>\n",
       "  <tbody>\n",
       "    <tr>\n",
       "      <th>0</th>\n",
       "      <td>2358</td>\n",
       "      <td>611</td>\n",
       "      <td>2969</td>\n",
       "    </tr>\n",
       "    <tr>\n",
       "      <th>1</th>\n",
       "      <td>595</td>\n",
       "      <td>2379</td>\n",
       "      <td>2974</td>\n",
       "    </tr>\n",
       "    <tr>\n",
       "      <th>All</th>\n",
       "      <td>2953</td>\n",
       "      <td>2990</td>\n",
       "      <td>5943</td>\n",
       "    </tr>\n",
       "  </tbody>\n",
       "</table>\n",
       "</div>"
      ],
      "text/plain": [
       "Predicted     0     1   All\n",
       "Actual                     \n",
       "0          2358   611  2969\n",
       "1           595  2379  2974\n",
       "All        2953  2990  5943"
      ]
     },
     "execution_count": 423,
     "metadata": {},
     "output_type": "execute_result"
    }
   ],
   "source": [
    "pd.crosstab(y_test, SVC_Pred, rownames = [\"Actual\"], colnames = [\"Predicted\"], margins = True)"
   ]
  },
  {
   "cell_type": "code",
   "execution_count": 424,
   "id": "463cf346",
   "metadata": {},
   "outputs": [
    {
     "data": {
      "text/plain": [
       "array([[2358,  611],\n",
       "       [ 595, 2379]], dtype=int64)"
      ]
     },
     "execution_count": 424,
     "metadata": {},
     "output_type": "execute_result"
    }
   ],
   "source": [
    "confusion_matrix(y_test, SVC_Pred)"
   ]
  },
  {
   "cell_type": "code",
   "execution_count": 425,
   "id": "d6615fa2",
   "metadata": {},
   "outputs": [
    {
     "name": "stdout",
     "output_type": "stream",
     "text": [
      "              precision    recall  f1-score   support\n",
      "\n",
      "           0       0.80      0.79      0.80      2969\n",
      "           1       0.80      0.80      0.80      2974\n",
      "\n",
      "    accuracy                           0.80      5943\n",
      "   macro avg       0.80      0.80      0.80      5943\n",
      "weighted avg       0.80      0.80      0.80      5943\n",
      "\n"
     ]
    }
   ],
   "source": [
    "# classification_report\n",
    "print(classification_report(y_test, SVC_Pred))"
   ]
  },
  {
   "cell_type": "code",
   "execution_count": 426,
   "id": "b4b0f413",
   "metadata": {},
   "outputs": [
    {
     "data": {
      "text/plain": [
       "0.7970721857647652"
      ]
     },
     "execution_count": 426,
     "metadata": {},
     "output_type": "execute_result"
    }
   ],
   "source": [
    "# accuracy_score\n",
    "SVM_accuracy = accuracy_score(y_test, SVC_Pred)\n",
    "SVM_accuracy"
   ]
  },
  {
   "cell_type": "code",
   "execution_count": 427,
   "id": "6fa97d95",
   "metadata": {},
   "outputs": [],
   "source": [
    "# f1_score\n",
    "from sklearn.metrics import f1_score"
   ]
  },
  {
   "cell_type": "code",
   "execution_count": 428,
   "id": "ca1fd092",
   "metadata": {},
   "outputs": [],
   "source": [
    "# define array of actual classes\n",
    "actual = np.repeat([1, 0], repeats = [2969, 2974])"
   ]
  },
  {
   "cell_type": "code",
   "execution_count": 429,
   "id": "d8075c74",
   "metadata": {},
   "outputs": [],
   "source": [
    "# define array of predicted classes\n",
    "pred = np.repeat([1, 0, 1, 0], repeats = [2358,  611, 595, 2379])"
   ]
  },
  {
   "cell_type": "code",
   "execution_count": 430,
   "id": "73373676",
   "metadata": {},
   "outputs": [
    {
     "data": {
      "text/plain": [
       "0.7963525835866262"
      ]
     },
     "execution_count": 430,
     "metadata": {},
     "output_type": "execute_result"
    }
   ],
   "source": [
    "# calculate F1 score\n",
    "f1_score(actual, pred)"
   ]
  },
  {
   "cell_type": "code",
   "execution_count": 431,
   "id": "ec25a7d4",
   "metadata": {},
   "outputs": [],
   "source": [
    "# AUC\n",
    "y_predict = SVC_Model.predict_proba(x)\n",
    "y_predict[:,1]\n",
    "plt.show()"
   ]
  },
  {
   "cell_type": "code",
   "execution_count": 432,
   "id": "a185540e",
   "metadata": {},
   "outputs": [
    {
     "name": "stdout",
     "output_type": "stream",
     "text": [
      "AUC Score :  0.88\n"
     ]
    }
   ],
   "source": [
    "# ROC Curve - Receiver Operating Characteristic curve\n",
    "# threshold\n",
    "# tpr = True Positive Rate \n",
    "# fpr = False Positive Rate\n",
    "from sklearn.metrics import roc_curve, auc, roc_auc_score\n",
    "fpr, tpr, thresholds = roc_curve(y, y_predict[:,1])\n",
    "roc_auc = auc(fpr, tpr)\n",
    "print(\"AUC Score : \", round(roc_auc, 3))\n"
   ]
  },
  {
   "cell_type": "code",
   "execution_count": 433,
   "id": "472ad8d2",
   "metadata": {},
   "outputs": [
    {
     "data": {
      "image/png": "[encoded data removed]",
      "text/plain": [
       "<Figure size 432x288 with 1 Axes>"
      ]
     },
     "metadata": {
      "needs_background": "light"
     },
     "output_type": "display_data"
    }
   ],
   "source": [
    "# ROC Curve\n",
    "plt.xlabel('False Positive Rate (1-Specificity)')\n",
    "plt.ylabel('True Positive Rate (Sensitivity)')\n",
    "plt.title('ROC (Receiver Operating Characteristic) Curve')\n",
    "plt.plot([0, 1], [0, 1],'r--')\n",
    "plt.xlim([0, 1])\n",
    "plt.ylim([0, 1])\n",
    "plt.plot(fpr, tpr, label = 'AUC = ' + str(roc_auc), lw=6)\n",
    "plt.legend(loc=4)\n",
    "plt.show()"
   ]
  },
  {
   "cell_type": "code",
   "execution_count": 434,
   "id": "9b71b6ed",
   "metadata": {},
   "outputs": [],
   "source": [
    "# With important features\n",
    "SVC_Model1 = SVC.fit(x_train1, y_train1)\n"
   ]
  },
  {
   "cell_type": "code",
   "execution_count": 435,
   "id": "895ed1cc",
   "metadata": {},
   "outputs": [
    {
     "data": {
      "text/plain": [
       "array([1, 1, 1, ..., 1, 0, 0], dtype=int8)"
      ]
     },
     "execution_count": 435,
     "metadata": {},
     "output_type": "execute_result"
    }
   ],
   "source": [
    "SVC_Pred1 = SVC_Model1.predict(x_test1)\n",
    "SVC_Pred1"
   ]
  },
  {
   "cell_type": "code",
   "execution_count": 436,
   "id": "4f9e20d2",
   "metadata": {},
   "outputs": [
    {
     "data": {
      "text/html": [
       "<div>\n",
       "<style scoped>\n",
       "    .dataframe tbody tr th:only-of-type {\n",
       "        vertical-align: middle;\n",
       "    }\n",
       "\n",
       "    .dataframe tbody tr th {\n",
       "        vertical-align: top;\n",
       "    }\n",
       "\n",
       "    .dataframe thead th {\n",
       "        text-align: right;\n",
       "    }\n",
       "</style>\n",
       "<table border=\"1\" class=\"dataframe\">\n",
       "  <thead>\n",
       "    <tr style=\"text-align: right;\">\n",
       "      <th>Predicted</th>\n",
       "      <th>0</th>\n",
       "      <th>1</th>\n",
       "      <th>All</th>\n",
       "    </tr>\n",
       "    <tr>\n",
       "      <th>Actual</th>\n",
       "      <th></th>\n",
       "      <th></th>\n",
       "      <th></th>\n",
       "    </tr>\n",
       "  </thead>\n",
       "  <tbody>\n",
       "    <tr>\n",
       "      <th>0</th>\n",
       "      <td>2258</td>\n",
       "      <td>711</td>\n",
       "      <td>2969</td>\n",
       "    </tr>\n",
       "    <tr>\n",
       "      <th>1</th>\n",
       "      <td>610</td>\n",
       "      <td>2364</td>\n",
       "      <td>2974</td>\n",
       "    </tr>\n",
       "    <tr>\n",
       "      <th>All</th>\n",
       "      <td>2868</td>\n",
       "      <td>3075</td>\n",
       "      <td>5943</td>\n",
       "    </tr>\n",
       "  </tbody>\n",
       "</table>\n",
       "</div>"
      ],
      "text/plain": [
       "Predicted     0     1   All\n",
       "Actual                     \n",
       "0          2258   711  2969\n",
       "1           610  2364  2974\n",
       "All        2868  3075  5943"
      ]
     },
     "execution_count": 436,
     "metadata": {},
     "output_type": "execute_result"
    }
   ],
   "source": [
    "# confusion_matrix\n",
    "pd.crosstab(y_test1, SVC_Pred1, rownames = [\"Actual\"], colnames = [\"Predicted\"], margins = True)"
   ]
  },
  {
   "cell_type": "code",
   "execution_count": 437,
   "id": "6080139c",
   "metadata": {},
   "outputs": [
    {
     "data": {
      "text/plain": [
       "array([[2258,  711],\n",
       "       [ 610, 2364]], dtype=int64)"
      ]
     },
     "execution_count": 437,
     "metadata": {},
     "output_type": "execute_result"
    }
   ],
   "source": [
    "confusion_matrix(y_test1, SVC_Pred1)"
   ]
  },
  {
   "cell_type": "code",
   "execution_count": 438,
   "id": "77994b20",
   "metadata": {},
   "outputs": [
    {
     "data": {
      "text/plain": [
       "0.7777216893824668"
      ]
     },
     "execution_count": 438,
     "metadata": {},
     "output_type": "execute_result"
    }
   ],
   "source": [
    "# accuracy_score\n",
    "SVM_accuracy_imp = accuracy_score(y_test1, SVC_Pred1)\n",
    "SVM_accuracy_imp"
   ]
  },
  {
   "cell_type": "code",
   "execution_count": 439,
   "id": "21100ad0",
   "metadata": {},
   "outputs": [],
   "source": [
    "# f1_score\n",
    "from sklearn.metrics import f1_score"
   ]
  },
  {
   "cell_type": "code",
   "execution_count": 440,
   "id": "d9a529bf",
   "metadata": {},
   "outputs": [],
   "source": [
    "# define array of actual classes\n",
    "actual1 = np.repeat([1, 0], repeats = [2969, 2974])\n"
   ]
  },
  {
   "cell_type": "code",
   "execution_count": 441,
   "id": "367640b2",
   "metadata": {},
   "outputs": [],
   "source": [
    "# define array of predicted classes\n",
    "pred1 = np.repeat([1, 0, 1, 0], repeats = [2258, 711, 610, 2364])\n"
   ]
  },
  {
   "cell_type": "code",
   "execution_count": 442,
   "id": "96130fc2",
   "metadata": {},
   "outputs": [
    {
     "data": {
      "text/plain": [
       "0.773685112215179"
      ]
     },
     "execution_count": 442,
     "metadata": {},
     "output_type": "execute_result"
    }
   ],
   "source": [
    "# calculate F1 score\n",
    "f1_score(actual1, pred1)"
   ]
  },
  {
   "cell_type": "code",
   "execution_count": 443,
   "id": "c2df62e8",
   "metadata": {},
   "outputs": [],
   "source": [
    "# AUC\n",
    "y_predict1 = SVC_Model1.predict_proba(x1)\n",
    "y_predict1[:,1]\n",
    "plt.show()"
   ]
  },
  {
   "cell_type": "code",
   "execution_count": 444,
   "id": "d2b15469",
   "metadata": {},
   "outputs": [
    {
     "name": "stdout",
     "output_type": "stream",
     "text": [
      "AUC Score :  0.86\n"
     ]
    }
   ],
   "source": [
    "# ROC Curve - Receiver Operating Characteristic curve\n",
    "# threshold\n",
    "# tpr = True Positive Rate \n",
    "# fpr = False Positive Rate\n",
    "from sklearn.metrics import roc_curve, auc, roc_auc_score\n",
    "fpr, tpr, thresholds = roc_curve(y1, y_predict1[:,1])\n",
    "roc_auc = auc(fpr, tpr)\n",
    "print(\"AUC Score : \", round(roc_auc, 3))\n"
   ]
  },
  {
   "cell_type": "code",
   "execution_count": 445,
   "id": "1e1ba0c5",
   "metadata": {},
   "outputs": [
    {
     "data": {
      "image/png": "[encoded data removed]",
      "text/plain": [
       "<Figure size 432x288 with 1 Axes>"
      ]
     },
     "metadata": {
      "needs_background": "light"
     },
     "output_type": "display_data"
    }
   ],
   "source": [
    "# ROC Curve\n",
    "plt.xlabel('False Positive Rate (1-Specificity)')\n",
    "plt.ylabel('True Positive Rate (Sensitivity)')\n",
    "plt.title('ROC (Receiver Operating Characteristic) Curve')\n",
    "plt.plot([0, 1], [0, 1],'r--')\n",
    "plt.xlim([0, 1])\n",
    "plt.ylim([0, 1])\n",
    "plt.plot(fpr, tpr, label = 'AUC = ' + str(roc_auc), lw=6)\n",
    "plt.legend(loc=4)\n",
    "plt.show()"
   ]
  },
  {
   "cell_type": "markdown",
   "id": "10a989fd",
   "metadata": {},
   "source": [
    "Tabulation"
   ]
  },
  {
   "cell_type": "code",
   "execution_count": 446,
   "id": "bb4014d7",
   "metadata": {},
   "outputs": [],
   "source": [
    "Accuracy_Comp_df = pd.DataFrame({'Classification Model' : ['LOG-RRG-FULL', 'LOG-REG-IMP', 'ADABOOST', 'ADABOOST-IMP', \n",
    "                                            'NAIVE-BAYES', 'NAIVE-BAYES-IMP', 'KNN', 'KNN-IMP', 'SVM', 'SVM-IMP'],\n",
    "                        'Accuracy' : [Logi_accuracy, Logi_accuracy_imp, Ada_accuracy, Ada_accuracy_imp, NB_accuracy, \n",
    "                                               NB_accuracy_imp, KNN_accuracy, KNN_accuracy_imp, SVM_accuracy, SVM_accuracy_imp]})"
   ]
  },
  {
   "cell_type": "code",
   "execution_count": 447,
   "id": "4bb56108",
   "metadata": {},
   "outputs": [
    {
     "data": {
      "text/html": [
       "<div>\n",
       "<style scoped>\n",
       "    .dataframe tbody tr th:only-of-type {\n",
       "        vertical-align: middle;\n",
       "    }\n",
       "\n",
       "    .dataframe tbody tr th {\n",
       "        vertical-align: top;\n",
       "    }\n",
       "\n",
       "    .dataframe thead th {\n",
       "        text-align: right;\n",
       "    }\n",
       "</style>\n",
       "<table border=\"1\" class=\"dataframe\">\n",
       "  <thead>\n",
       "    <tr style=\"text-align: right;\">\n",
       "      <th></th>\n",
       "      <th>Classification Model</th>\n",
       "      <th>Accuracy</th>\n",
       "    </tr>\n",
       "  </thead>\n",
       "  <tbody>\n",
       "    <tr>\n",
       "      <th>0</th>\n",
       "      <td>LOG-RRG-FULL</td>\n",
       "      <td>0.784392</td>\n",
       "    </tr>\n",
       "    <tr>\n",
       "      <th>1</th>\n",
       "      <td>LOG-REG-IMP</td>\n",
       "      <td>0.774085</td>\n",
       "    </tr>\n",
       "    <tr>\n",
       "      <th>2</th>\n",
       "      <td>ADABOOST</td>\n",
       "      <td>0.797745</td>\n",
       "    </tr>\n",
       "    <tr>\n",
       "      <th>3</th>\n",
       "      <td>ADABOOST-IMP</td>\n",
       "      <td>0.796567</td>\n",
       "    </tr>\n",
       "    <tr>\n",
       "      <th>4</th>\n",
       "      <td>NAIVE-BAYES</td>\n",
       "      <td>0.572270</td>\n",
       "    </tr>\n",
       "    <tr>\n",
       "      <th>5</th>\n",
       "      <td>NAIVE-BAYES-IMP</td>\n",
       "      <td>0.759886</td>\n",
       "    </tr>\n",
       "    <tr>\n",
       "      <th>6</th>\n",
       "      <td>KNN</td>\n",
       "      <td>0.812216</td>\n",
       "    </tr>\n",
       "    <tr>\n",
       "      <th>7</th>\n",
       "      <td>KNN-IMP</td>\n",
       "      <td>0.840485</td>\n",
       "    </tr>\n",
       "    <tr>\n",
       "      <th>8</th>\n",
       "      <td>SVM</td>\n",
       "      <td>0.797072</td>\n",
       "    </tr>\n",
       "    <tr>\n",
       "      <th>9</th>\n",
       "      <td>SVM-IMP</td>\n",
       "      <td>0.777722</td>\n",
       "    </tr>\n",
       "  </tbody>\n",
       "</table>\n",
       "</div>"
      ],
      "text/plain": [
       "  Classification Model  Accuracy\n",
       "0         LOG-RRG-FULL  0.784392\n",
       "1          LOG-REG-IMP  0.774085\n",
       "2             ADABOOST  0.797745\n",
       "3         ADABOOST-IMP  0.796567\n",
       "4          NAIVE-BAYES  0.572270\n",
       "5      NAIVE-BAYES-IMP  0.759886\n",
       "6                  KNN  0.812216\n",
       "7              KNN-IMP  0.840485\n",
       "8                  SVM  0.797072\n",
       "9              SVM-IMP  0.777722"
      ]
     },
     "execution_count": 447,
     "metadata": {},
     "output_type": "execute_result"
    }
   ],
   "source": [
    "Accuracy_Comp_df"
   ]
  },
  {
   "cell_type": "code",
   "execution_count": 448,
   "id": "750e8cf8",
   "metadata": {},
   "outputs": [],
   "source": [
    "list_acc = [Logi_accuracy, Logi_accuracy_imp, Ada_accuracy, Ada_accuracy_imp, NB_accuracy, \n",
    "            NB_accuracy_imp, KNN_accuracy, KNN_accuracy_imp, SVM_accuracy, SVM_accuracy_imp]"
   ]
  },
  {
   "cell_type": "code",
   "execution_count": 449,
   "id": "feb19af4",
   "metadata": {},
   "outputs": [],
   "source": [
    "list1 = ['LOG-RRG-FULL', 'LOG-REG-IMP', 'ADABOOST', 'ADABOOST-IMP', \n",
    "         'NAIVE-BAYES', 'NAIVE-BAYES-IMP', 'KNN', 'KNN-IMP','SVM', 'SVM-IMP']"
   ]
  },
  {
   "cell_type": "code",
   "execution_count": 450,
   "id": "c1a6b7f0",
   "metadata": {},
   "outputs": [
    {
     "data": {
      "image/png": "[encoded data removed]",
      "text/plain": [
       "<Figure size 864x576 with 1 Axes>"
      ]
     },
     "metadata": {},
     "output_type": "display_data"
    }
   ],
   "source": [
    "plt.rcParams['figure.figsize'] = (12, 8)\n",
    "sns.set_style('darkgrid')\n",
    "ax = sns.barplot(x = list1, y = list_acc, palette = 'muted', saturation = 1.5)\n",
    "plt.xlabel('Classifier Models', fontsize = 20)\n",
    "plt.ylabel('% of Accuracy', fontsize = 20)\n",
    "plt.title('Accuracy of different Classifier Models', fontsize = 20)\n",
    "plt.xticks(fontsize = 12, horizontalalignment = 'center', rotation = 90)\n",
    "plt.yticks(fontsize = 13)\n",
    "\n",
    "\n",
    "for p in ax.patches:\n",
    "    width, height = p.get_width(), p.get_height()\n",
    "    x, y = p.get_xy()\n",
    "    ax.annotate(f'{height : .2%}', (x + width/2, y + height*1.02), ha = 'center', fontsize = 'x-large')\n",
    "\n",
    "plt.show()"
   ]
  },
  {
   "cell_type": "code",
   "execution_count": 452,
   "id": "a8c8bbb9",
   "metadata": {},
   "outputs": [],
   "source": [
    "#From the above Table & Graph, We can see that KNN gave the best accuracy(84 %). So we can use the KNN for the Model Building"
   ]
  },
  {
   "cell_type": "code",
   "execution_count": null,
   "id": "f0ed19e1",
   "metadata": {},
   "outputs": [],
   "source": []
  },
  {
   "cell_type": "code",
   "execution_count": null,
   "id": "7dba8c89",
   "metadata": {},
   "outputs": [],
   "source": []
  },
  {
   "cell_type": "code",
   "execution_count": null,
   "id": "e96674a0",
   "metadata": {},
   "outputs": [],
   "source": []
  },
  {
   "cell_type": "code",
   "execution_count": null,
   "id": "7c4828c3",
   "metadata": {},
   "outputs": [],
   "source": []
  },
  {
   "cell_type": "code",
   "execution_count": null,
   "id": "8ce0fc77",
   "metadata": {},
   "outputs": [],
   "source": []
  },
  {
   "cell_type": "code",
   "execution_count": null,
   "id": "5480132f",
   "metadata": {},
   "outputs": [],
   "source": []
  },
  {
   "cell_type": "code",
   "execution_count": null,
   "id": "0ddc11bb",
   "metadata": {},
   "outputs": [],
   "source": []
  },
  {
   "cell_type": "code",
   "execution_count": null,
   "id": "9c8c2dc2",
   "metadata": {},
   "outputs": [],
   "source": []
  },
  {
   "cell_type": "code",
   "execution_count": null,
   "id": "cbe109a8",
   "metadata": {},
   "outputs": [],
   "source": []
  },
  {
   "cell_type": "code",
   "execution_count": null,
   "id": "15708326",
   "metadata": {},
   "outputs": [],
   "source": []
  },
  {
   "cell_type": "code",
   "execution_count": null,
   "id": "658664c7",
   "metadata": {},
   "outputs": [],
   "source": []
  },
  {
   "cell_type": "code",
   "execution_count": null,
   "id": "75fd5f0d",
   "metadata": {},
   "outputs": [],
   "source": []
  },
  {
   "cell_type": "code",
   "execution_count": null,
   "id": "920a7018",
   "metadata": {},
   "outputs": [],
   "source": []
  },
  {
   "cell_type": "code",
   "execution_count": null,
   "id": "da101929",
   "metadata": {},
   "outputs": [],
   "source": []
  },
  {
   "cell_type": "code",
   "execution_count": null,
   "id": "b36bab71",
   "metadata": {},
   "outputs": [],
   "source": []
  },
  {
   "cell_type": "code",
   "execution_count": null,
   "id": "0057f041",
   "metadata": {},
   "outputs": [],
   "source": []
  },
  {
   "cell_type": "code",
   "execution_count": null,
   "id": "343368e8",
   "metadata": {},
   "outputs": [],
   "source": []
  },
  {
   "cell_type": "code",
   "execution_count": null,
   "id": "28febd25",
   "metadata": {},
   "outputs": [],
   "source": []
  },
  {
   "cell_type": "code",
   "execution_count": null,
   "id": "7ea7f949",
   "metadata": {},
   "outputs": [],
   "source": []
  },
  {
   "cell_type": "code",
   "execution_count": null,
   "id": "3b988849",
   "metadata": {},
   "outputs": [],
   "source": []
  },
  {
   "cell_type": "code",
   "execution_count": null,
   "id": "57846de9",
   "metadata": {},
   "outputs": [],
   "source": []
  },
  {
   "cell_type": "code",
   "execution_count": null,
   "id": "5020f7ff",
   "metadata": {},
   "outputs": [],
   "source": []
  },
  {
   "cell_type": "code",
   "execution_count": null,
   "id": "d83baf54",
   "metadata": {},
   "outputs": [],
   "source": []
  },
  {
   "cell_type": "code",
   "execution_count": null,
   "id": "65982349",
   "metadata": {},
   "outputs": [],
   "source": []
  },
  {
   "cell_type": "code",
   "execution_count": null,
   "id": "a3b868bc",
   "metadata": {},
   "outputs": [],
   "source": []
  },
  {
   "cell_type": "code",
   "execution_count": null,
   "id": "41c796a6",
   "metadata": {},
   "outputs": [],
   "source": []
  },
  {
   "cell_type": "code",
   "execution_count": null,
   "id": "66501df5",
   "metadata": {},
   "outputs": [],
   "source": []
  },
  {
   "cell_type": "code",
   "execution_count": null,
   "id": "27ec25a8",
   "metadata": {},
   "outputs": [],
   "source": []
  },
  {
   "cell_type": "code",
   "execution_count": null,
   "id": "fbe48077",
   "metadata": {},
   "outputs": [],
   "source": []
  },
  {
   "cell_type": "code",
   "execution_count": null,
   "id": "a771a05f",
   "metadata": {},
   "outputs": [],
   "source": []
  },
  {
   "cell_type": "code",
   "execution_count": null,
   "id": "c12fef4b",
   "metadata": {},
   "outputs": [],
   "source": []
  },
  {
   "cell_type": "code",
   "execution_count": null,
   "id": "bf3e887b",
   "metadata": {},
   "outputs": [],
   "source": []
  },
  {
   "cell_type": "code",
   "execution_count": null,
   "id": "815ad21b",
   "metadata": {},
   "outputs": [],
   "source": []
  },
  {
   "cell_type": "code",
   "execution_count": null,
   "id": "706347d8",
   "metadata": {},
   "outputs": [],
   "source": []
  },
  {
   "cell_type": "code",
   "execution_count": null,
   "id": "eb5797ac",
   "metadata": {},
   "outputs": [],
   "source": []
  }
 ],
 "metadata": {
  "kernelspec": {
   "display_name": "Python 3 (ipykernel)",
   "language": "python",
   "name": "python3"
  },
  "language_info": {
   "codemirror_mode": {
    "name": "ipython",
    "version": 3
   },
   "file_extension": ".py",
   "mimetype": "text/x-python",
   "name": "python",
   "nbconvert_exporter": "python",
   "pygments_lexer": "ipython3",
   "version": "3.9.12"
  }
 },
 "nbformat": 4,
 "nbformat_minor": 5
}
